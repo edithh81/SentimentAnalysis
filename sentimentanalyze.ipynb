{
 "cells": [
  {
   "cell_type": "code",
   "execution_count": 1,
   "metadata": {},
   "outputs": [
    {
     "name": "stderr",
     "output_type": "stream",
     "text": [
      "Cloning into 'ntc-scv'...\n",
      "Updating files: 100% (11/11)\n",
      "Updating files: 100% (11/11), done.\n"
     ]
    }
   ],
   "source": [
    "!git clone https://github.com/congnghia0609/ntc-scv.git"
   ]
  },
  {
   "cell_type": "markdown",
   "metadata": {},
   "source": [
    "## Reading data"
   ]
  },
  {
   "cell_type": "code",
   "execution_count": 1,
   "metadata": {},
   "outputs": [],
   "source": [
    "import os\n",
    "import pandas as pd\n",
    "\n",
    "def load_data_from_path(folder_path):\n",
    "    examples = []\n",
    "    for label in os.listdir(folder_path):\n",
    "        full_path = os.path.join(folder_path, label)\n",
    "        for file_name in os.listdir(full_path):\n",
    "            file_path = os.path.join(full_path, file_name)\n",
    "            with open(file_path, \"r\", encoding=\"utf-8\") as f:\n",
    "                lines = f.readlines()\n",
    "            sentence = \" \".join(lines)\n",
    "            if label == \"neg\":\n",
    "                label = 0\n",
    "            if label == \"pos\":\n",
    "                label = 1\n",
    "            data = {\n",
    "                'sentence': sentence,\n",
    "                'label': label\n",
    "            }\n",
    "            examples.append(data)\n",
    "    return pd.DataFrame(examples)   \n",
    "    "
   ]
  },
  {
   "cell_type": "code",
   "execution_count": 2,
   "metadata": {},
   "outputs": [],
   "source": [
    "folder_paths = {\n",
    "    'train': './data/ntc-scv/data_train/train',\n",
    "    'valid': './data/ntc-scv/data_train/test',\n",
    "    'test': './data/ntc-scv/data_test/test'\n",
    "}\n",
    "\n",
    "train_df = load_data_from_path(folder_paths['train'])\n",
    "valid_df = load_data_from_path(folder_paths['valid'])\n",
    "test_df = load_data_from_path(folder_paths['test'])"
   ]
  },
  {
   "cell_type": "code",
   "execution_count": 3,
   "metadata": {},
   "outputs": [
    {
     "name": "stdout",
     "output_type": "stream",
     "text": [
      "<class 'pandas.core.frame.DataFrame'>\n",
      "RangeIndex: 30000 entries, 0 to 29999\n",
      "Data columns (total 2 columns):\n",
      " #   Column    Non-Null Count  Dtype \n",
      "---  ------    --------------  ----- \n",
      " 0   sentence  30000 non-null  object\n",
      " 1   label     30000 non-null  int64 \n",
      "dtypes: int64(1), object(1)\n",
      "memory usage: 468.9+ KB\n"
     ]
    }
   ],
   "source": [
    "train_df.info()"
   ]
  },
  {
   "cell_type": "code",
   "execution_count": 4,
   "metadata": {},
   "outputs": [
    {
     "data": {
      "application/vnd.microsoft.datawrangler.viewer.v0+json": {
       "columns": [
        {
         "name": "index",
         "rawType": "int64",
         "type": "integer"
        },
        {
         "name": "sentence",
         "rawType": "object",
         "type": "string"
        },
        {
         "name": "label",
         "rawType": "int64",
         "type": "integer"
        }
       ],
       "conversionMethod": "pd.DataFrame",
       "ref": "0887c186-5a5a-4edc-8bab-54e81878dd11",
       "rows": [
        [
         "0",
         "Mua có mỗi Bingsu thập_cẩm 45k mà mình f đợi hơn 20 ' . Hỏi lại thì nv tl có r nhg bảo chờ thêm 15 ' nữa \" tụi e lm liền \" .\n Mình k biết có ngon k nhg cũng muốn ăn thử . Thiết_nghĩ nv quán nên xem_lại cách pv và nc vs khách .\n",
         "0"
        ],
        [
         "1",
         "Thứ 6 nào ta cùng quẩy 💣 💣 💣\n Vuvuzela beer club chung hệ_thống Gogi_House , Daruma , Kichi kichi nên giá cũng chưa 10% VAT . Thanh_toán trước 20g hằng ngày đc giảm 30% thức_ăn . Tính ra đc giảm 20% . Cũng zui ! 😊 😊 😊\n Ngồi thư_giãn cũng ok . Thức_ăn cũng ổn . Có mấy món nguyên_liệu bên ngoài hok bik chỗ nào bán nên vô đây ăn . Cơ_mà gọi mấy món đó cũng ko có hàng 😂 😂 😂\n Cháo bồ_câu hình chụp nguyên con bồ_câu mà tìm hoài chỉ thấy phao_câu không thấy đầu bồ_câu . Hỏi e nv e chạy hỏi nhà_bếp đc trả_lời là 1 phần cháo đc tính_toán 1 lượng thịt cố_định theo gram chứ không phải nguyên con chị ơi . 😅 😅 😅\n Ps : Lần sau sẽ rủ trên 4 đứa đi quẩy để đc tặng 10 ly biaaaaaaaaaaaaaa mí đc 🍺 🍺 🍺 🍺 🍺 🍺 🍺 🍺 🍺 🍺\n",
         "0"
        ],
        [
         "2",
         "Mình đi với nhóm , tổng_cộng 4 người ăn chỉ có không tới 150k mà no luôn í . Một con cá_lóc nướng to thiệt to kèm với rau_sống , bún , bánh_tráng đồ luôn là có 90k ah , bắp giò 69k để gói cuốn bánh_tráng chung .\n Bún thêm 5k , bánh_tráng thêm 8k nữa\n Đồ_ăn rẻ , thích_hợp ăn_uống cuối tuần cho gia_đình\n Tuy_nhiên mình thấy nước_chấm không ngon , mắm_nêm có mùi gừng , ăn kỳ kỳ , cá thì nguội quá , chắc là nướng lâu rồi không hâm_nóng lại\n",
         "0"
        ],
        [
         "3",
         "nhân_viên phục_vụ không mấy tận_tình , đồ_ăn ra lâu và không đều , món cơm thịt bò nướng ngon , còn mì soba xào không được ngon cho lắm .\n",
         "0"
        ],
        [
         "4",
         "Vào đây thì hết bàn , nhưng mình vẫn ngồi đợi bình_thường để nhân_viên dọn bàn , ai_ngờ dọn xong họ cho tốp khách sau vào ngồi , còn mình thì như vô_hình bị lơ , mình cười nửa miệng rồi bước ra khỏi quán . Có_lẽ vì mình đi 1 mình nên họ ưu_tiên nhóm đông người , vì lợi_nhuận mà xem_thường khách , phục_vụ và phong_cách làm_việc quá tệ_hại , chưa ăn nhưng dù có ngon thì với cách đón_tiếp kiểu này thì mình cũng cho vào sổ_đen !\n",
         "0"
        ]
       ],
       "shape": {
        "columns": 2,
        "rows": 5
       }
      },
      "text/html": [
       "<div>\n",
       "<style scoped>\n",
       "    .dataframe tbody tr th:only-of-type {\n",
       "        vertical-align: middle;\n",
       "    }\n",
       "\n",
       "    .dataframe tbody tr th {\n",
       "        vertical-align: top;\n",
       "    }\n",
       "\n",
       "    .dataframe thead th {\n",
       "        text-align: right;\n",
       "    }\n",
       "</style>\n",
       "<table border=\"1\" class=\"dataframe\">\n",
       "  <thead>\n",
       "    <tr style=\"text-align: right;\">\n",
       "      <th></th>\n",
       "      <th>sentence</th>\n",
       "      <th>label</th>\n",
       "    </tr>\n",
       "  </thead>\n",
       "  <tbody>\n",
       "    <tr>\n",
       "      <th>0</th>\n",
       "      <td>Mua có mỗi Bingsu thập_cẩm 45k mà mình f đợi h...</td>\n",
       "      <td>0</td>\n",
       "    </tr>\n",
       "    <tr>\n",
       "      <th>1</th>\n",
       "      <td>Thứ 6 nào ta cùng quẩy 💣 💣 💣\\n Vuvuzela beer c...</td>\n",
       "      <td>0</td>\n",
       "    </tr>\n",
       "    <tr>\n",
       "      <th>2</th>\n",
       "      <td>Mình đi với nhóm , tổng_cộng 4 người ăn chỉ có...</td>\n",
       "      <td>0</td>\n",
       "    </tr>\n",
       "    <tr>\n",
       "      <th>3</th>\n",
       "      <td>nhân_viên phục_vụ không mấy tận_tình , đồ_ăn r...</td>\n",
       "      <td>0</td>\n",
       "    </tr>\n",
       "    <tr>\n",
       "      <th>4</th>\n",
       "      <td>Vào đây thì hết bàn , nhưng mình vẫn ngồi đợi ...</td>\n",
       "      <td>0</td>\n",
       "    </tr>\n",
       "  </tbody>\n",
       "</table>\n",
       "</div>"
      ],
      "text/plain": [
       "                                            sentence  label\n",
       "0  Mua có mỗi Bingsu thập_cẩm 45k mà mình f đợi h...      0\n",
       "1  Thứ 6 nào ta cùng quẩy 💣 💣 💣\\n Vuvuzela beer c...      0\n",
       "2  Mình đi với nhóm , tổng_cộng 4 người ăn chỉ có...      0\n",
       "3  nhân_viên phục_vụ không mấy tận_tình , đồ_ăn r...      0\n",
       "4  Vào đây thì hết bàn , nhưng mình vẫn ngồi đợi ...      0"
      ]
     },
     "execution_count": 4,
     "metadata": {},
     "output_type": "execute_result"
    }
   ],
   "source": [
    "train_df.head()"
   ]
  },
  {
   "cell_type": "code",
   "execution_count": 5,
   "metadata": {},
   "outputs": [
    {
     "name": "stdout",
     "output_type": "stream",
     "text": [
      "<class 'pandas.core.frame.DataFrame'>\n",
      "RangeIndex: 10000 entries, 0 to 9999\n",
      "Data columns (total 2 columns):\n",
      " #   Column    Non-Null Count  Dtype \n",
      "---  ------    --------------  ----- \n",
      " 0   sentence  10000 non-null  object\n",
      " 1   label     10000 non-null  int64 \n",
      "dtypes: int64(1), object(1)\n",
      "memory usage: 156.4+ KB\n"
     ]
    }
   ],
   "source": [
    "valid_df.info()"
   ]
  },
  {
   "cell_type": "code",
   "execution_count": 6,
   "metadata": {},
   "outputs": [
    {
     "name": "stdout",
     "output_type": "stream",
     "text": [
      "<class 'pandas.core.frame.DataFrame'>\n",
      "RangeIndex: 10000 entries, 0 to 9999\n",
      "Data columns (total 2 columns):\n",
      " #   Column    Non-Null Count  Dtype \n",
      "---  ------    --------------  ----- \n",
      " 0   sentence  10000 non-null  object\n",
      " 1   label     10000 non-null  int64 \n",
      "dtypes: int64(1), object(1)\n",
      "memory usage: 156.4+ KB\n"
     ]
    }
   ],
   "source": [
    "test_df.info()"
   ]
  },
  {
   "cell_type": "markdown",
   "metadata": {},
   "source": [
    "## EDA with full dataset"
   ]
  },
  {
   "cell_type": "markdown",
   "metadata": {},
   "source": [
    "### Dataset\n",
    "This dataset includes 50000 rows total and just 1 feature variable as `sentence`. The target variable is label with 0 as negative and 1 as positive"
   ]
  },
  {
   "cell_type": "code",
   "execution_count": 7,
   "metadata": {},
   "outputs": [
    {
     "name": "stdout",
     "output_type": "stream",
     "text": [
      "<class 'pandas.core.frame.DataFrame'>\n",
      "RangeIndex: 50000 entries, 0 to 49999\n",
      "Data columns (total 2 columns):\n",
      " #   Column    Non-Null Count  Dtype \n",
      "---  ------    --------------  ----- \n",
      " 0   sentence  50000 non-null  object\n",
      " 1   label     50000 non-null  int64 \n",
      "dtypes: int64(1), object(1)\n",
      "memory usage: 781.4+ KB\n"
     ]
    }
   ],
   "source": [
    "full_df = pd.concat([train_df, valid_df, test_df], ignore_index=True)\n",
    "full_df.info()"
   ]
  },
  {
   "cell_type": "code",
   "execution_count": 9,
   "metadata": {},
   "outputs": [
    {
     "data": {
      "application/vnd.microsoft.datawrangler.viewer.v0+json": {
       "columns": [
        {
         "name": "index",
         "rawType": "int64",
         "type": "integer"
        },
        {
         "name": "sentence",
         "rawType": "object",
         "type": "string"
        },
        {
         "name": "label",
         "rawType": "int64",
         "type": "integer"
        }
       ],
       "conversionMethod": "pd.DataFrame",
       "ref": "e897a5f8-b4fa-4cd4-90f8-c39b460ae708",
       "rows": [
        [
         "0",
         "Mua có mỗi Bingsu thập_cẩm 45k mà mình f đợi hơn 20 ' . Hỏi lại thì nv tl có r nhg bảo chờ thêm 15 ' nữa \" tụi e lm liền \" .\n Mình k biết có ngon k nhg cũng muốn ăn thử . Thiết_nghĩ nv quán nên xem_lại cách pv và nc vs khách .\n",
         "0"
        ],
        [
         "1",
         "Thứ 6 nào ta cùng quẩy 💣 💣 💣\n Vuvuzela beer club chung hệ_thống Gogi_House , Daruma , Kichi kichi nên giá cũng chưa 10% VAT . Thanh_toán trước 20g hằng ngày đc giảm 30% thức_ăn . Tính ra đc giảm 20% . Cũng zui ! 😊 😊 😊\n Ngồi thư_giãn cũng ok . Thức_ăn cũng ổn . Có mấy món nguyên_liệu bên ngoài hok bik chỗ nào bán nên vô đây ăn . Cơ_mà gọi mấy món đó cũng ko có hàng 😂 😂 😂\n Cháo bồ_câu hình chụp nguyên con bồ_câu mà tìm hoài chỉ thấy phao_câu không thấy đầu bồ_câu . Hỏi e nv e chạy hỏi nhà_bếp đc trả_lời là 1 phần cháo đc tính_toán 1 lượng thịt cố_định theo gram chứ không phải nguyên con chị ơi . 😅 😅 😅\n Ps : Lần sau sẽ rủ trên 4 đứa đi quẩy để đc tặng 10 ly biaaaaaaaaaaaaaa mí đc 🍺 🍺 🍺 🍺 🍺 🍺 🍺 🍺 🍺 🍺\n",
         "0"
        ],
        [
         "2",
         "Mình đi với nhóm , tổng_cộng 4 người ăn chỉ có không tới 150k mà no luôn í . Một con cá_lóc nướng to thiệt to kèm với rau_sống , bún , bánh_tráng đồ luôn là có 90k ah , bắp giò 69k để gói cuốn bánh_tráng chung .\n Bún thêm 5k , bánh_tráng thêm 8k nữa\n Đồ_ăn rẻ , thích_hợp ăn_uống cuối tuần cho gia_đình\n Tuy_nhiên mình thấy nước_chấm không ngon , mắm_nêm có mùi gừng , ăn kỳ kỳ , cá thì nguội quá , chắc là nướng lâu rồi không hâm_nóng lại\n",
         "0"
        ],
        [
         "3",
         "nhân_viên phục_vụ không mấy tận_tình , đồ_ăn ra lâu và không đều , món cơm thịt bò nướng ngon , còn mì soba xào không được ngon cho lắm .\n",
         "0"
        ],
        [
         "4",
         "Vào đây thì hết bàn , nhưng mình vẫn ngồi đợi bình_thường để nhân_viên dọn bàn , ai_ngờ dọn xong họ cho tốp khách sau vào ngồi , còn mình thì như vô_hình bị lơ , mình cười nửa miệng rồi bước ra khỏi quán . Có_lẽ vì mình đi 1 mình nên họ ưu_tiên nhóm đông người , vì lợi_nhuận mà xem_thường khách , phục_vụ và phong_cách làm_việc quá tệ_hại , chưa ăn nhưng dù có ngon thì với cách đón_tiếp kiểu này thì mình cũng cho vào sổ_đen !\n",
         "0"
        ]
       ],
       "shape": {
        "columns": 2,
        "rows": 5
       }
      },
      "text/html": [
       "<div>\n",
       "<style scoped>\n",
       "    .dataframe tbody tr th:only-of-type {\n",
       "        vertical-align: middle;\n",
       "    }\n",
       "\n",
       "    .dataframe tbody tr th {\n",
       "        vertical-align: top;\n",
       "    }\n",
       "\n",
       "    .dataframe thead th {\n",
       "        text-align: right;\n",
       "    }\n",
       "</style>\n",
       "<table border=\"1\" class=\"dataframe\">\n",
       "  <thead>\n",
       "    <tr style=\"text-align: right;\">\n",
       "      <th></th>\n",
       "      <th>sentence</th>\n",
       "      <th>label</th>\n",
       "    </tr>\n",
       "  </thead>\n",
       "  <tbody>\n",
       "    <tr>\n",
       "      <th>0</th>\n",
       "      <td>Mua có mỗi Bingsu thập_cẩm 45k mà mình f đợi h...</td>\n",
       "      <td>0</td>\n",
       "    </tr>\n",
       "    <tr>\n",
       "      <th>1</th>\n",
       "      <td>Thứ 6 nào ta cùng quẩy 💣 💣 💣\\n Vuvuzela beer c...</td>\n",
       "      <td>0</td>\n",
       "    </tr>\n",
       "    <tr>\n",
       "      <th>2</th>\n",
       "      <td>Mình đi với nhóm , tổng_cộng 4 người ăn chỉ có...</td>\n",
       "      <td>0</td>\n",
       "    </tr>\n",
       "    <tr>\n",
       "      <th>3</th>\n",
       "      <td>nhân_viên phục_vụ không mấy tận_tình , đồ_ăn r...</td>\n",
       "      <td>0</td>\n",
       "    </tr>\n",
       "    <tr>\n",
       "      <th>4</th>\n",
       "      <td>Vào đây thì hết bàn , nhưng mình vẫn ngồi đợi ...</td>\n",
       "      <td>0</td>\n",
       "    </tr>\n",
       "  </tbody>\n",
       "</table>\n",
       "</div>"
      ],
      "text/plain": [
       "                                            sentence  label\n",
       "0  Mua có mỗi Bingsu thập_cẩm 45k mà mình f đợi h...      0\n",
       "1  Thứ 6 nào ta cùng quẩy 💣 💣 💣\\n Vuvuzela beer c...      0\n",
       "2  Mình đi với nhóm , tổng_cộng 4 người ăn chỉ có...      0\n",
       "3  nhân_viên phục_vụ không mấy tận_tình , đồ_ăn r...      0\n",
       "4  Vào đây thì hết bàn , nhưng mình vẫn ngồi đợi ...      0"
      ]
     },
     "execution_count": 9,
     "metadata": {},
     "output_type": "execute_result"
    }
   ],
   "source": [
    "full_df.head()"
   ]
  },
  {
   "cell_type": "code",
   "execution_count": 10,
   "metadata": {},
   "outputs": [],
   "source": [
    "import numpy as np\n",
    "import matplotlib.pyplot as plt\n",
    "import seaborn as sns"
   ]
  },
  {
   "cell_type": "code",
   "execution_count": 11,
   "metadata": {},
   "outputs": [
    {
     "data": {
      "text/plain": [
       "sentence    0\n",
       "label       0\n",
       "dtype: int64"
      ]
     },
     "execution_count": 11,
     "metadata": {},
     "output_type": "execute_result"
    }
   ],
   "source": [
    "full_df.isnull().sum() # there is no missing value"
   ]
  },
  {
   "cell_type": "code",
   "execution_count": 12,
   "metadata": {},
   "outputs": [
    {
     "data": {
      "image/png": "[encoded data removed]",
      "text/plain": [
       "<Figure size 640x480 with 1 Axes>"
      ]
     },
     "metadata": {},
     "output_type": "display_data"
    }
   ],
   "source": [
    "plt.pie(full_df['label'].value_counts(), labels=['negative', 'positive'], autopct='%1.1f%%', startangle=90)\n",
    "plt.show()"
   ]
  },
  {
   "cell_type": "markdown",
   "metadata": {},
   "source": [
    "### Starting EDA section by checking how long the reviews "
   ]
  },
  {
   "cell_type": "code",
   "execution_count": 13,
   "metadata": {},
   "outputs": [],
   "source": [
    "def word_count(sentence):\n",
    "    return len(sentence.split())\n",
    "\n",
    "full_df['Word_count'] = full_df['sentence'].apply(word_count)\n",
    "full_df['Char_count'] = full_df['sentence'].apply(len)"
   ]
  },
  {
   "cell_type": "code",
   "execution_count": 17,
   "metadata": {},
   "outputs": [
    {
     "data": {
      "application/vnd.microsoft.datawrangler.viewer.v0+json": {
       "columns": [
        {
         "name": "index",
         "rawType": "int64",
         "type": "integer"
        },
        {
         "name": "sentence",
         "rawType": "object",
         "type": "string"
        },
        {
         "name": "label",
         "rawType": "int64",
         "type": "integer"
        },
        {
         "name": "Word_count",
         "rawType": "int64",
         "type": "integer"
        },
        {
         "name": "Char_count",
         "rawType": "int64",
         "type": "integer"
        }
       ],
       "conversionMethod": "pd.DataFrame",
       "ref": "384c8b44-2568-4323-a421-d67bf047824e",
       "rows": [
        [
         "0",
         "Mua có mỗi Bingsu thập_cẩm 45k mà mình f đợi hơn 20 ' . Hỏi lại thì nv tl có r nhg bảo chờ thêm 15 ' nữa \" tụi e lm liền \" .\n Mình k biết có ngon k nhg cũng muốn ăn thử . Thiết_nghĩ nv quán nên xem_lại cách pv và nc vs khách .\n",
         "0",
         "59",
         "227"
        ],
        [
         "1",
         "Thứ 6 nào ta cùng quẩy 💣 💣 💣\n Vuvuzela beer club chung hệ_thống Gogi_House , Daruma , Kichi kichi nên giá cũng chưa 10% VAT . Thanh_toán trước 20g hằng ngày đc giảm 30% thức_ăn . Tính ra đc giảm 20% . Cũng zui ! 😊 😊 😊\n Ngồi thư_giãn cũng ok . Thức_ăn cũng ổn . Có mấy món nguyên_liệu bên ngoài hok bik chỗ nào bán nên vô đây ăn . Cơ_mà gọi mấy món đó cũng ko có hàng 😂 😂 😂\n Cháo bồ_câu hình chụp nguyên con bồ_câu mà tìm hoài chỉ thấy phao_câu không thấy đầu bồ_câu . Hỏi e nv e chạy hỏi nhà_bếp đc trả_lời là 1 phần cháo đc tính_toán 1 lượng thịt cố_định theo gram chứ không phải nguyên con chị ơi . 😅 😅 😅\n Ps : Lần sau sẽ rủ trên 4 đứa đi quẩy để đc tặng 10 ly biaaaaaaaaaaaaaa mí đc 🍺 🍺 🍺 🍺 🍺 🍺 🍺 🍺 🍺 🍺\n",
         "0",
         "165",
         "706"
        ],
        [
         "2",
         "Mình đi với nhóm , tổng_cộng 4 người ăn chỉ có không tới 150k mà no luôn í . Một con cá_lóc nướng to thiệt to kèm với rau_sống , bún , bánh_tráng đồ luôn là có 90k ah , bắp giò 69k để gói cuốn bánh_tráng chung .\n Bún thêm 5k , bánh_tráng thêm 8k nữa\n Đồ_ăn rẻ , thích_hợp ăn_uống cuối tuần cho gia_đình\n Tuy_nhiên mình thấy nước_chấm không ngon , mắm_nêm có mùi gừng , ăn kỳ kỳ , cá thì nguội quá , chắc là nướng lâu rồi không hâm_nóng lại\n",
         "0",
         "95",
         "440"
        ],
        [
         "3",
         "nhân_viên phục_vụ không mấy tận_tình , đồ_ăn ra lâu và không đều , món cơm thịt bò nướng ngon , còn mì soba xào không được ngon cho lắm .\n",
         "0",
         "30",
         "138"
        ],
        [
         "4",
         "Vào đây thì hết bàn , nhưng mình vẫn ngồi đợi bình_thường để nhân_viên dọn bàn , ai_ngờ dọn xong họ cho tốp khách sau vào ngồi , còn mình thì như vô_hình bị lơ , mình cười nửa miệng rồi bước ra khỏi quán . Có_lẽ vì mình đi 1 mình nên họ ưu_tiên nhóm đông người , vì lợi_nhuận mà xem_thường khách , phục_vụ và phong_cách làm_việc quá tệ_hại , chưa ăn nhưng dù có ngon thì với cách đón_tiếp kiểu này thì mình cũng cho vào sổ_đen !\n",
         "0",
         "91",
         "429"
        ],
        [
         "5",
         "Hôm_nay đến aeon có ghé vào quán . Món ăn cũng khá nhưng hơi ít . Không_gian quán cũng ổn\n",
         "0",
         "20",
         "90"
        ],
        [
         "6",
         "Mình vào lúc 8h tối , cũng không đông khách lắm nhưng chờ hơi lâu . Order 4 món thì ăn giống như nhét kẽ răng ko xi nhê , phải thêm cái lẩu cá sả nữa mới tạm no . Giá hơi mắc , đồ_ăn thì hơi ít , hình_ảnh trên menu đúng mang tính_chất minh_hoạ như em phục_vụ_bàn nói . Có món gà trứng gì đó trong menu để must try mà mình kiu lên thử thấy thất_vọng vô_cùng , 5 người 5 cục thịt gà với mấy cục tỏi , không thấy cái trứng nào hết . Dĩa gỏi bò có vài lát bò còn lại rau với rau . Nói_chung tới ăn 1 lần cho_biết chứ không có ý_định quay lại .\n",
         "0",
         "126",
         "540"
        ],
        [
         "7",
         "Thức_ăn quá_đỗi bình_thường , miếng xôi của bạn mình ăn còn sạn !\n Mắc , ko xứng_đáng vs giá_cả\n",
         "0",
         "19",
         "96"
        ],
        [
         "8",
         "Mình thấy quán này rất được , nhân_viên phục_vụ nhiệt_tình , vui_vẻ , hào_phóng , khách có yêu_cầu hay thắc_mắc gì đều được trả_lời rất lịch_sự . Trong phần buffet có thức_ăn nhanh với nước là khách tự_phục_vụ nhưng với những khách đi lần đầu hoặc ngại không đi lấy thì nhân_viên rất sẵn_lòng đi lấy đùm mà không hề có phàn_nàn . Mình đã ghé quán rất nhiều lần . Vào cuối tuần quán rất đông nhưng khách cũng không phải ngồi đợi lâu . Nước lẩu của quán ngon , hợp với mình và mình thích , còn mọi người thì mình k biêt . Mọi người hãy ghé quán thưởng_thức để xem điều mình nói là đúng nhé ... chúc mọi người có bữa ăn thoải_mái ở hongkong town\n",
         "0",
         "132",
         "643"
        ],
        [
         "9",
         "Hôm_qua đi ăn cùng 7 chị ở công_ty . Quảng_cáo ăn 4 tặng 1 thì lại thành ăn 5 tặng 1 , hỏi ra thì được bảo là chủ em nói thế . Nhân_viên từ đầu đến cuối phục_vụ không 1 nụ_cười , muốn gì phải nói đi nói lại cả 3-4 lần mới có . Thịt bò 3-4 dĩa đầu_tiên còn được , sau đó đem ra toàn thị bò vụn . Tôm không tươi . Lẩu ăn cón được chứ đồ nướng thì quá tệ . Buffet quảng_cáo là bao_gồm nướng , lẩu và điểm sấm , gọi đồ điểm sấm thỉ được bảo là không có bao_gồm trong buffet , menu cũ nên chưa đổi . Yêu_cầu hoá_đơn đỏ thì bảo 3 ngày_sau đến lấy . Túm lại là làm_ăn cẩu_thả và khá gian_dối trong việc quảng_cáo .\n",
         "0",
         "141",
         "608"
        ],
        [
         "10",
         "- Điểm trừ : Mọi thứ đều được \" xắt lát mỏng \" , rau_muống thì \" dai_nhách \" , cải thảo thì bị úng : 3\n - Điểm cộng : Nước lẩu thì vừa ăn , cũng khá ngon . : )\n - Vì là phong_cách tự_phục_vụ nên không có comment gì được\n = > Lời khuyên : Chỉ nên ăn \" lót_dạ \" cho_biết thui , chớ ăn nhiu đây đói lắm à : 3\n",
         "0",
         "77",
         "306"
        ],
        [
         "11",
         "Không_gian quán ok như những quán king khác .\n Đồ_ăn ngoài kệ thì nhiều nhưng_mà đồ gì đâu không ngon . Tráng_miệng thì ok nhất . Kem ở king thì siêu ngon rồi . Rau_câu chè cũng ok .\n Về phần thịt thì_phải nói là siêu dở . Dở nhất trong những quán hq mình từng ăn luôn . Thịt nướng mà đông đá cứng ngắt . Nướng lên có nghe mùi_vị gì nữa đâu . Thấy kinh_khủng .\n Nv thì hách nhất_là ông kia . Kiu k trả_lời liền đâu . Bạn mình để quên đồ mà ở đó nói là tưởng rác mang đi giục luôn . Hâh .\n Ai k biết ăn_ở đây rồi chắc k dám ăn king ở tp nữa luôn qua . Mất_mặt cả chi_nhánh\n",
         "0",
         "131",
         "572"
        ],
        [
         "12",
         "Quán đơn_giản nhưng đặc_biệt bánh rất ngon , nước uống gía cũng ổn , phục_vụ chu_đáo và quản_lý rất thân_thiện , mỗi lần đi Aeon_Mall_Bình_Dương là mình hay ghé để ăn 1 cái bánh nhân nho khô\n",
         "0",
         "37",
         "191"
        ],
        [
         "13",
         "Món ăn khá ngon và no nhưng phục_vụ thái_độ quá kém và tệ . Không hề hài_lòng với chế_độ Refill . Mình cầm ly nước ra ngoài tầm 15 phút sau quay lại với bạn thì được thông_báo rằng nước đã đem ra ngoài xin vui_lòng order ly mới . Pó tay cái kiểu tiêu_chuẩn MỸ phục_vụ kiểu VN\n",
         "0",
         "59",
         "276"
        ],
        [
         "14",
         "Ngày_trước đồ_ăn còn khá ngon nhưng giờ mình thấy bớt nhiều rồi . Nhân_viên phục_vụ không tốt , nếu_không muốn nói là thái_độ .\n",
         "0",
         "24",
         "128"
        ],
        [
         "15",
         "Bánh của Luxe ăn được , trang_trí bắt_mắt . Vì chưa thử hết các loại nên không biết ngon hết không . Nhưng nước ở đây uống khá ngon . Không_gian thì không được rộng lắm\n",
         "0",
         "36",
         "169"
        ],
        [
         "16",
         "Lại là gần trường cả nổi_tiếng nên đến ăn thử , thực_sự thì rất ko hài_lòng : ) ) ko gian ngoài hè nhìn hơi ko ổn nhưng vì thoáng nên cũng bỏ_qua . Gọi đồ_ăn phải đợi quá lâu , mà cái bánh crepe bơ chanh đường chua ko thể tả được , như vắt mấy quả chanh vào ấy , xong lại còn đắng đắng , crepe thịt hun khói thì chẳng có gì đặc_biệt cả , sữa_chua đánh_đá thì ống hút tắc ko thể hút đc . Hôm ấy đi ăn cùng bạn mà phải bỏ hơn nửa đĩa bơ chanh đường , thực_sự thì ko ăn nổi nữa . Tóm_lại sẽ ko bao h đến lần sau !\n",
         "0",
         "122",
         "511"
        ],
        [
         "17",
         "Mình vào quán khi bên GoGi đông khách , và phải chờ , trong khi đang đói bụng , cảnh_tượng đầu_tiên khi vào quán là sàn nhà dường_như không được quét_dọn , rác , khăn giấy và đồ_ăn thừa đầy sàn , bàn ăn lau không kỹ , gọi món thì khá lâu mới có đồ_ăn , nhân_viên phục_vụ thái_độ không tận_tình , chả dám đến lần hai , không hiểu chất_lượng như thế_mà cũng được nằm trong aeon mail .\n",
         "0",
         "81",
         "383"
        ],
        [
         "18",
         "Sự_việc xảy_ra và ngày 31-10-2015 . Tôi và bạn vào nhà_hàng Đôi_Đũa_Vàng tại tầng 2 của trung_tâm thương_mại AEONMALL Bình_Dương vào lúc 20h05 . Chính_xác là tôi và bạn ngồi bàn số 6 , chúng_tôi gọi món , ngồi đợi và mọi việc bắt_đầu_từ đây . Sau khi ngồi đợi 5 phút và có phục_vụ mang menu tới cho chúng_tôi gọi món và thức uống xong chúng_tôi ngồi đợi tiếp 20 phút sau và chẳng thấy phục_vụ mang nước lên hoặc có động_thái gì cả . Sau khi thấy những khách vào sau đã có thức_ăn , tôi gọi phục_vụ để hỏi . 2 lần đầu phục_vụ nhìn xong gật_đầu , nhưng không thấy ai_lại . lần thứ 3 gọi một phục_vụ nữ thì tôi nhận được một ánh nhìn liếc qua và bỏ đi không nói_năng gì cả . lần thứ 4 gọi thì_có phục_vụ lại và tôi hỏi đã có những món tôi gọi chưa và có_thể mang nước lên trước không ? Anh nhân_viên ấy chạy vào và hỏi phía trong là “ món của khách có chưa mà_sao khách ngồi đợi lâu quá kìa ? ” ( lúc này đồng_hồ là 20h40 , chúng_tôi đã đợi 35 phút ) . 5 phút sau anh phục_vụ chạy ra và cầm theo 2 cái menu như lúc đầu và nói chúng_tôi hãy gọi món lại . Tôi hỏi lý_do và gì vậy a ? Anh_ấy trả_lời là “ cái bill anh_chị gọi món bị mất đâu rồi ” Tôi không_thể chấp_nhận được một thái_độ phục_vụ như_vậy được . Tôi tự hỏi một nhà_hàng như_vậy mà_lại có dịch_vụ tệ đến như_thế sao ? Và quan_trọng nhất_là tại_sao có_nhân viện phục_vụ có thái_độ coi_thường khách đến như_thế ? Khách hang hỏi mà chỉ có vỏn_vẹn một ánh mắt liếc nhìn lại và chẳng có lời_nói nào . Tôi muốn hỏi liệu tôi đang được phục_vụ hay_là đang đi xin ?\n",
         "0",
         "320",
         "1515"
        ],
        [
         "19",
         "1 ngày làm_việc mêt mỏi . Phi xe ra quán_ăn lẩu cá . Lần đầu_vào quán . cảm_nhận nhân_viên phục_vụ nhiệt_tình , lẩu cả khá ngon , thích nhất món tôm nướng . Mà quán có món gà xé cũng ngon phết . Điểm chê là rau kèm lẩu ít hơn so với chỗ khác .\n",
         "0",
         "56",
         "244"
        ],
        [
         "20",
         "Mình ăn bún đậu ở đây nhiều lần rồi , chủ_yếu vào buổi_trưa , cũng là giờ các anh_chị sinh_viên đến ăn rất đông nên có khi_không có chỗ mà ngồi . Bún thì ngon nhưng mình có cảm_giác càng_ngày_càng ít nem và bún . Phục_vụ cũng rất chậm nhưng có_thể thông_cảm vì khách đông .\n",
         "0",
         "56",
         "274"
        ],
        [
         "21",
         "Quán nằm trong ngõ . đối_diện hiway hà đông . bạn mình có người quen làm ở đây nên dẫn qua uống ủng_hộ\n Trang_trí quán đẹp . nhiều tầng . tất_cả 7 tầng thì_phải . có thang_máy . các phòng có điều_hòa . wifi gia_đình dùng chung cho 7 tầng nên khá yếu\n Có cả đồ_ăn và đồ uống . bánh ngọt nhìn đẹp_mắt nhưng chưa ăn thử nên không biết chất_lượng ra_sao\n Mình uống trà sữa chân trâu đặc_biệt . uống thì rất nhạt . chưa bh uống cốc trà sữa nào chán như này . pingpang ăn thì ổn . ăn bỏng ngô xong uống cốc trà sữa kia vào thì quá chán luôn . nó có vị cứ ngang_ngang chả ra làm_sao\n Trà sữa kiểu nhái dingtea . cốc bé kia_mà 20k.chắc lần sau ko uống nữa . vừa xa nhà lại chẳng ra_gì\n Lần sau sẽ quay lại quán thử các món khác rồi nhận_xét tiếp . nếu lần sau vẫn chán như này thì bỏ luôn mất\n",
         "0",
         "172",
         "785"
        ],
        [
         "22",
         "Hôm chủ_nhật , 29/11 mình đinh đến ăn vì tìm thông_tin thấy rất ngon , giá_cả hợp_lý ...\n mà đến thấy đóng_cửa mất_tiêu , sập xệ , bảng_hiệu còn rách . mọi ng cập_nhật dùm quán này còn hoạt_động hay ko vây ? : ( (\n tìm cả buổi vòng_vòng cuối_cùng đóng_cửa  \n p / s : chưa có ăn_uống đc gì nên cũng ko biết đánh_giá điểm ntn ?\n",
         "0",
         "69",
         "326"
        ],
        [
         "23",
         "Mình bít tới chỗ này do 1 bạn bình_luận so_sánh với nhà_hàng buffet nét việt , bạn ấy bảo Hương_Quê vừa rẻ vừa ngon ( bên nét việt mua voucher hotdeal là 119k ) , phục_vụ lại tốt rất ok , lên foody xem review cũng thấy đc khen nức_nở nên quyết_tâm đến ăn thử , nếu ok thì lại có thêm 1 quán ruột .\n Tới thử rồi chỉ mún la_làng , quá tệ . Hok hề có 40 món như quảng_cáo , chỉ vài món le que mà hết còn hok thèm chăm lên , nêm nếm thì quá mặn , quầy lẩu thì_có mỗi mấy cái đầu cá ương hết lên lun . Lần đầu_tiên đi ăn buffet mà về ngay sau 30p và phải ra Aeon_Mall ăn hủ tíu gõ và 2 ly trà đào vì đói .\n Thấy review tốt quá mà tới thử thì kinh_sợ hoàn_toàn . Thôi xin chừa , từ nay hok ham rẻ và tin vào review , hình_ảnh quảng_cáo câu_khách để mất tiền oan nữa . Cứ tới quán quen mà ăn , dù có mắc hơn hay rẻ hơn thì cũng tốt hơn chỗ này nhìu , 100k/người mà thua tô hủ tíu gõ 12k .\n",
         "0",
         "207",
         "882"
        ],
        [
         "24",
         "Quán nhỏ , nóng , đồ_ăn ít chịu châm khi hết , nhân_viên phục_vụ ok\n",
         "0",
         "15",
         "68"
        ],
        [
         "25",
         "Kêu ly Cafe_Latte đá ( lỗi 1 phần do mình ko coi menu và kêu vì mình hay uống Latte ) nhìn cái ly thể_loại cafe Ý rất ư là ngỡ_ngàng , nhìn ko khác_nào ly sữa_tươi bỏ thêm cafe . Càng ko ngờ hơn ly cafe bần vậy giá 77k , ko đáng 1 chút nào . Phải_chi cái ly đẹp , nhìn sang chảnh chuyên_nghiệp như đúng bản_chất cafe Ý thì bỏ tiền ra cũng thấy đáng .\n Nhân_viên nhìn mặt ai_nấy y_như mất sổ gạo .\n Trung_Nguyen từ lúc thêm dc chữ Legend , thay_đổi diện_mạo thì giá cũng thay_đổi theo . Oải chè\n",
         "0",
         "107",
         "494"
        ],
        [
         "26",
         "Không bằng tiệm cũ ngày_trước . Bgiờ ăn cơm đảo khô , chỉ hơn cơm_rang bụi 1 chút . Cơm trắng ( cơm tấm ngày_xưa tiệm cũ rất ngon ) giờ ở đây thì kém hơn .\n Mọi ng ăn hay gọi thêm sốt - sốt này ko có gì đạc biệt . Nấu bằng tương cà + nước + bột thôi\n",
         "0",
         "62",
         "250"
        ],
        [
         "27",
         "Không_gian bên đây nhỏ , ngồi hơi chán . Phục_vụ cũng bình_thường .\n",
         "0",
         "13",
         "68"
        ],
        [
         "28",
         "Qán BBQ cũ chuyển qa Lê_Hồng_Phong rồi ! ! Qán BBQ nguyễn chí thanh buôn_bán xạo lắm ! ! Tới qán gọi thịt bò mà đem ra toàn thịt heo ! ! Đi một lần là tởn tới già\n",
         "0",
         "39",
         "163"
        ],
        [
         "29",
         "Quán phù_hợp cho các bạn mê ăn vặt . Có nhiều món đa_dạng như bánh ép , bánh_tráng trứng , bánh kẹp , bò bía . Riêng mình thì thấy gần đây bánh ép không còn ngon như trước . Bánh_tráng trứng ăn ngon nhưng nếu được nướng thì ăn ngon hơn chiên .\n",
         "0",
         "54",
         "244"
        ],
        [
         "30",
         "Lâ ̀ n đâ ̀ u đi ăn ba ́ nh e ́ p huê ́ .\n Thâ ́ y la ̣ la ̣ ma ̀ cu ̃ ng re ̉ .\n 2k/ca ́ i cuô ́ n vơ ́ i rau_răm , dưa chua , dưa_leo châ ́ m nươ ́ c mă ́ m .\n Tuyê ̣ t ! ! ! !\n",
         "0",
         "64",
         "179"
        ],
        [
         "31",
         "Quán nhỏ nhưng view nhìn đẹp . Choco_Vanila ngon , Cafe_Hazenut đắng không có vị của Hazenut . Giá cũng ok ! Có dịp sẽ quay lại ...\n",
         "0",
         "28",
         "132"
        ],
        [
         "32",
         "Ba_Động là một trong những địa_điểm du_lịch ở Trà_Vinh . Bọn mình tới đây cũng nhiều lần ( vì dân miền Tây mà ) . Không_gian vẫn còn hoang_sơ nên khách không nhiều , đi chơi theo nhóm cũng thoải_mái . Vì là biển phù_sa nên nước đục và không đẹp . Chi_phí ăn_uống và sinh_hoạt ở đây cũng khá rẻ . Mình thích nhất_là những rặng dương xanh nghi_ngút dọc bờ biển , lúc chơi mệt có_thể vào tránh nắng mà không cần thuê dù . Bãi_biển khi cạn khá rộng nên thích_hợp cho những chuyến picnic , chơi thể_thao ... Nhìn_chung thì so_sánh về mặt giá_cả , phong_cảnh cũng tạm ổn . Các bạn nên đến thử 1 lần xem sao !\n",
         "0",
         "124",
         "603"
        ],
        [
         "33",
         "Ai muô ́ n ti ̀ m ra thi ̀ dâ ̃ n mi ̀ nh đi ăn đi\n",
         "0",
         "19",
         "51"
        ],
        [
         "34",
         "Mình và bạn nghe đồn quán ngon . ai dè khi ra thì quán vắng , nằm trog góc hẻm , khó kiếm , nhìn như mê_cung , giá đắt so với các quán ốc mình từng ăn , chỗ lại bẩn , ốc móng tay có mùi tanh kinh_khủng như để lâu ngày . không_gian chật_chội , mình ngồi còn ko dám ngồi , phục_vụ thì cứ hỏi như ép cung mình ăn thêm . quá tệ\n",
         "0",
         "78",
         "324"
        ],
        [
         "35",
         "Ở đây là quán ngồi vỉa_hè mà giá khá đắt , menu không có tính tiền ghi sổ rồi đưa mình check lại . bọn mình đi 4 người gọi 1 set nướng đầy_đủ không gan và lòng giá 400k . Đồ_ăn ở đây thì bình_thường ướp hơi bị mặn . Kim_chi thì muối bị sống ăn bị hăng , cải thảo vẫn còn trắng nguyên luôn , mình gọi rượu Atiso uống thử thì chả thấy vị thơm của Atiso đâu chỉ thấy uống chả khác_gì rượu bình_thường hay uống , trà đá thì nhạt như nước_lọc ý . Lúc mình gọi thêm bò nầm nướng thì ko thấy có khoai_lang , cà_tím , đậu nhật như đĩa đầu gọi hỏi nhân_viên thì họ bào hết mà lúc đó mới 8h tối chứ mấy . Gọi đĩa khoai_tây chiên ra trẻ_con ăn thì vừa non vừa ỉu .\n Nhân_viên phục_vụ được_cái niềm_nở nhưng chậm_chạp vãi .\n Bọn mình đi 4 người ăn hết tổng là 830k .\n",
         "0",
         "168",
         "755"
        ],
        [
         "36",
         "Quán bé lại còn bị che_khuất bở trạm xe bus nên dễ đi qua mà k nhìn thấy . Sữa_chua các loại ăn ngon chứ chè thì chả ra_sao . Kem xôi ăn cũng tạm\n",
         "0",
         "35",
         "146"
        ],
        [
         "37",
         "Mấy lần đi qua đều thấy đóng_cửa 😢 😢 😢 chưa có dịp thử\n",
         "0",
         "14",
         "55"
        ],
        [
         "38",
         "M thích kem xôi ngon vầ rẻ . Chè bơ thì k ngon như trc nữa . Sữa_chua quá chua như ko cho đường\n",
         "0",
         "24",
         "96"
        ],
        [
         "39",
         "Ăn_ở đây từ tuần khai_trương mà thấy bánh vừa đắt vừa không ngon , nhạt_nhẽo & hương_vị bình_thường . Combo cũng ko rẻ hơn mua_lẻ là mấy , thấy quảng_cáo rầm_rộ nên đi ăn mà ăn xong thất_vọng tràn_trề : - <\n",
         "0",
         "42",
         "207"
        ],
        [
         "40",
         "Không_gian : Chật_hẹp chỉ có vài cái bàn thôi\n Đồ uống : Cực dở luôn . Mình gọi smothie xoài nhg rõ_ràng vị xoài là của nước ép xoài đóng_hộp . Chán ko thể tả được . Bạn mình gọi vị chanh leo thì hắc hắc\n Giá : Bình_thường nhg quá đắt so với chất_lượng\n Wifi kém lắm .\n Nói_chung là mình sẽ ko bao_giờ quay lại\n",
         "0",
         "67",
         "311"
        ],
        [
         "41",
         "Ăn bi ̀ nh thươ ̀ ng . Hai đư ́ a ăn su ̉ i ca ̉ o va ̀ su ̉ i ca ̉ o my ̀ ta ̣ m đươ ̣ c vơ ́ i gia ́ 35k . Qua ́ n dơ ̀ i ra mă ̣ t tiê ̀ n đươ ̀ ng NTP nên dê ̃ ti ̀ m\n",
         "0",
         "65",
         "171"
        ],
        [
         "42",
         "Quán này đã dời địa_điểm sang 106a Phùng_Văn_Cung f7 quận Phú_Nhuận rồi nha mọi ng Giờ trong địa_chỉ cũ vẫn có quán ghi là hải_sản Bình_Ba luôn nhưng k ngon nha , hải_sản k tươi , phục_vụ chậm giá cao , ngồi trong bóng_tối nha Mọi ng lưu_ý tránh chuốc thêm bực_bội và ăn k vui nha , thanks ! ! !\n",
         "0",
         "62",
         "296"
        ],
        [
         "43",
         "Quán nằm gần trường Trấn_Biên , buổi chiều tan học đông cực . Chả lụi cũng bình_thường như những chỗ khác vì lấy chung một chỗ . Thái_độ phục_vụ kém , cô bán luôn tỏ_vẻ khó_chịu .\n",
         "0",
         "37",
         "180"
        ],
        [
         "44",
         "Đa ̃ ăn 1 lâ ̀ n ơ ̉ đây va ̀ se ̃ ca ̣ ch tơ ́ i gia ̀ . Tha ́ i đô ̣ phu ̣ c . Ụ ke ́ m : ăn hê ́ t rau hê ́ t tương xin lâ ̀ n đâ ̀ u tiên pha ̉ i đơ ̣ i lâu va ̀ pha ̉ i nhă ́ c tơ ́ i lâ ̀ n thư ́ 2 du ̀ qua ́ n ko đông . Chu ̉ qua ́ n co ́ tha ́ i đô ̣ kho ́ chi ̣ u . Nho ́ m 3 ng ăn xong vê ̀ tô ́ i bi ̣ đau quă ̣ n bu ̣ ng\n",
         "0",
         "125",
         "334"
        ],
        [
         "45",
         "Hôm_nay đi qua , vào gọi gà luộc . Ngồi nhâm_nhi lon bia một lúc thì thấy bê cơm ra . Hỏi gà đâu thì một lúc sau mới bảo hết rồi . Chán ! Cần cải_tạo cách phục_vụ của nhân_viên cho tốt hơn .\n Giá_cả thì cũng không phải là rẻ gì , tuy có niêm_yết chi_tiết . Tất_nhiên là rẻ hơn Hà_Nội hay Hạ_Long rồi . Được_cái nhà_hàng rộng_rãi , mát_mẻ ( miền núi mà ) , sạch_sẽ và tiện đường nhất trên Tiên_Yên . Nếu các bạn đi đông thì sẽ được ưu_tiên phục_vụ ( ăn nhiều 😁 ) . Nếu_không là phải gọi mỏi mồm đấy .\n Không có bánh gật_gù tại quán như các bạn Quảng ninh hay quảng_cáo đâu . Chắc món đấy làm lâu công . Món khâu nhục không dậy_mùi tỏi , chưa đạt yêu_cầu , như thịt ba_chỉ kho thường . Nếu bạn nào ăn_ở Hoành_Bồ rồi sẽ so_sánh được ngay .\n Nói_chung là có_tiếng do ở Tiên_Yên thôi . Phía dưới gần lối đi Ba_Chẽ cũng có vài nhà_hàng còn lớn hơn nhiều , xe đậu thoải_mái .\n",
         "0",
         "188",
         "869"
        ],
        [
         "46",
         "Quán cũng khá nhỏ đồ uống cũng được mèo thấy đồ_ăn là sán vô con hết r chúng_nó chổng đít quay di max phũ : ) ) ) ) ) ) ncl đến nhiều r nhung gio moi review cho quán ... . ncl.ổn\n",
         "0",
         "44",
         "179"
        ],
        [
         "47",
         "Đồ uống cũng bình_thường như bao quán khác , mèo ở đây nó cứ lờ_đờ bệnh bệnh thế_nào ấy\n",
         "0",
         "19",
         "88"
        ],
        [
         "48",
         "+ ) Ưu_điểm : Rộng_rãi khang_trang , trang_trí theo hơi_hướng Hàn_Quốc vì h cgv của HQ nên bài_trí như_vậy cũng k có j là_lạ : ) KHông gian rộng thôi rồi , thiet kế như kiểu 1 khu chờ tàu_điện_ngầm vậy : ) rộng đến_nỗi như kiểu đi mãi không hết_ý ! có hôm tìm phòng chiếu mãi mới thấy vì nó o trong góc : ) nếu_mà đến đây để chụp choẹt chắc chụp cả ngày không thấy chán mất , thích nhất_là khu có ghế sofa ngồi êm mà kể_cả ngồi bao_lâu cũng chả ai duoi . kiểu đến cgv hà đông cảm_giác thoải_mái lắm ý chả ai quản : ) ) cảm_thấy tự_do như ở nhà . Nhà_vệ_sinh đẹp các chị_em nào mà nghiện tự sướng thì có_thể vào tự sướng thoai mái nhé k ai cản đâu : ) ) cái gương trong WC nữ như kiểu bàn trang_điểm ý xinh dã_man , À ưu_điểm nữa_là khu để xe rộng_rãi bảo vẹ vui_tính , k mất phí gửi xe nên các bạn yên_tâm\n + ) Nhược_điểm : Quá xa trung_tâm thành_phố , mặc_dù vé ở đây nhiều lúc rẻ hơn ở các cgv khác   nhưng cứ nghĩ đến viec xuống đây xem phim la mình thấy ngại rồi ý : ) ) ngày thứ 4 vé đồng giá 50k nhé các bạn rẻ hơn cgv khác nên có hôm mình ham_hố xuống xem mặc_kệ trời nắng gắt thế_là vì tiết_kiệm 25k mà xem xong về ốm luôn : ) ) ) nên nếu ai nhà xa quá thì đừng cố nhé ko lại quá_cố ! Nhược_điểm nữa_là nhân_viên ở đây làm_ăn ko chuyên_nghiệp , nói_năng khó nghe , kiểu nhân_viên nói nhanh ko rõ_ràng ý , hôm đấy mình mua 3 vé xem phim chưa hỏi mình muốn lấy combo bỏng nước ko đã tự_động cho_rồi , mình nói mình ko mua combo mà_sao tự_dưng cho thì lại còn mắng lại bảo sao k tự để_ý vé thấy rẻ nthe mà k phàn_nàn luôn in vé rồi ko đổi dc nữa : ) Xong cũng hứa_hẹn bảo quản_lý ra giải_quyết rồi cũng mất_tăm_mất_tích luôn . may là lúc đấy cũng có khách muốn mua bỏng nên mình thương_lượng đc vs ng ta mua hộ cho mình phần combo : ) nhân_viên vô_trách_nhiệm và thái_độ , thật_sự làm minh thấy khó_chịu , xem mất tiền phải để khách thấy vui_vẻ chư nhưng chưa xem đã mất vui rồi , ko phải mình đánh_đồng vs toàn_bộ nhân_viên của CGV . Mình nhận_xét thẳng_thắn luôn nhân_viên CGV bên LOtte và bên Bà triệu mình tháy rất ok , phục_vụ rất đc chỉ có bên CGV hà đông là như_vậy thoi : ) chưa kể dù_sao cgv này cũng ở bên HÀ đông ko phải vung trung_tâm nên ng xem cũng khá mất lịch_sự ! Vào rạp thì nói to , nghe đt xong các thứ cảm_giác như đang xem ở rạp quốc_gia vậy ! Đúng là cái j rẻ quá cũng ko tốt ! khuyên các bạn muốn đổi gió thì đến đây xem thử 1 2 lần thôi rồi các bạn cũng sẽ cảm_nhận giống mình thôi : )\n",
         "0",
         "531",
         "2416"
        ],
        [
         "49",
         "Món ăn thì cũng ngon , khg có gì đáng nói , giá_cả bình_dân hợp túi_tiền\n quán trong hẻm rộng_rãi , xe để kế bên cũng an_tâm\n chỉ có là order xong ngồi chờ rã cả họng anh thanh_niên đẹp chai mới tàn tàn lại thông_báo món này hết ròi , kiu order món khác giùm , lại 1 khoảng thời_gian dài đằng_đẵng nữa chờ_đợi trong tuyệt_vọng , tới mức hết chuyện để 8 với nhau mới thấy có món dọn lên .\n ăn_ở đây 2 lần , lần nào cũng vậy\n",
         "0",
         "92",
         "423"
        ]
       ],
       "shape": {
        "columns": 4,
        "rows": 50000
       }
      },
      "text/html": [
       "<div>\n",
       "<style scoped>\n",
       "    .dataframe tbody tr th:only-of-type {\n",
       "        vertical-align: middle;\n",
       "    }\n",
       "\n",
       "    .dataframe tbody tr th {\n",
       "        vertical-align: top;\n",
       "    }\n",
       "\n",
       "    .dataframe thead th {\n",
       "        text-align: right;\n",
       "    }\n",
       "</style>\n",
       "<table border=\"1\" class=\"dataframe\">\n",
       "  <thead>\n",
       "    <tr style=\"text-align: right;\">\n",
       "      <th></th>\n",
       "      <th>sentence</th>\n",
       "      <th>label</th>\n",
       "      <th>Word_count</th>\n",
       "      <th>Char_count</th>\n",
       "    </tr>\n",
       "  </thead>\n",
       "  <tbody>\n",
       "    <tr>\n",
       "      <th>0</th>\n",
       "      <td>Mua có mỗi Bingsu thập_cẩm 45k mà mình f đợi h...</td>\n",
       "      <td>0</td>\n",
       "      <td>59</td>\n",
       "      <td>227</td>\n",
       "    </tr>\n",
       "    <tr>\n",
       "      <th>1</th>\n",
       "      <td>Thứ 6 nào ta cùng quẩy 💣 💣 💣\\n Vuvuzela beer c...</td>\n",
       "      <td>0</td>\n",
       "      <td>165</td>\n",
       "      <td>706</td>\n",
       "    </tr>\n",
       "    <tr>\n",
       "      <th>2</th>\n",
       "      <td>Mình đi với nhóm , tổng_cộng 4 người ăn chỉ có...</td>\n",
       "      <td>0</td>\n",
       "      <td>95</td>\n",
       "      <td>440</td>\n",
       "    </tr>\n",
       "    <tr>\n",
       "      <th>3</th>\n",
       "      <td>nhân_viên phục_vụ không mấy tận_tình , đồ_ăn r...</td>\n",
       "      <td>0</td>\n",
       "      <td>30</td>\n",
       "      <td>138</td>\n",
       "    </tr>\n",
       "    <tr>\n",
       "      <th>4</th>\n",
       "      <td>Vào đây thì hết bàn , nhưng mình vẫn ngồi đợi ...</td>\n",
       "      <td>0</td>\n",
       "      <td>91</td>\n",
       "      <td>429</td>\n",
       "    </tr>\n",
       "    <tr>\n",
       "      <th>...</th>\n",
       "      <td>...</td>\n",
       "      <td>...</td>\n",
       "      <td>...</td>\n",
       "      <td>...</td>\n",
       "    </tr>\n",
       "    <tr>\n",
       "      <th>49995</th>\n",
       "      <td>Gia re , mon an ngon , view dep va nhan vien n...</td>\n",
       "      <td>1</td>\n",
       "      <td>20</td>\n",
       "      <td>77</td>\n",
       "    </tr>\n",
       "    <tr>\n",
       "      <th>49996</th>\n",
       "      <td>Quán nằm trên đường Thạch_Thị_Thanh , dễ tìm ....</td>\n",
       "      <td>1</td>\n",
       "      <td>43</td>\n",
       "      <td>231</td>\n",
       "    </tr>\n",
       "    <tr>\n",
       "      <th>49997</th>\n",
       "      <td>Mình đã đến ăn_ở quán này vài lần . Đồ_ăn ngon...</td>\n",
       "      <td>1</td>\n",
       "      <td>64</td>\n",
       "      <td>307</td>\n",
       "    </tr>\n",
       "    <tr>\n",
       "      <th>49998</th>\n",
       "      <td>Nhà_hàng trang_trí độc_đáo .\\n Món ăn mới_lạ n...</td>\n",
       "      <td>1</td>\n",
       "      <td>18</td>\n",
       "      <td>98</td>\n",
       "    </tr>\n",
       "    <tr>\n",
       "      <th>49999</th>\n",
       "      <td>Quán có đồ uống hạt_dẻ nhất khu_vực TC . Siêu ...</td>\n",
       "      <td>1</td>\n",
       "      <td>50</td>\n",
       "      <td>183</td>\n",
       "    </tr>\n",
       "  </tbody>\n",
       "</table>\n",
       "<p>50000 rows × 4 columns</p>\n",
       "</div>"
      ],
      "text/plain": [
       "                                                sentence  label  Word_count  \\\n",
       "0      Mua có mỗi Bingsu thập_cẩm 45k mà mình f đợi h...      0          59   \n",
       "1      Thứ 6 nào ta cùng quẩy 💣 💣 💣\\n Vuvuzela beer c...      0         165   \n",
       "2      Mình đi với nhóm , tổng_cộng 4 người ăn chỉ có...      0          95   \n",
       "3      nhân_viên phục_vụ không mấy tận_tình , đồ_ăn r...      0          30   \n",
       "4      Vào đây thì hết bàn , nhưng mình vẫn ngồi đợi ...      0          91   \n",
       "...                                                  ...    ...         ...   \n",
       "49995  Gia re , mon an ngon , view dep va nhan vien n...      1          20   \n",
       "49996  Quán nằm trên đường Thạch_Thị_Thanh , dễ tìm ....      1          43   \n",
       "49997  Mình đã đến ăn_ở quán này vài lần . Đồ_ăn ngon...      1          64   \n",
       "49998  Nhà_hàng trang_trí độc_đáo .\\n Món ăn mới_lạ n...      1          18   \n",
       "49999  Quán có đồ uống hạt_dẻ nhất khu_vực TC . Siêu ...      1          50   \n",
       "\n",
       "       Char_count  \n",
       "0             227  \n",
       "1             706  \n",
       "2             440  \n",
       "3             138  \n",
       "4             429  \n",
       "...           ...  \n",
       "49995          77  \n",
       "49996         231  \n",
       "49997         307  \n",
       "49998          98  \n",
       "49999         183  \n",
       "\n",
       "[50000 rows x 4 columns]"
      ]
     },
     "execution_count": 17,
     "metadata": {},
     "output_type": "execute_result"
    }
   ],
   "source": [
    "full_df"
   ]
  },
  {
   "cell_type": "code",
   "execution_count": 18,
   "metadata": {},
   "outputs": [
    {
     "name": "stderr",
     "output_type": "stream",
     "text": [
      "[nltk_data] Downloading package punkt to\n",
      "[nltk_data]     C:\\Users\\PC\\AppData\\Roaming\\nltk_data...\n",
      "[nltk_data]   Package punkt is already up-to-date!\n"
     ]
    },
    {
     "data": {
      "text/plain": [
       "True"
      ]
     },
     "execution_count": 18,
     "metadata": {},
     "output_type": "execute_result"
    }
   ],
   "source": [
    "import nltk\n",
    "from nltk import tokenize\n",
    "nltk.download('punkt')"
   ]
  },
  {
   "cell_type": "code",
   "execution_count": 19,
   "metadata": {},
   "outputs": [],
   "source": [
    "full_df['Mean_word_length'] = full_df['Char_count'] / full_df['Word_count']"
   ]
  },
  {
   "cell_type": "code",
   "execution_count": 20,
   "metadata": {},
   "outputs": [
    {
     "data": {
      "application/vnd.microsoft.datawrangler.viewer.v0+json": {
       "columns": [
        {
         "name": "index",
         "rawType": "int64",
         "type": "integer"
        },
        {
         "name": "sentence",
         "rawType": "object",
         "type": "string"
        },
        {
         "name": "label",
         "rawType": "int64",
         "type": "integer"
        },
        {
         "name": "Word_count",
         "rawType": "int64",
         "type": "integer"
        },
        {
         "name": "Char_count",
         "rawType": "int64",
         "type": "integer"
        },
        {
         "name": "Mean_word_length",
         "rawType": "float64",
         "type": "float"
        }
       ],
       "conversionMethod": "pd.DataFrame",
       "ref": "8c0a9895-402c-40a6-98fc-cc9ada088fdd",
       "rows": [
        [
         "0",
         "Mua có mỗi Bingsu thập_cẩm 45k mà mình f đợi hơn 20 ' . Hỏi lại thì nv tl có r nhg bảo chờ thêm 15 ' nữa \" tụi e lm liền \" .\n Mình k biết có ngon k nhg cũng muốn ăn thử . Thiết_nghĩ nv quán nên xem_lại cách pv và nc vs khách .\n",
         "0",
         "59",
         "227",
         "3.847457627118644"
        ],
        [
         "1",
         "Thứ 6 nào ta cùng quẩy 💣 💣 💣\n Vuvuzela beer club chung hệ_thống Gogi_House , Daruma , Kichi kichi nên giá cũng chưa 10% VAT . Thanh_toán trước 20g hằng ngày đc giảm 30% thức_ăn . Tính ra đc giảm 20% . Cũng zui ! 😊 😊 😊\n Ngồi thư_giãn cũng ok . Thức_ăn cũng ổn . Có mấy món nguyên_liệu bên ngoài hok bik chỗ nào bán nên vô đây ăn . Cơ_mà gọi mấy món đó cũng ko có hàng 😂 😂 😂\n Cháo bồ_câu hình chụp nguyên con bồ_câu mà tìm hoài chỉ thấy phao_câu không thấy đầu bồ_câu . Hỏi e nv e chạy hỏi nhà_bếp đc trả_lời là 1 phần cháo đc tính_toán 1 lượng thịt cố_định theo gram chứ không phải nguyên con chị ơi . 😅 😅 😅\n Ps : Lần sau sẽ rủ trên 4 đứa đi quẩy để đc tặng 10 ly biaaaaaaaaaaaaaa mí đc 🍺 🍺 🍺 🍺 🍺 🍺 🍺 🍺 🍺 🍺\n",
         "0",
         "165",
         "706",
         "4.278787878787878"
        ],
        [
         "2",
         "Mình đi với nhóm , tổng_cộng 4 người ăn chỉ có không tới 150k mà no luôn í . Một con cá_lóc nướng to thiệt to kèm với rau_sống , bún , bánh_tráng đồ luôn là có 90k ah , bắp giò 69k để gói cuốn bánh_tráng chung .\n Bún thêm 5k , bánh_tráng thêm 8k nữa\n Đồ_ăn rẻ , thích_hợp ăn_uống cuối tuần cho gia_đình\n Tuy_nhiên mình thấy nước_chấm không ngon , mắm_nêm có mùi gừng , ăn kỳ kỳ , cá thì nguội quá , chắc là nướng lâu rồi không hâm_nóng lại\n",
         "0",
         "95",
         "440",
         "4.631578947368421"
        ],
        [
         "3",
         "nhân_viên phục_vụ không mấy tận_tình , đồ_ăn ra lâu và không đều , món cơm thịt bò nướng ngon , còn mì soba xào không được ngon cho lắm .\n",
         "0",
         "30",
         "138",
         "4.6"
        ],
        [
         "4",
         "Vào đây thì hết bàn , nhưng mình vẫn ngồi đợi bình_thường để nhân_viên dọn bàn , ai_ngờ dọn xong họ cho tốp khách sau vào ngồi , còn mình thì như vô_hình bị lơ , mình cười nửa miệng rồi bước ra khỏi quán . Có_lẽ vì mình đi 1 mình nên họ ưu_tiên nhóm đông người , vì lợi_nhuận mà xem_thường khách , phục_vụ và phong_cách làm_việc quá tệ_hại , chưa ăn nhưng dù có ngon thì với cách đón_tiếp kiểu này thì mình cũng cho vào sổ_đen !\n",
         "0",
         "91",
         "429",
         "4.714285714285714"
        ],
        [
         "5",
         "Hôm_nay đến aeon có ghé vào quán . Món ăn cũng khá nhưng hơi ít . Không_gian quán cũng ổn\n",
         "0",
         "20",
         "90",
         "4.5"
        ],
        [
         "6",
         "Mình vào lúc 8h tối , cũng không đông khách lắm nhưng chờ hơi lâu . Order 4 món thì ăn giống như nhét kẽ răng ko xi nhê , phải thêm cái lẩu cá sả nữa mới tạm no . Giá hơi mắc , đồ_ăn thì hơi ít , hình_ảnh trên menu đúng mang tính_chất minh_hoạ như em phục_vụ_bàn nói . Có món gà trứng gì đó trong menu để must try mà mình kiu lên thử thấy thất_vọng vô_cùng , 5 người 5 cục thịt gà với mấy cục tỏi , không thấy cái trứng nào hết . Dĩa gỏi bò có vài lát bò còn lại rau với rau . Nói_chung tới ăn 1 lần cho_biết chứ không có ý_định quay lại .\n",
         "0",
         "126",
         "540",
         "4.285714285714286"
        ],
        [
         "7",
         "Thức_ăn quá_đỗi bình_thường , miếng xôi của bạn mình ăn còn sạn !\n Mắc , ko xứng_đáng vs giá_cả\n",
         "0",
         "19",
         "96",
         "5.052631578947368"
        ],
        [
         "8",
         "Mình thấy quán này rất được , nhân_viên phục_vụ nhiệt_tình , vui_vẻ , hào_phóng , khách có yêu_cầu hay thắc_mắc gì đều được trả_lời rất lịch_sự . Trong phần buffet có thức_ăn nhanh với nước là khách tự_phục_vụ nhưng với những khách đi lần đầu hoặc ngại không đi lấy thì nhân_viên rất sẵn_lòng đi lấy đùm mà không hề có phàn_nàn . Mình đã ghé quán rất nhiều lần . Vào cuối tuần quán rất đông nhưng khách cũng không phải ngồi đợi lâu . Nước lẩu của quán ngon , hợp với mình và mình thích , còn mọi người thì mình k biêt . Mọi người hãy ghé quán thưởng_thức để xem điều mình nói là đúng nhé ... chúc mọi người có bữa ăn thoải_mái ở hongkong town\n",
         "0",
         "132",
         "643",
         "4.871212121212121"
        ],
        [
         "9",
         "Hôm_qua đi ăn cùng 7 chị ở công_ty . Quảng_cáo ăn 4 tặng 1 thì lại thành ăn 5 tặng 1 , hỏi ra thì được bảo là chủ em nói thế . Nhân_viên từ đầu đến cuối phục_vụ không 1 nụ_cười , muốn gì phải nói đi nói lại cả 3-4 lần mới có . Thịt bò 3-4 dĩa đầu_tiên còn được , sau đó đem ra toàn thị bò vụn . Tôm không tươi . Lẩu ăn cón được chứ đồ nướng thì quá tệ . Buffet quảng_cáo là bao_gồm nướng , lẩu và điểm sấm , gọi đồ điểm sấm thỉ được bảo là không có bao_gồm trong buffet , menu cũ nên chưa đổi . Yêu_cầu hoá_đơn đỏ thì bảo 3 ngày_sau đến lấy . Túm lại là làm_ăn cẩu_thả và khá gian_dối trong việc quảng_cáo .\n",
         "0",
         "141",
         "608",
         "4.3120567375886525"
        ],
        [
         "10",
         "- Điểm trừ : Mọi thứ đều được \" xắt lát mỏng \" , rau_muống thì \" dai_nhách \" , cải thảo thì bị úng : 3\n - Điểm cộng : Nước lẩu thì vừa ăn , cũng khá ngon . : )\n - Vì là phong_cách tự_phục_vụ nên không có comment gì được\n = > Lời khuyên : Chỉ nên ăn \" lót_dạ \" cho_biết thui , chớ ăn nhiu đây đói lắm à : 3\n",
         "0",
         "77",
         "306",
         "3.9740259740259742"
        ],
        [
         "11",
         "Không_gian quán ok như những quán king khác .\n Đồ_ăn ngoài kệ thì nhiều nhưng_mà đồ gì đâu không ngon . Tráng_miệng thì ok nhất . Kem ở king thì siêu ngon rồi . Rau_câu chè cũng ok .\n Về phần thịt thì_phải nói là siêu dở . Dở nhất trong những quán hq mình từng ăn luôn . Thịt nướng mà đông đá cứng ngắt . Nướng lên có nghe mùi_vị gì nữa đâu . Thấy kinh_khủng .\n Nv thì hách nhất_là ông kia . Kiu k trả_lời liền đâu . Bạn mình để quên đồ mà ở đó nói là tưởng rác mang đi giục luôn . Hâh .\n Ai k biết ăn_ở đây rồi chắc k dám ăn king ở tp nữa luôn qua . Mất_mặt cả chi_nhánh\n",
         "0",
         "131",
         "572",
         "4.366412213740458"
        ],
        [
         "12",
         "Quán đơn_giản nhưng đặc_biệt bánh rất ngon , nước uống gía cũng ổn , phục_vụ chu_đáo và quản_lý rất thân_thiện , mỗi lần đi Aeon_Mall_Bình_Dương là mình hay ghé để ăn 1 cái bánh nhân nho khô\n",
         "0",
         "37",
         "191",
         "5.162162162162162"
        ],
        [
         "13",
         "Món ăn khá ngon và no nhưng phục_vụ thái_độ quá kém và tệ . Không hề hài_lòng với chế_độ Refill . Mình cầm ly nước ra ngoài tầm 15 phút sau quay lại với bạn thì được thông_báo rằng nước đã đem ra ngoài xin vui_lòng order ly mới . Pó tay cái kiểu tiêu_chuẩn MỸ phục_vụ kiểu VN\n",
         "0",
         "59",
         "276",
         "4.677966101694915"
        ],
        [
         "14",
         "Ngày_trước đồ_ăn còn khá ngon nhưng giờ mình thấy bớt nhiều rồi . Nhân_viên phục_vụ không tốt , nếu_không muốn nói là thái_độ .\n",
         "0",
         "24",
         "128",
         "5.333333333333333"
        ],
        [
         "15",
         "Bánh của Luxe ăn được , trang_trí bắt_mắt . Vì chưa thử hết các loại nên không biết ngon hết không . Nhưng nước ở đây uống khá ngon . Không_gian thì không được rộng lắm\n",
         "0",
         "36",
         "169",
         "4.694444444444445"
        ],
        [
         "16",
         "Lại là gần trường cả nổi_tiếng nên đến ăn thử , thực_sự thì rất ko hài_lòng : ) ) ko gian ngoài hè nhìn hơi ko ổn nhưng vì thoáng nên cũng bỏ_qua . Gọi đồ_ăn phải đợi quá lâu , mà cái bánh crepe bơ chanh đường chua ko thể tả được , như vắt mấy quả chanh vào ấy , xong lại còn đắng đắng , crepe thịt hun khói thì chẳng có gì đặc_biệt cả , sữa_chua đánh_đá thì ống hút tắc ko thể hút đc . Hôm ấy đi ăn cùng bạn mà phải bỏ hơn nửa đĩa bơ chanh đường , thực_sự thì ko ăn nổi nữa . Tóm_lại sẽ ko bao h đến lần sau !\n",
         "0",
         "122",
         "511",
         "4.188524590163935"
        ],
        [
         "17",
         "Mình vào quán khi bên GoGi đông khách , và phải chờ , trong khi đang đói bụng , cảnh_tượng đầu_tiên khi vào quán là sàn nhà dường_như không được quét_dọn , rác , khăn giấy và đồ_ăn thừa đầy sàn , bàn ăn lau không kỹ , gọi món thì khá lâu mới có đồ_ăn , nhân_viên phục_vụ thái_độ không tận_tình , chả dám đến lần hai , không hiểu chất_lượng như thế_mà cũng được nằm trong aeon mail .\n",
         "0",
         "81",
         "383",
         "4.728395061728395"
        ],
        [
         "18",
         "Sự_việc xảy_ra và ngày 31-10-2015 . Tôi và bạn vào nhà_hàng Đôi_Đũa_Vàng tại tầng 2 của trung_tâm thương_mại AEONMALL Bình_Dương vào lúc 20h05 . Chính_xác là tôi và bạn ngồi bàn số 6 , chúng_tôi gọi món , ngồi đợi và mọi việc bắt_đầu_từ đây . Sau khi ngồi đợi 5 phút và có phục_vụ mang menu tới cho chúng_tôi gọi món và thức uống xong chúng_tôi ngồi đợi tiếp 20 phút sau và chẳng thấy phục_vụ mang nước lên hoặc có động_thái gì cả . Sau khi thấy những khách vào sau đã có thức_ăn , tôi gọi phục_vụ để hỏi . 2 lần đầu phục_vụ nhìn xong gật_đầu , nhưng không thấy ai_lại . lần thứ 3 gọi một phục_vụ nữ thì tôi nhận được một ánh nhìn liếc qua và bỏ đi không nói_năng gì cả . lần thứ 4 gọi thì_có phục_vụ lại và tôi hỏi đã có những món tôi gọi chưa và có_thể mang nước lên trước không ? Anh nhân_viên ấy chạy vào và hỏi phía trong là “ món của khách có chưa mà_sao khách ngồi đợi lâu quá kìa ? ” ( lúc này đồng_hồ là 20h40 , chúng_tôi đã đợi 35 phút ) . 5 phút sau anh phục_vụ chạy ra và cầm theo 2 cái menu như lúc đầu và nói chúng_tôi hãy gọi món lại . Tôi hỏi lý_do và gì vậy a ? Anh_ấy trả_lời là “ cái bill anh_chị gọi món bị mất đâu rồi ” Tôi không_thể chấp_nhận được một thái_độ phục_vụ như_vậy được . Tôi tự hỏi một nhà_hàng như_vậy mà_lại có dịch_vụ tệ đến như_thế sao ? Và quan_trọng nhất_là tại_sao có_nhân viện phục_vụ có thái_độ coi_thường khách đến như_thế ? Khách hang hỏi mà chỉ có vỏn_vẹn một ánh mắt liếc nhìn lại và chẳng có lời_nói nào . Tôi muốn hỏi liệu tôi đang được phục_vụ hay_là đang đi xin ?\n",
         "0",
         "320",
         "1515",
         "4.734375"
        ],
        [
         "19",
         "1 ngày làm_việc mêt mỏi . Phi xe ra quán_ăn lẩu cá . Lần đầu_vào quán . cảm_nhận nhân_viên phục_vụ nhiệt_tình , lẩu cả khá ngon , thích nhất món tôm nướng . Mà quán có món gà xé cũng ngon phết . Điểm chê là rau kèm lẩu ít hơn so với chỗ khác .\n",
         "0",
         "56",
         "244",
         "4.357142857142857"
        ],
        [
         "20",
         "Mình ăn bún đậu ở đây nhiều lần rồi , chủ_yếu vào buổi_trưa , cũng là giờ các anh_chị sinh_viên đến ăn rất đông nên có khi_không có chỗ mà ngồi . Bún thì ngon nhưng mình có cảm_giác càng_ngày_càng ít nem và bún . Phục_vụ cũng rất chậm nhưng có_thể thông_cảm vì khách đông .\n",
         "0",
         "56",
         "274",
         "4.892857142857143"
        ],
        [
         "21",
         "Quán nằm trong ngõ . đối_diện hiway hà đông . bạn mình có người quen làm ở đây nên dẫn qua uống ủng_hộ\n Trang_trí quán đẹp . nhiều tầng . tất_cả 7 tầng thì_phải . có thang_máy . các phòng có điều_hòa . wifi gia_đình dùng chung cho 7 tầng nên khá yếu\n Có cả đồ_ăn và đồ uống . bánh ngọt nhìn đẹp_mắt nhưng chưa ăn thử nên không biết chất_lượng ra_sao\n Mình uống trà sữa chân trâu đặc_biệt . uống thì rất nhạt . chưa bh uống cốc trà sữa nào chán như này . pingpang ăn thì ổn . ăn bỏng ngô xong uống cốc trà sữa kia vào thì quá chán luôn . nó có vị cứ ngang_ngang chả ra làm_sao\n Trà sữa kiểu nhái dingtea . cốc bé kia_mà 20k.chắc lần sau ko uống nữa . vừa xa nhà lại chẳng ra_gì\n Lần sau sẽ quay lại quán thử các món khác rồi nhận_xét tiếp . nếu lần sau vẫn chán như này thì bỏ luôn mất\n",
         "0",
         "172",
         "785",
         "4.563953488372093"
        ],
        [
         "22",
         "Hôm chủ_nhật , 29/11 mình đinh đến ăn vì tìm thông_tin thấy rất ngon , giá_cả hợp_lý ...\n mà đến thấy đóng_cửa mất_tiêu , sập xệ , bảng_hiệu còn rách . mọi ng cập_nhật dùm quán này còn hoạt_động hay ko vây ? : ( (\n tìm cả buổi vòng_vòng cuối_cùng đóng_cửa  \n p / s : chưa có ăn_uống đc gì nên cũng ko biết đánh_giá điểm ntn ?\n",
         "0",
         "69",
         "326",
         "4.72463768115942"
        ],
        [
         "23",
         "Mình bít tới chỗ này do 1 bạn bình_luận so_sánh với nhà_hàng buffet nét việt , bạn ấy bảo Hương_Quê vừa rẻ vừa ngon ( bên nét việt mua voucher hotdeal là 119k ) , phục_vụ lại tốt rất ok , lên foody xem review cũng thấy đc khen nức_nở nên quyết_tâm đến ăn thử , nếu ok thì lại có thêm 1 quán ruột .\n Tới thử rồi chỉ mún la_làng , quá tệ . Hok hề có 40 món như quảng_cáo , chỉ vài món le que mà hết còn hok thèm chăm lên , nêm nếm thì quá mặn , quầy lẩu thì_có mỗi mấy cái đầu cá ương hết lên lun . Lần đầu_tiên đi ăn buffet mà về ngay sau 30p và phải ra Aeon_Mall ăn hủ tíu gõ và 2 ly trà đào vì đói .\n Thấy review tốt quá mà tới thử thì kinh_sợ hoàn_toàn . Thôi xin chừa , từ nay hok ham rẻ và tin vào review , hình_ảnh quảng_cáo câu_khách để mất tiền oan nữa . Cứ tới quán quen mà ăn , dù có mắc hơn hay rẻ hơn thì cũng tốt hơn chỗ này nhìu , 100k/người mà thua tô hủ tíu gõ 12k .\n",
         "0",
         "207",
         "882",
         "4.260869565217392"
        ],
        [
         "24",
         "Quán nhỏ , nóng , đồ_ăn ít chịu châm khi hết , nhân_viên phục_vụ ok\n",
         "0",
         "15",
         "68",
         "4.533333333333333"
        ],
        [
         "25",
         "Kêu ly Cafe_Latte đá ( lỗi 1 phần do mình ko coi menu và kêu vì mình hay uống Latte ) nhìn cái ly thể_loại cafe Ý rất ư là ngỡ_ngàng , nhìn ko khác_nào ly sữa_tươi bỏ thêm cafe . Càng ko ngờ hơn ly cafe bần vậy giá 77k , ko đáng 1 chút nào . Phải_chi cái ly đẹp , nhìn sang chảnh chuyên_nghiệp như đúng bản_chất cafe Ý thì bỏ tiền ra cũng thấy đáng .\n Nhân_viên nhìn mặt ai_nấy y_như mất sổ gạo .\n Trung_Nguyen từ lúc thêm dc chữ Legend , thay_đổi diện_mạo thì giá cũng thay_đổi theo . Oải chè\n",
         "0",
         "107",
         "494",
         "4.616822429906542"
        ],
        [
         "26",
         "Không bằng tiệm cũ ngày_trước . Bgiờ ăn cơm đảo khô , chỉ hơn cơm_rang bụi 1 chút . Cơm trắng ( cơm tấm ngày_xưa tiệm cũ rất ngon ) giờ ở đây thì kém hơn .\n Mọi ng ăn hay gọi thêm sốt - sốt này ko có gì đạc biệt . Nấu bằng tương cà + nước + bột thôi\n",
         "0",
         "62",
         "250",
         "4.032258064516129"
        ],
        [
         "27",
         "Không_gian bên đây nhỏ , ngồi hơi chán . Phục_vụ cũng bình_thường .\n",
         "0",
         "13",
         "68",
         "5.230769230769231"
        ],
        [
         "28",
         "Qán BBQ cũ chuyển qa Lê_Hồng_Phong rồi ! ! Qán BBQ nguyễn chí thanh buôn_bán xạo lắm ! ! Tới qán gọi thịt bò mà đem ra toàn thịt heo ! ! Đi một lần là tởn tới già\n",
         "0",
         "39",
         "163",
         "4.17948717948718"
        ],
        [
         "29",
         "Quán phù_hợp cho các bạn mê ăn vặt . Có nhiều món đa_dạng như bánh ép , bánh_tráng trứng , bánh kẹp , bò bía . Riêng mình thì thấy gần đây bánh ép không còn ngon như trước . Bánh_tráng trứng ăn ngon nhưng nếu được nướng thì ăn ngon hơn chiên .\n",
         "0",
         "54",
         "244",
         "4.518518518518518"
        ],
        [
         "30",
         "Lâ ̀ n đâ ̀ u đi ăn ba ́ nh e ́ p huê ́ .\n Thâ ́ y la ̣ la ̣ ma ̀ cu ̃ ng re ̉ .\n 2k/ca ́ i cuô ́ n vơ ́ i rau_răm , dưa chua , dưa_leo châ ́ m nươ ́ c mă ́ m .\n Tuyê ̣ t ! ! ! !\n",
         "0",
         "64",
         "179",
         "2.796875"
        ],
        [
         "31",
         "Quán nhỏ nhưng view nhìn đẹp . Choco_Vanila ngon , Cafe_Hazenut đắng không có vị của Hazenut . Giá cũng ok ! Có dịp sẽ quay lại ...\n",
         "0",
         "28",
         "132",
         "4.714285714285714"
        ],
        [
         "32",
         "Ba_Động là một trong những địa_điểm du_lịch ở Trà_Vinh . Bọn mình tới đây cũng nhiều lần ( vì dân miền Tây mà ) . Không_gian vẫn còn hoang_sơ nên khách không nhiều , đi chơi theo nhóm cũng thoải_mái . Vì là biển phù_sa nên nước đục và không đẹp . Chi_phí ăn_uống và sinh_hoạt ở đây cũng khá rẻ . Mình thích nhất_là những rặng dương xanh nghi_ngút dọc bờ biển , lúc chơi mệt có_thể vào tránh nắng mà không cần thuê dù . Bãi_biển khi cạn khá rộng nên thích_hợp cho những chuyến picnic , chơi thể_thao ... Nhìn_chung thì so_sánh về mặt giá_cả , phong_cảnh cũng tạm ổn . Các bạn nên đến thử 1 lần xem sao !\n",
         "0",
         "124",
         "603",
         "4.862903225806452"
        ],
        [
         "33",
         "Ai muô ́ n ti ̀ m ra thi ̀ dâ ̃ n mi ̀ nh đi ăn đi\n",
         "0",
         "19",
         "51",
         "2.6842105263157894"
        ],
        [
         "34",
         "Mình và bạn nghe đồn quán ngon . ai dè khi ra thì quán vắng , nằm trog góc hẻm , khó kiếm , nhìn như mê_cung , giá đắt so với các quán ốc mình từng ăn , chỗ lại bẩn , ốc móng tay có mùi tanh kinh_khủng như để lâu ngày . không_gian chật_chội , mình ngồi còn ko dám ngồi , phục_vụ thì cứ hỏi như ép cung mình ăn thêm . quá tệ\n",
         "0",
         "78",
         "324",
         "4.153846153846154"
        ],
        [
         "35",
         "Ở đây là quán ngồi vỉa_hè mà giá khá đắt , menu không có tính tiền ghi sổ rồi đưa mình check lại . bọn mình đi 4 người gọi 1 set nướng đầy_đủ không gan và lòng giá 400k . Đồ_ăn ở đây thì bình_thường ướp hơi bị mặn . Kim_chi thì muối bị sống ăn bị hăng , cải thảo vẫn còn trắng nguyên luôn , mình gọi rượu Atiso uống thử thì chả thấy vị thơm của Atiso đâu chỉ thấy uống chả khác_gì rượu bình_thường hay uống , trà đá thì nhạt như nước_lọc ý . Lúc mình gọi thêm bò nầm nướng thì ko thấy có khoai_lang , cà_tím , đậu nhật như đĩa đầu gọi hỏi nhân_viên thì họ bào hết mà lúc đó mới 8h tối chứ mấy . Gọi đĩa khoai_tây chiên ra trẻ_con ăn thì vừa non vừa ỉu .\n Nhân_viên phục_vụ được_cái niềm_nở nhưng chậm_chạp vãi .\n Bọn mình đi 4 người ăn hết tổng là 830k .\n",
         "0",
         "168",
         "755",
         "4.494047619047619"
        ],
        [
         "36",
         "Quán bé lại còn bị che_khuất bở trạm xe bus nên dễ đi qua mà k nhìn thấy . Sữa_chua các loại ăn ngon chứ chè thì chả ra_sao . Kem xôi ăn cũng tạm\n",
         "0",
         "35",
         "146",
         "4.171428571428572"
        ],
        [
         "37",
         "Mấy lần đi qua đều thấy đóng_cửa 😢 😢 😢 chưa có dịp thử\n",
         "0",
         "14",
         "55",
         "3.9285714285714284"
        ],
        [
         "38",
         "M thích kem xôi ngon vầ rẻ . Chè bơ thì k ngon như trc nữa . Sữa_chua quá chua như ko cho đường\n",
         "0",
         "24",
         "96",
         "4.0"
        ],
        [
         "39",
         "Ăn_ở đây từ tuần khai_trương mà thấy bánh vừa đắt vừa không ngon , nhạt_nhẽo & hương_vị bình_thường . Combo cũng ko rẻ hơn mua_lẻ là mấy , thấy quảng_cáo rầm_rộ nên đi ăn mà ăn xong thất_vọng tràn_trề : - <\n",
         "0",
         "42",
         "207",
         "4.928571428571429"
        ],
        [
         "40",
         "Không_gian : Chật_hẹp chỉ có vài cái bàn thôi\n Đồ uống : Cực dở luôn . Mình gọi smothie xoài nhg rõ_ràng vị xoài là của nước ép xoài đóng_hộp . Chán ko thể tả được . Bạn mình gọi vị chanh leo thì hắc hắc\n Giá : Bình_thường nhg quá đắt so với chất_lượng\n Wifi kém lắm .\n Nói_chung là mình sẽ ko bao_giờ quay lại\n",
         "0",
         "67",
         "311",
         "4.641791044776119"
        ],
        [
         "41",
         "Ăn bi ̀ nh thươ ̀ ng . Hai đư ́ a ăn su ̉ i ca ̉ o va ̀ su ̉ i ca ̉ o my ̀ ta ̣ m đươ ̣ c vơ ́ i gia ́ 35k . Qua ́ n dơ ̀ i ra mă ̣ t tiê ̀ n đươ ̀ ng NTP nên dê ̃ ti ̀ m\n",
         "0",
         "65",
         "171",
         "2.6307692307692307"
        ],
        [
         "42",
         "Quán này đã dời địa_điểm sang 106a Phùng_Văn_Cung f7 quận Phú_Nhuận rồi nha mọi ng Giờ trong địa_chỉ cũ vẫn có quán ghi là hải_sản Bình_Ba luôn nhưng k ngon nha , hải_sản k tươi , phục_vụ chậm giá cao , ngồi trong bóng_tối nha Mọi ng lưu_ý tránh chuốc thêm bực_bội và ăn k vui nha , thanks ! ! !\n",
         "0",
         "62",
         "296",
         "4.774193548387097"
        ],
        [
         "43",
         "Quán nằm gần trường Trấn_Biên , buổi chiều tan học đông cực . Chả lụi cũng bình_thường như những chỗ khác vì lấy chung một chỗ . Thái_độ phục_vụ kém , cô bán luôn tỏ_vẻ khó_chịu .\n",
         "0",
         "37",
         "180",
         "4.864864864864865"
        ],
        [
         "44",
         "Đa ̃ ăn 1 lâ ̀ n ơ ̉ đây va ̀ se ̃ ca ̣ ch tơ ́ i gia ̀ . Tha ́ i đô ̣ phu ̣ c . Ụ ke ́ m : ăn hê ́ t rau hê ́ t tương xin lâ ̀ n đâ ̀ u tiên pha ̉ i đơ ̣ i lâu va ̀ pha ̉ i nhă ́ c tơ ́ i lâ ̀ n thư ́ 2 du ̀ qua ́ n ko đông . Chu ̉ qua ́ n co ́ tha ́ i đô ̣ kho ́ chi ̣ u . Nho ́ m 3 ng ăn xong vê ̀ tô ́ i bi ̣ đau quă ̣ n bu ̣ ng\n",
         "0",
         "125",
         "334",
         "2.672"
        ],
        [
         "45",
         "Hôm_nay đi qua , vào gọi gà luộc . Ngồi nhâm_nhi lon bia một lúc thì thấy bê cơm ra . Hỏi gà đâu thì một lúc sau mới bảo hết rồi . Chán ! Cần cải_tạo cách phục_vụ của nhân_viên cho tốt hơn .\n Giá_cả thì cũng không phải là rẻ gì , tuy có niêm_yết chi_tiết . Tất_nhiên là rẻ hơn Hà_Nội hay Hạ_Long rồi . Được_cái nhà_hàng rộng_rãi , mát_mẻ ( miền núi mà ) , sạch_sẽ và tiện đường nhất trên Tiên_Yên . Nếu các bạn đi đông thì sẽ được ưu_tiên phục_vụ ( ăn nhiều 😁 ) . Nếu_không là phải gọi mỏi mồm đấy .\n Không có bánh gật_gù tại quán như các bạn Quảng ninh hay quảng_cáo đâu . Chắc món đấy làm lâu công . Món khâu nhục không dậy_mùi tỏi , chưa đạt yêu_cầu , như thịt ba_chỉ kho thường . Nếu bạn nào ăn_ở Hoành_Bồ rồi sẽ so_sánh được ngay .\n Nói_chung là có_tiếng do ở Tiên_Yên thôi . Phía dưới gần lối đi Ba_Chẽ cũng có vài nhà_hàng còn lớn hơn nhiều , xe đậu thoải_mái .\n",
         "0",
         "188",
         "869",
         "4.622340425531915"
        ],
        [
         "46",
         "Quán cũng khá nhỏ đồ uống cũng được mèo thấy đồ_ăn là sán vô con hết r chúng_nó chổng đít quay di max phũ : ) ) ) ) ) ) ncl đến nhiều r nhung gio moi review cho quán ... . ncl.ổn\n",
         "0",
         "44",
         "179",
         "4.068181818181818"
        ],
        [
         "47",
         "Đồ uống cũng bình_thường như bao quán khác , mèo ở đây nó cứ lờ_đờ bệnh bệnh thế_nào ấy\n",
         "0",
         "19",
         "88",
         "4.631578947368421"
        ],
        [
         "48",
         "+ ) Ưu_điểm : Rộng_rãi khang_trang , trang_trí theo hơi_hướng Hàn_Quốc vì h cgv của HQ nên bài_trí như_vậy cũng k có j là_lạ : ) KHông gian rộng thôi rồi , thiet kế như kiểu 1 khu chờ tàu_điện_ngầm vậy : ) rộng đến_nỗi như kiểu đi mãi không hết_ý ! có hôm tìm phòng chiếu mãi mới thấy vì nó o trong góc : ) nếu_mà đến đây để chụp choẹt chắc chụp cả ngày không thấy chán mất , thích nhất_là khu có ghế sofa ngồi êm mà kể_cả ngồi bao_lâu cũng chả ai duoi . kiểu đến cgv hà đông cảm_giác thoải_mái lắm ý chả ai quản : ) ) cảm_thấy tự_do như ở nhà . Nhà_vệ_sinh đẹp các chị_em nào mà nghiện tự sướng thì có_thể vào tự sướng thoai mái nhé k ai cản đâu : ) ) cái gương trong WC nữ như kiểu bàn trang_điểm ý xinh dã_man , À ưu_điểm nữa_là khu để xe rộng_rãi bảo vẹ vui_tính , k mất phí gửi xe nên các bạn yên_tâm\n + ) Nhược_điểm : Quá xa trung_tâm thành_phố , mặc_dù vé ở đây nhiều lúc rẻ hơn ở các cgv khác   nhưng cứ nghĩ đến viec xuống đây xem phim la mình thấy ngại rồi ý : ) ) ngày thứ 4 vé đồng giá 50k nhé các bạn rẻ hơn cgv khác nên có hôm mình ham_hố xuống xem mặc_kệ trời nắng gắt thế_là vì tiết_kiệm 25k mà xem xong về ốm luôn : ) ) ) nên nếu ai nhà xa quá thì đừng cố nhé ko lại quá_cố ! Nhược_điểm nữa_là nhân_viên ở đây làm_ăn ko chuyên_nghiệp , nói_năng khó nghe , kiểu nhân_viên nói nhanh ko rõ_ràng ý , hôm đấy mình mua 3 vé xem phim chưa hỏi mình muốn lấy combo bỏng nước ko đã tự_động cho_rồi , mình nói mình ko mua combo mà_sao tự_dưng cho thì lại còn mắng lại bảo sao k tự để_ý vé thấy rẻ nthe mà k phàn_nàn luôn in vé rồi ko đổi dc nữa : ) Xong cũng hứa_hẹn bảo quản_lý ra giải_quyết rồi cũng mất_tăm_mất_tích luôn . may là lúc đấy cũng có khách muốn mua bỏng nên mình thương_lượng đc vs ng ta mua hộ cho mình phần combo : ) nhân_viên vô_trách_nhiệm và thái_độ , thật_sự làm minh thấy khó_chịu , xem mất tiền phải để khách thấy vui_vẻ chư nhưng chưa xem đã mất vui rồi , ko phải mình đánh_đồng vs toàn_bộ nhân_viên của CGV . Mình nhận_xét thẳng_thắn luôn nhân_viên CGV bên LOtte và bên Bà triệu mình tháy rất ok , phục_vụ rất đc chỉ có bên CGV hà đông là như_vậy thoi : ) chưa kể dù_sao cgv này cũng ở bên HÀ đông ko phải vung trung_tâm nên ng xem cũng khá mất lịch_sự ! Vào rạp thì nói to , nghe đt xong các thứ cảm_giác như đang xem ở rạp quốc_gia vậy ! Đúng là cái j rẻ quá cũng ko tốt ! khuyên các bạn muốn đổi gió thì đến đây xem thử 1 2 lần thôi rồi các bạn cũng sẽ cảm_nhận giống mình thôi : )\n",
         "0",
         "531",
         "2416",
         "4.549905838041432"
        ],
        [
         "49",
         "Món ăn thì cũng ngon , khg có gì đáng nói , giá_cả bình_dân hợp túi_tiền\n quán trong hẻm rộng_rãi , xe để kế bên cũng an_tâm\n chỉ có là order xong ngồi chờ rã cả họng anh thanh_niên đẹp chai mới tàn tàn lại thông_báo món này hết ròi , kiu order món khác giùm , lại 1 khoảng thời_gian dài đằng_đẵng nữa chờ_đợi trong tuyệt_vọng , tới mức hết chuyện để 8 với nhau mới thấy có món dọn lên .\n ăn_ở đây 2 lần , lần nào cũng vậy\n",
         "0",
         "92",
         "423",
         "4.5978260869565215"
        ]
       ],
       "shape": {
        "columns": 5,
        "rows": 50000
       }
      },
      "text/html": [
       "<div>\n",
       "<style scoped>\n",
       "    .dataframe tbody tr th:only-of-type {\n",
       "        vertical-align: middle;\n",
       "    }\n",
       "\n",
       "    .dataframe tbody tr th {\n",
       "        vertical-align: top;\n",
       "    }\n",
       "\n",
       "    .dataframe thead th {\n",
       "        text-align: right;\n",
       "    }\n",
       "</style>\n",
       "<table border=\"1\" class=\"dataframe\">\n",
       "  <thead>\n",
       "    <tr style=\"text-align: right;\">\n",
       "      <th></th>\n",
       "      <th>sentence</th>\n",
       "      <th>label</th>\n",
       "      <th>Word_count</th>\n",
       "      <th>Char_count</th>\n",
       "      <th>Mean_word_length</th>\n",
       "    </tr>\n",
       "  </thead>\n",
       "  <tbody>\n",
       "    <tr>\n",
       "      <th>0</th>\n",
       "      <td>Mua có mỗi Bingsu thập_cẩm 45k mà mình f đợi h...</td>\n",
       "      <td>0</td>\n",
       "      <td>59</td>\n",
       "      <td>227</td>\n",
       "      <td>3.847458</td>\n",
       "    </tr>\n",
       "    <tr>\n",
       "      <th>1</th>\n",
       "      <td>Thứ 6 nào ta cùng quẩy 💣 💣 💣\\n Vuvuzela beer c...</td>\n",
       "      <td>0</td>\n",
       "      <td>165</td>\n",
       "      <td>706</td>\n",
       "      <td>4.278788</td>\n",
       "    </tr>\n",
       "    <tr>\n",
       "      <th>2</th>\n",
       "      <td>Mình đi với nhóm , tổng_cộng 4 người ăn chỉ có...</td>\n",
       "      <td>0</td>\n",
       "      <td>95</td>\n",
       "      <td>440</td>\n",
       "      <td>4.631579</td>\n",
       "    </tr>\n",
       "    <tr>\n",
       "      <th>3</th>\n",
       "      <td>nhân_viên phục_vụ không mấy tận_tình , đồ_ăn r...</td>\n",
       "      <td>0</td>\n",
       "      <td>30</td>\n",
       "      <td>138</td>\n",
       "      <td>4.600000</td>\n",
       "    </tr>\n",
       "    <tr>\n",
       "      <th>4</th>\n",
       "      <td>Vào đây thì hết bàn , nhưng mình vẫn ngồi đợi ...</td>\n",
       "      <td>0</td>\n",
       "      <td>91</td>\n",
       "      <td>429</td>\n",
       "      <td>4.714286</td>\n",
       "    </tr>\n",
       "    <tr>\n",
       "      <th>...</th>\n",
       "      <td>...</td>\n",
       "      <td>...</td>\n",
       "      <td>...</td>\n",
       "      <td>...</td>\n",
       "      <td>...</td>\n",
       "    </tr>\n",
       "    <tr>\n",
       "      <th>49995</th>\n",
       "      <td>Gia re , mon an ngon , view dep va nhan vien n...</td>\n",
       "      <td>1</td>\n",
       "      <td>20</td>\n",
       "      <td>77</td>\n",
       "      <td>3.850000</td>\n",
       "    </tr>\n",
       "    <tr>\n",
       "      <th>49996</th>\n",
       "      <td>Quán nằm trên đường Thạch_Thị_Thanh , dễ tìm ....</td>\n",
       "      <td>1</td>\n",
       "      <td>43</td>\n",
       "      <td>231</td>\n",
       "      <td>5.372093</td>\n",
       "    </tr>\n",
       "    <tr>\n",
       "      <th>49997</th>\n",
       "      <td>Mình đã đến ăn_ở quán này vài lần . Đồ_ăn ngon...</td>\n",
       "      <td>1</td>\n",
       "      <td>64</td>\n",
       "      <td>307</td>\n",
       "      <td>4.796875</td>\n",
       "    </tr>\n",
       "    <tr>\n",
       "      <th>49998</th>\n",
       "      <td>Nhà_hàng trang_trí độc_đáo .\\n Món ăn mới_lạ n...</td>\n",
       "      <td>1</td>\n",
       "      <td>18</td>\n",
       "      <td>98</td>\n",
       "      <td>5.444444</td>\n",
       "    </tr>\n",
       "    <tr>\n",
       "      <th>49999</th>\n",
       "      <td>Quán có đồ uống hạt_dẻ nhất khu_vực TC . Siêu ...</td>\n",
       "      <td>1</td>\n",
       "      <td>50</td>\n",
       "      <td>183</td>\n",
       "      <td>3.660000</td>\n",
       "    </tr>\n",
       "  </tbody>\n",
       "</table>\n",
       "<p>50000 rows × 5 columns</p>\n",
       "</div>"
      ],
      "text/plain": [
       "                                                sentence  label  Word_count  \\\n",
       "0      Mua có mỗi Bingsu thập_cẩm 45k mà mình f đợi h...      0          59   \n",
       "1      Thứ 6 nào ta cùng quẩy 💣 💣 💣\\n Vuvuzela beer c...      0         165   \n",
       "2      Mình đi với nhóm , tổng_cộng 4 người ăn chỉ có...      0          95   \n",
       "3      nhân_viên phục_vụ không mấy tận_tình , đồ_ăn r...      0          30   \n",
       "4      Vào đây thì hết bàn , nhưng mình vẫn ngồi đợi ...      0          91   \n",
       "...                                                  ...    ...         ...   \n",
       "49995  Gia re , mon an ngon , view dep va nhan vien n...      1          20   \n",
       "49996  Quán nằm trên đường Thạch_Thị_Thanh , dễ tìm ....      1          43   \n",
       "49997  Mình đã đến ăn_ở quán này vài lần . Đồ_ăn ngon...      1          64   \n",
       "49998  Nhà_hàng trang_trí độc_đáo .\\n Món ăn mới_lạ n...      1          18   \n",
       "49999  Quán có đồ uống hạt_dẻ nhất khu_vực TC . Siêu ...      1          50   \n",
       "\n",
       "       Char_count  Mean_word_length  \n",
       "0             227          3.847458  \n",
       "1             706          4.278788  \n",
       "2             440          4.631579  \n",
       "3             138          4.600000  \n",
       "4             429          4.714286  \n",
       "...           ...               ...  \n",
       "49995          77          3.850000  \n",
       "49996         231          5.372093  \n",
       "49997         307          4.796875  \n",
       "49998          98          5.444444  \n",
       "49999         183          3.660000  \n",
       "\n",
       "[50000 rows x 5 columns]"
      ]
     },
     "execution_count": 20,
     "metadata": {},
     "output_type": "execute_result"
    }
   ],
   "source": [
    "full_df"
   ]
  },
  {
   "cell_type": "code",
   "execution_count": 21,
   "metadata": {},
   "outputs": [
    {
     "data": {
      "image/png": "[encoded data removed]",
      "text/plain": [
       "<Figure size 1200x600 with 1 Axes>"
      ]
     },
     "metadata": {},
     "output_type": "display_data"
    }
   ],
   "source": [
    "## Plot the distribution of word count respect to label \n",
    "plt.figure(figsize=(12, 6))\n",
    "sns.histplot(data=full_df, x='Word_count', hue='label', kde=True)\n",
    "plt.title('Distribution of word count respect to label')\n",
    "plt.show()"
   ]
  },
  {
   "cell_type": "code",
   "execution_count": 43,
   "metadata": {},
   "outputs": [
    {
     "data": {
      "image/png": "[encoded data removed]",
      "text/plain": [
       "<Figure size 1200x600 with 1 Axes>"
      ]
     },
     "metadata": {},
     "output_type": "display_data"
    }
   ],
   "source": [
    "# Plot the distribution of character count respect to label\n",
    "plt.figure(figsize=(12, 6))\n",
    "sns.histplot(data=full_df, x='Char_count', hue='label', kde=True)\n",
    "plt.title('Distribution of character count respect to label')\n",
    "plt.show()"
   ]
  },
  {
   "cell_type": "code",
   "execution_count": 23,
   "metadata": {},
   "outputs": [
    {
     "data": {
      "image/png": "[encoded data removed]",
      "text/plain": [
       "<Figure size 1200x600 with 1 Axes>"
      ]
     },
     "metadata": {},
     "output_type": "display_data"
    }
   ],
   "source": [
    "# Plot the mean word length respect to label\n",
    "plt.figure(figsize=(12, 6))\n",
    "sns.histplot(data=full_df, x='Mean_word_length', hue='label', kde=True)\n",
    "plt.title('Distribution of mean word length respect to label')\n",
    "plt.show()"
   ]
  },
  {
   "cell_type": "code",
   "execution_count": 24,
   "metadata": {},
   "outputs": [
    {
     "name": "stdout",
     "output_type": "stream",
     "text": [
      "Collecting langdetect\n",
      "  Downloading langdetect-1.0.9.tar.gz (981 kB)\n",
      "     ---------------------------------------- 0.0/981.5 kB ? eta -:--:--\n",
      "     ---------------------------------------- 0.0/981.5 kB ? eta -:--:--\n",
      "     ---------------------------------------- 0.0/981.5 kB ? eta -:--:--\n",
      "     ---------------------------------------- 0.0/981.5 kB ? eta -:--:--\n",
      "     ---------------------------------------- 0.0/981.5 kB ? eta -:--:--\n",
      "     ---------------------------------------- 0.0/981.5 kB ? eta -:--:--\n",
      "     ---------------------------------------- 0.0/981.5 kB ? eta -:--:--\n",
      "     ---------------------------------------- 0.0/981.5 kB ? eta -:--:--\n",
      "     ---------------------------------------- 0.0/981.5 kB ? eta -:--:--\n",
      "     ---------------------------------------- 0.0/981.5 kB ? eta -:--:--\n",
      "     ---------------------------------------- 0.0/981.5 kB ? eta -:--:--\n",
      "     ---------- ----------------------------- 262.1/981.5 kB ? eta -:--:--\n",
      "     ---------- ----------------------------- 262.1/981.5 kB ? eta -:--:--\n",
      "     ---------- ----------------------------- 262.1/981.5 kB ? eta -:--:--\n",
      "     ---------- ----------------------------- 262.1/981.5 kB ? eta -:--:--\n",
      "     ---------- ----------------------------- 262.1/981.5 kB ? eta -:--:--\n",
      "     ---------- ----------------------------- 262.1/981.5 kB ? eta -:--:--\n",
      "     ---------- ----------------------------- 262.1/981.5 kB ? eta -:--:--\n",
      "     ---------- ----------------------------- 262.1/981.5 kB ? eta -:--:--\n",
      "     ---------- ----------------------------- 262.1/981.5 kB ? eta -:--:--\n",
      "     ------------------- ---------------- 524.3/981.5 kB 149.8 kB/s eta 0:00:04\n",
      "     ------------------- ---------------- 524.3/981.5 kB 149.8 kB/s eta 0:00:04\n",
      "     ------------------- ---------------- 524.3/981.5 kB 149.8 kB/s eta 0:00:04\n",
      "     ------------------- ---------------- 524.3/981.5 kB 149.8 kB/s eta 0:00:04\n",
      "     ------------------- ---------------- 524.3/981.5 kB 149.8 kB/s eta 0:00:04\n",
      "     ------------------- ---------------- 524.3/981.5 kB 149.8 kB/s eta 0:00:04\n",
      "     ------------------- ---------------- 524.3/981.5 kB 149.8 kB/s eta 0:00:04\n",
      "     ---------------------------- ------- 786.4/981.5 kB 156.1 kB/s eta 0:00:02\n",
      "     ---------------------------- ------- 786.4/981.5 kB 156.1 kB/s eta 0:00:02\n",
      "     ---------------------------- ------- 786.4/981.5 kB 156.1 kB/s eta 0:00:02\n",
      "     ---------------------------- ------- 786.4/981.5 kB 156.1 kB/s eta 0:00:02\n",
      "     ---------------------------- ------- 786.4/981.5 kB 156.1 kB/s eta 0:00:02\n",
      "     ------------------------------------ 981.5/981.5 kB 162.1 kB/s eta 0:00:00\n",
      "  Preparing metadata (setup.py): started\n",
      "  Preparing metadata (setup.py): finished with status 'done'\n",
      "Requirement already satisfied: six in c:\\users\\pc\\appdata\\roaming\\python\\python312\\site-packages (from langdetect) (1.17.0)\n",
      "Building wheels for collected packages: langdetect\n",
      "  Building wheel for langdetect (setup.py): started\n",
      "  Building wheel for langdetect (setup.py): finished with status 'done'\n",
      "  Created wheel for langdetect: filename=langdetect-1.0.9-py3-none-any.whl size=993251 sha256=af4cbc98dfb8dd90486a4ca190bfc102116d2c47e2986bf4ef1da64cea89bbf9\n",
      "  Stored in directory: c:\\users\\pc\\appdata\\local\\pip\\cache\\wheels\\c1\\67\\88\\e844b5b022812e15a52e4eaa38a1e709e99f06f6639d7e3ba7\n",
      "Successfully built langdetect\n",
      "Installing collected packages: langdetect\n",
      "Successfully installed langdetect-1.0.9\n"
     ]
    }
   ],
   "source": [
    "!pip install langdetect\n",
    "from langdetect import detect\n"
   ]
  },
  {
   "cell_type": "markdown",
   "metadata": {},
   "source": [
    "### Explore how many languages exists in dataset"
   ]
  },
  {
   "cell_type": "code",
   "execution_count": 28,
   "metadata": {},
   "outputs": [],
   "source": [
    "full_df['language'] = full_df['sentence'].apply(detect)\n",
    "languages = full_df['language'].nunique()"
   ]
  },
  {
   "cell_type": "code",
   "execution_count": 27,
   "metadata": {},
   "outputs": [
    {
     "name": "stdout",
     "output_type": "stream",
     "text": [
      "There are 15 languages in the dataset\n"
     ]
    }
   ],
   "source": [
    "print(f'There are {languages} languages in the dataset')"
   ]
  },
  {
   "cell_type": "markdown",
   "metadata": {},
   "source": [
    "### As seen, there are 15 distinct languages detected, we are working on Vietnammese dataset so we need to delete all reviews which is not Vietnammese"
   ]
  },
  {
   "cell_type": "code",
   "execution_count": 29,
   "metadata": {},
   "outputs": [
    {
     "name": "stdout",
     "output_type": "stream",
     "text": [
      "Collecting langid\n",
      "  Downloading langid-1.1.6.tar.gz (1.9 MB)\n",
      "     ---------------------------------------- 0.0/1.9 MB ? eta -:--:--\n",
      "     ---------------------------------------- 0.0/1.9 MB ? eta -:--:--\n",
      "     ---------------------------------------- 0.0/1.9 MB ? eta -:--:--\n",
      "     ---------------------------------------- 0.0/1.9 MB ? eta -:--:--\n",
      "     ---------------------------------------- 0.0/1.9 MB ? eta -:--:--\n",
      "     ---------------------------------------- 0.0/1.9 MB ? eta -:--:--\n",
      "     ---------------------------------------- 0.0/1.9 MB ? eta -:--:--\n",
      "     ---------------------------------------- 0.0/1.9 MB ? eta -:--:--\n",
      "     ---------------------------------------- 0.0/1.9 MB ? eta -:--:--\n",
      "     ---------------------------------------- 0.0/1.9 MB ? eta -:--:--\n",
      "     ---------------------------------------- 0.0/1.9 MB ? eta -:--:--\n",
      "     ---------------------------------------- 0.0/1.9 MB ? eta -:--:--\n",
      "     ----- ---------------------------------- 0.3/1.9 MB ? eta -:--:--\n",
      "     ----- ---------------------------------- 0.3/1.9 MB ? eta -:--:--\n",
      "     ----- ---------------------------------- 0.3/1.9 MB ? eta -:--:--\n",
      "     ----- ---------------------------------- 0.3/1.9 MB ? eta -:--:--\n",
      "     ----- ---------------------------------- 0.3/1.9 MB ? eta -:--:--\n",
      "     ----- ---------------------------------- 0.3/1.9 MB ? eta -:--:--\n",
      "     ----- ---------------------------------- 0.3/1.9 MB ? eta -:--:--\n",
      "     ---------- ----------------------------- 0.5/1.9 MB 180.4 kB/s eta 0:00:08\n",
      "     ---------- ----------------------------- 0.5/1.9 MB 180.4 kB/s eta 0:00:08\n",
      "     ---------- ----------------------------- 0.5/1.9 MB 180.4 kB/s eta 0:00:08\n",
      "     ---------- ----------------------------- 0.5/1.9 MB 180.4 kB/s eta 0:00:08\n",
      "     ---------- ----------------------------- 0.5/1.9 MB 180.4 kB/s eta 0:00:08\n",
      "     ---------- ----------------------------- 0.5/1.9 MB 180.4 kB/s eta 0:00:08\n",
      "     ---------------- ----------------------- 0.8/1.9 MB 192.8 kB/s eta 0:00:06\n",
      "     ---------------- ----------------------- 0.8/1.9 MB 192.8 kB/s eta 0:00:06\n",
      "     ---------------- ----------------------- 0.8/1.9 MB 192.8 kB/s eta 0:00:06\n",
      "     ---------------- ----------------------- 0.8/1.9 MB 192.8 kB/s eta 0:00:06\n",
      "     --------------------- ------------------ 1.0/1.9 MB 212.4 kB/s eta 0:00:05\n",
      "     --------------------- ------------------ 1.0/1.9 MB 212.4 kB/s eta 0:00:05\n",
      "     --------------------- ------------------ 1.0/1.9 MB 212.4 kB/s eta 0:00:05\n",
      "     --------------------- ------------------ 1.0/1.9 MB 212.4 kB/s eta 0:00:05\n",
      "     --------------------- ------------------ 1.0/1.9 MB 212.4 kB/s eta 0:00:05\n",
      "     --------------------------- ------------ 1.3/1.9 MB 223.7 kB/s eta 0:00:03\n",
      "     --------------------------- ------------ 1.3/1.9 MB 223.7 kB/s eta 0:00:03\n",
      "     --------------------------- ------------ 1.3/1.9 MB 223.7 kB/s eta 0:00:03\n",
      "     --------------------------- ------------ 1.3/1.9 MB 223.7 kB/s eta 0:00:03\n",
      "     -------------------------------- ------- 1.6/1.9 MB 239.7 kB/s eta 0:00:02\n",
      "     -------------------------------- ------- 1.6/1.9 MB 239.7 kB/s eta 0:00:02\n",
      "     -------------------------------- ------- 1.6/1.9 MB 239.7 kB/s eta 0:00:02\n",
      "     -------------------------------------- - 1.8/1.9 MB 257.5 kB/s eta 0:00:01\n",
      "     ---------------------------------------- 1.9/1.9 MB 265.6 kB/s eta 0:00:00\n",
      "  Preparing metadata (setup.py): started\n",
      "  Preparing metadata (setup.py): finished with status 'done'\n",
      "Requirement already satisfied: numpy in c:\\users\\pc\\anaconda3\\lib\\site-packages (from langid) (1.26.4)\n",
      "Building wheels for collected packages: langid\n",
      "  Building wheel for langid (setup.py): started\n",
      "  Building wheel for langid (setup.py): finished with status 'done'\n",
      "  Created wheel for langid: filename=langid-1.1.6-py3-none-any.whl size=1941178 sha256=4f89cc69aa3badd118fa7d27f6c9dc58ee5163487c0c013180cddb8bd24916ec\n",
      "  Stored in directory: c:\\users\\pc\\appdata\\local\\pip\\cache\\wheels\\3c\\bc\\9d\\266e27289b9019680d65d9b608c37bff1eff565b001c977ec5\n",
      "Successfully built langid\n",
      "Installing collected packages: langid\n",
      "Successfully installed langid-1.1.6\n"
     ]
    }
   ],
   "source": [
    "!pip install langid"
   ]
  },
  {
   "cell_type": "code",
   "execution_count": 30,
   "metadata": {},
   "outputs": [],
   "source": [
    "from langid.langid import LanguageIdentifier, model\n",
    "def identify_VN(df):\n",
    "    identifier = LanguageIdentifier.from_modelstring(model, norm_probs=True)\n",
    "    not_vi = set()\n",
    "    THRESHOLD = 0.9\n",
    "    for idx, row in df.iterrows():\n",
    "        lang, score = identifier.classify(row['sentence'])\n",
    "        if lang != 'vi' or (lang == 'vi' and score < THRESHOLD):\n",
    "            not_vi.add(idx)\n",
    "    \n",
    "    vi_df = df[~df.index.isin(not_vi)]\n",
    "    not_vi_df = df[df.index.isin(not_vi)]\n",
    "    return vi_df, not_vi_df"
   ]
  },
  {
   "cell_type": "code",
   "execution_count": 32,
   "metadata": {},
   "outputs": [],
   "source": [
    "full_df.drop(columns=['language', 'Word_count', 'Char_count', 'Mean_word_length'], inplace=True)"
   ]
  },
  {
   "cell_type": "code",
   "execution_count": 33,
   "metadata": {},
   "outputs": [
    {
     "data": {
      "application/vnd.microsoft.datawrangler.viewer.v0+json": {
       "columns": [
        {
         "name": "index",
         "rawType": "int64",
         "type": "integer"
        },
        {
         "name": "sentence",
         "rawType": "object",
         "type": "string"
        },
        {
         "name": "label",
         "rawType": "int64",
         "type": "integer"
        }
       ],
       "conversionMethod": "pd.DataFrame",
       "ref": "6772ac70-a434-4662-8880-846ef97f7afc",
       "rows": [
        [
         "0",
         "Mua có mỗi Bingsu thập_cẩm 45k mà mình f đợi hơn 20 ' . Hỏi lại thì nv tl có r nhg bảo chờ thêm 15 ' nữa \" tụi e lm liền \" .\n Mình k biết có ngon k nhg cũng muốn ăn thử . Thiết_nghĩ nv quán nên xem_lại cách pv và nc vs khách .\n",
         "0"
        ],
        [
         "1",
         "Thứ 6 nào ta cùng quẩy 💣 💣 💣\n Vuvuzela beer club chung hệ_thống Gogi_House , Daruma , Kichi kichi nên giá cũng chưa 10% VAT . Thanh_toán trước 20g hằng ngày đc giảm 30% thức_ăn . Tính ra đc giảm 20% . Cũng zui ! 😊 😊 😊\n Ngồi thư_giãn cũng ok . Thức_ăn cũng ổn . Có mấy món nguyên_liệu bên ngoài hok bik chỗ nào bán nên vô đây ăn . Cơ_mà gọi mấy món đó cũng ko có hàng 😂 😂 😂\n Cháo bồ_câu hình chụp nguyên con bồ_câu mà tìm hoài chỉ thấy phao_câu không thấy đầu bồ_câu . Hỏi e nv e chạy hỏi nhà_bếp đc trả_lời là 1 phần cháo đc tính_toán 1 lượng thịt cố_định theo gram chứ không phải nguyên con chị ơi . 😅 😅 😅\n Ps : Lần sau sẽ rủ trên 4 đứa đi quẩy để đc tặng 10 ly biaaaaaaaaaaaaaa mí đc 🍺 🍺 🍺 🍺 🍺 🍺 🍺 🍺 🍺 🍺\n",
         "0"
        ],
        [
         "2",
         "Mình đi với nhóm , tổng_cộng 4 người ăn chỉ có không tới 150k mà no luôn í . Một con cá_lóc nướng to thiệt to kèm với rau_sống , bún , bánh_tráng đồ luôn là có 90k ah , bắp giò 69k để gói cuốn bánh_tráng chung .\n Bún thêm 5k , bánh_tráng thêm 8k nữa\n Đồ_ăn rẻ , thích_hợp ăn_uống cuối tuần cho gia_đình\n Tuy_nhiên mình thấy nước_chấm không ngon , mắm_nêm có mùi gừng , ăn kỳ kỳ , cá thì nguội quá , chắc là nướng lâu rồi không hâm_nóng lại\n",
         "0"
        ],
        [
         "3",
         "nhân_viên phục_vụ không mấy tận_tình , đồ_ăn ra lâu và không đều , món cơm thịt bò nướng ngon , còn mì soba xào không được ngon cho lắm .\n",
         "0"
        ],
        [
         "4",
         "Vào đây thì hết bàn , nhưng mình vẫn ngồi đợi bình_thường để nhân_viên dọn bàn , ai_ngờ dọn xong họ cho tốp khách sau vào ngồi , còn mình thì như vô_hình bị lơ , mình cười nửa miệng rồi bước ra khỏi quán . Có_lẽ vì mình đi 1 mình nên họ ưu_tiên nhóm đông người , vì lợi_nhuận mà xem_thường khách , phục_vụ và phong_cách làm_việc quá tệ_hại , chưa ăn nhưng dù có ngon thì với cách đón_tiếp kiểu này thì mình cũng cho vào sổ_đen !\n",
         "0"
        ],
        [
         "5",
         "Hôm_nay đến aeon có ghé vào quán . Món ăn cũng khá nhưng hơi ít . Không_gian quán cũng ổn\n",
         "0"
        ],
        [
         "6",
         "Mình vào lúc 8h tối , cũng không đông khách lắm nhưng chờ hơi lâu . Order 4 món thì ăn giống như nhét kẽ răng ko xi nhê , phải thêm cái lẩu cá sả nữa mới tạm no . Giá hơi mắc , đồ_ăn thì hơi ít , hình_ảnh trên menu đúng mang tính_chất minh_hoạ như em phục_vụ_bàn nói . Có món gà trứng gì đó trong menu để must try mà mình kiu lên thử thấy thất_vọng vô_cùng , 5 người 5 cục thịt gà với mấy cục tỏi , không thấy cái trứng nào hết . Dĩa gỏi bò có vài lát bò còn lại rau với rau . Nói_chung tới ăn 1 lần cho_biết chứ không có ý_định quay lại .\n",
         "0"
        ],
        [
         "7",
         "Thức_ăn quá_đỗi bình_thường , miếng xôi của bạn mình ăn còn sạn !\n Mắc , ko xứng_đáng vs giá_cả\n",
         "0"
        ],
        [
         "8",
         "Mình thấy quán này rất được , nhân_viên phục_vụ nhiệt_tình , vui_vẻ , hào_phóng , khách có yêu_cầu hay thắc_mắc gì đều được trả_lời rất lịch_sự . Trong phần buffet có thức_ăn nhanh với nước là khách tự_phục_vụ nhưng với những khách đi lần đầu hoặc ngại không đi lấy thì nhân_viên rất sẵn_lòng đi lấy đùm mà không hề có phàn_nàn . Mình đã ghé quán rất nhiều lần . Vào cuối tuần quán rất đông nhưng khách cũng không phải ngồi đợi lâu . Nước lẩu của quán ngon , hợp với mình và mình thích , còn mọi người thì mình k biêt . Mọi người hãy ghé quán thưởng_thức để xem điều mình nói là đúng nhé ... chúc mọi người có bữa ăn thoải_mái ở hongkong town\n",
         "0"
        ],
        [
         "9",
         "Hôm_qua đi ăn cùng 7 chị ở công_ty . Quảng_cáo ăn 4 tặng 1 thì lại thành ăn 5 tặng 1 , hỏi ra thì được bảo là chủ em nói thế . Nhân_viên từ đầu đến cuối phục_vụ không 1 nụ_cười , muốn gì phải nói đi nói lại cả 3-4 lần mới có . Thịt bò 3-4 dĩa đầu_tiên còn được , sau đó đem ra toàn thị bò vụn . Tôm không tươi . Lẩu ăn cón được chứ đồ nướng thì quá tệ . Buffet quảng_cáo là bao_gồm nướng , lẩu và điểm sấm , gọi đồ điểm sấm thỉ được bảo là không có bao_gồm trong buffet , menu cũ nên chưa đổi . Yêu_cầu hoá_đơn đỏ thì bảo 3 ngày_sau đến lấy . Túm lại là làm_ăn cẩu_thả và khá gian_dối trong việc quảng_cáo .\n",
         "0"
        ],
        [
         "10",
         "- Điểm trừ : Mọi thứ đều được \" xắt lát mỏng \" , rau_muống thì \" dai_nhách \" , cải thảo thì bị úng : 3\n - Điểm cộng : Nước lẩu thì vừa ăn , cũng khá ngon . : )\n - Vì là phong_cách tự_phục_vụ nên không có comment gì được\n = > Lời khuyên : Chỉ nên ăn \" lót_dạ \" cho_biết thui , chớ ăn nhiu đây đói lắm à : 3\n",
         "0"
        ],
        [
         "11",
         "Không_gian quán ok như những quán king khác .\n Đồ_ăn ngoài kệ thì nhiều nhưng_mà đồ gì đâu không ngon . Tráng_miệng thì ok nhất . Kem ở king thì siêu ngon rồi . Rau_câu chè cũng ok .\n Về phần thịt thì_phải nói là siêu dở . Dở nhất trong những quán hq mình từng ăn luôn . Thịt nướng mà đông đá cứng ngắt . Nướng lên có nghe mùi_vị gì nữa đâu . Thấy kinh_khủng .\n Nv thì hách nhất_là ông kia . Kiu k trả_lời liền đâu . Bạn mình để quên đồ mà ở đó nói là tưởng rác mang đi giục luôn . Hâh .\n Ai k biết ăn_ở đây rồi chắc k dám ăn king ở tp nữa luôn qua . Mất_mặt cả chi_nhánh\n",
         "0"
        ],
        [
         "12",
         "Quán đơn_giản nhưng đặc_biệt bánh rất ngon , nước uống gía cũng ổn , phục_vụ chu_đáo và quản_lý rất thân_thiện , mỗi lần đi Aeon_Mall_Bình_Dương là mình hay ghé để ăn 1 cái bánh nhân nho khô\n",
         "0"
        ],
        [
         "13",
         "Món ăn khá ngon và no nhưng phục_vụ thái_độ quá kém và tệ . Không hề hài_lòng với chế_độ Refill . Mình cầm ly nước ra ngoài tầm 15 phút sau quay lại với bạn thì được thông_báo rằng nước đã đem ra ngoài xin vui_lòng order ly mới . Pó tay cái kiểu tiêu_chuẩn MỸ phục_vụ kiểu VN\n",
         "0"
        ],
        [
         "14",
         "Ngày_trước đồ_ăn còn khá ngon nhưng giờ mình thấy bớt nhiều rồi . Nhân_viên phục_vụ không tốt , nếu_không muốn nói là thái_độ .\n",
         "0"
        ],
        [
         "15",
         "Bánh của Luxe ăn được , trang_trí bắt_mắt . Vì chưa thử hết các loại nên không biết ngon hết không . Nhưng nước ở đây uống khá ngon . Không_gian thì không được rộng lắm\n",
         "0"
        ],
        [
         "16",
         "Lại là gần trường cả nổi_tiếng nên đến ăn thử , thực_sự thì rất ko hài_lòng : ) ) ko gian ngoài hè nhìn hơi ko ổn nhưng vì thoáng nên cũng bỏ_qua . Gọi đồ_ăn phải đợi quá lâu , mà cái bánh crepe bơ chanh đường chua ko thể tả được , như vắt mấy quả chanh vào ấy , xong lại còn đắng đắng , crepe thịt hun khói thì chẳng có gì đặc_biệt cả , sữa_chua đánh_đá thì ống hút tắc ko thể hút đc . Hôm ấy đi ăn cùng bạn mà phải bỏ hơn nửa đĩa bơ chanh đường , thực_sự thì ko ăn nổi nữa . Tóm_lại sẽ ko bao h đến lần sau !\n",
         "0"
        ],
        [
         "17",
         "Mình vào quán khi bên GoGi đông khách , và phải chờ , trong khi đang đói bụng , cảnh_tượng đầu_tiên khi vào quán là sàn nhà dường_như không được quét_dọn , rác , khăn giấy và đồ_ăn thừa đầy sàn , bàn ăn lau không kỹ , gọi món thì khá lâu mới có đồ_ăn , nhân_viên phục_vụ thái_độ không tận_tình , chả dám đến lần hai , không hiểu chất_lượng như thế_mà cũng được nằm trong aeon mail .\n",
         "0"
        ],
        [
         "18",
         "Sự_việc xảy_ra và ngày 31-10-2015 . Tôi và bạn vào nhà_hàng Đôi_Đũa_Vàng tại tầng 2 của trung_tâm thương_mại AEONMALL Bình_Dương vào lúc 20h05 . Chính_xác là tôi và bạn ngồi bàn số 6 , chúng_tôi gọi món , ngồi đợi và mọi việc bắt_đầu_từ đây . Sau khi ngồi đợi 5 phút và có phục_vụ mang menu tới cho chúng_tôi gọi món và thức uống xong chúng_tôi ngồi đợi tiếp 20 phút sau và chẳng thấy phục_vụ mang nước lên hoặc có động_thái gì cả . Sau khi thấy những khách vào sau đã có thức_ăn , tôi gọi phục_vụ để hỏi . 2 lần đầu phục_vụ nhìn xong gật_đầu , nhưng không thấy ai_lại . lần thứ 3 gọi một phục_vụ nữ thì tôi nhận được một ánh nhìn liếc qua và bỏ đi không nói_năng gì cả . lần thứ 4 gọi thì_có phục_vụ lại và tôi hỏi đã có những món tôi gọi chưa và có_thể mang nước lên trước không ? Anh nhân_viên ấy chạy vào và hỏi phía trong là “ món của khách có chưa mà_sao khách ngồi đợi lâu quá kìa ? ” ( lúc này đồng_hồ là 20h40 , chúng_tôi đã đợi 35 phút ) . 5 phút sau anh phục_vụ chạy ra và cầm theo 2 cái menu như lúc đầu và nói chúng_tôi hãy gọi món lại . Tôi hỏi lý_do và gì vậy a ? Anh_ấy trả_lời là “ cái bill anh_chị gọi món bị mất đâu rồi ” Tôi không_thể chấp_nhận được một thái_độ phục_vụ như_vậy được . Tôi tự hỏi một nhà_hàng như_vậy mà_lại có dịch_vụ tệ đến như_thế sao ? Và quan_trọng nhất_là tại_sao có_nhân viện phục_vụ có thái_độ coi_thường khách đến như_thế ? Khách hang hỏi mà chỉ có vỏn_vẹn một ánh mắt liếc nhìn lại và chẳng có lời_nói nào . Tôi muốn hỏi liệu tôi đang được phục_vụ hay_là đang đi xin ?\n",
         "0"
        ],
        [
         "19",
         "1 ngày làm_việc mêt mỏi . Phi xe ra quán_ăn lẩu cá . Lần đầu_vào quán . cảm_nhận nhân_viên phục_vụ nhiệt_tình , lẩu cả khá ngon , thích nhất món tôm nướng . Mà quán có món gà xé cũng ngon phết . Điểm chê là rau kèm lẩu ít hơn so với chỗ khác .\n",
         "0"
        ],
        [
         "20",
         "Mình ăn bún đậu ở đây nhiều lần rồi , chủ_yếu vào buổi_trưa , cũng là giờ các anh_chị sinh_viên đến ăn rất đông nên có khi_không có chỗ mà ngồi . Bún thì ngon nhưng mình có cảm_giác càng_ngày_càng ít nem và bún . Phục_vụ cũng rất chậm nhưng có_thể thông_cảm vì khách đông .\n",
         "0"
        ],
        [
         "21",
         "Quán nằm trong ngõ . đối_diện hiway hà đông . bạn mình có người quen làm ở đây nên dẫn qua uống ủng_hộ\n Trang_trí quán đẹp . nhiều tầng . tất_cả 7 tầng thì_phải . có thang_máy . các phòng có điều_hòa . wifi gia_đình dùng chung cho 7 tầng nên khá yếu\n Có cả đồ_ăn và đồ uống . bánh ngọt nhìn đẹp_mắt nhưng chưa ăn thử nên không biết chất_lượng ra_sao\n Mình uống trà sữa chân trâu đặc_biệt . uống thì rất nhạt . chưa bh uống cốc trà sữa nào chán như này . pingpang ăn thì ổn . ăn bỏng ngô xong uống cốc trà sữa kia vào thì quá chán luôn . nó có vị cứ ngang_ngang chả ra làm_sao\n Trà sữa kiểu nhái dingtea . cốc bé kia_mà 20k.chắc lần sau ko uống nữa . vừa xa nhà lại chẳng ra_gì\n Lần sau sẽ quay lại quán thử các món khác rồi nhận_xét tiếp . nếu lần sau vẫn chán như này thì bỏ luôn mất\n",
         "0"
        ],
        [
         "22",
         "Hôm chủ_nhật , 29/11 mình đinh đến ăn vì tìm thông_tin thấy rất ngon , giá_cả hợp_lý ...\n mà đến thấy đóng_cửa mất_tiêu , sập xệ , bảng_hiệu còn rách . mọi ng cập_nhật dùm quán này còn hoạt_động hay ko vây ? : ( (\n tìm cả buổi vòng_vòng cuối_cùng đóng_cửa  \n p / s : chưa có ăn_uống đc gì nên cũng ko biết đánh_giá điểm ntn ?\n",
         "0"
        ],
        [
         "23",
         "Mình bít tới chỗ này do 1 bạn bình_luận so_sánh với nhà_hàng buffet nét việt , bạn ấy bảo Hương_Quê vừa rẻ vừa ngon ( bên nét việt mua voucher hotdeal là 119k ) , phục_vụ lại tốt rất ok , lên foody xem review cũng thấy đc khen nức_nở nên quyết_tâm đến ăn thử , nếu ok thì lại có thêm 1 quán ruột .\n Tới thử rồi chỉ mún la_làng , quá tệ . Hok hề có 40 món như quảng_cáo , chỉ vài món le que mà hết còn hok thèm chăm lên , nêm nếm thì quá mặn , quầy lẩu thì_có mỗi mấy cái đầu cá ương hết lên lun . Lần đầu_tiên đi ăn buffet mà về ngay sau 30p và phải ra Aeon_Mall ăn hủ tíu gõ và 2 ly trà đào vì đói .\n Thấy review tốt quá mà tới thử thì kinh_sợ hoàn_toàn . Thôi xin chừa , từ nay hok ham rẻ và tin vào review , hình_ảnh quảng_cáo câu_khách để mất tiền oan nữa . Cứ tới quán quen mà ăn , dù có mắc hơn hay rẻ hơn thì cũng tốt hơn chỗ này nhìu , 100k/người mà thua tô hủ tíu gõ 12k .\n",
         "0"
        ],
        [
         "24",
         "Quán nhỏ , nóng , đồ_ăn ít chịu châm khi hết , nhân_viên phục_vụ ok\n",
         "0"
        ],
        [
         "25",
         "Kêu ly Cafe_Latte đá ( lỗi 1 phần do mình ko coi menu và kêu vì mình hay uống Latte ) nhìn cái ly thể_loại cafe Ý rất ư là ngỡ_ngàng , nhìn ko khác_nào ly sữa_tươi bỏ thêm cafe . Càng ko ngờ hơn ly cafe bần vậy giá 77k , ko đáng 1 chút nào . Phải_chi cái ly đẹp , nhìn sang chảnh chuyên_nghiệp như đúng bản_chất cafe Ý thì bỏ tiền ra cũng thấy đáng .\n Nhân_viên nhìn mặt ai_nấy y_như mất sổ gạo .\n Trung_Nguyen từ lúc thêm dc chữ Legend , thay_đổi diện_mạo thì giá cũng thay_đổi theo . Oải chè\n",
         "0"
        ],
        [
         "26",
         "Không bằng tiệm cũ ngày_trước . Bgiờ ăn cơm đảo khô , chỉ hơn cơm_rang bụi 1 chút . Cơm trắng ( cơm tấm ngày_xưa tiệm cũ rất ngon ) giờ ở đây thì kém hơn .\n Mọi ng ăn hay gọi thêm sốt - sốt này ko có gì đạc biệt . Nấu bằng tương cà + nước + bột thôi\n",
         "0"
        ],
        [
         "27",
         "Không_gian bên đây nhỏ , ngồi hơi chán . Phục_vụ cũng bình_thường .\n",
         "0"
        ],
        [
         "28",
         "Qán BBQ cũ chuyển qa Lê_Hồng_Phong rồi ! ! Qán BBQ nguyễn chí thanh buôn_bán xạo lắm ! ! Tới qán gọi thịt bò mà đem ra toàn thịt heo ! ! Đi một lần là tởn tới già\n",
         "0"
        ],
        [
         "29",
         "Quán phù_hợp cho các bạn mê ăn vặt . Có nhiều món đa_dạng như bánh ép , bánh_tráng trứng , bánh kẹp , bò bía . Riêng mình thì thấy gần đây bánh ép không còn ngon như trước . Bánh_tráng trứng ăn ngon nhưng nếu được nướng thì ăn ngon hơn chiên .\n",
         "0"
        ],
        [
         "30",
         "Lâ ̀ n đâ ̀ u đi ăn ba ́ nh e ́ p huê ́ .\n Thâ ́ y la ̣ la ̣ ma ̀ cu ̃ ng re ̉ .\n 2k/ca ́ i cuô ́ n vơ ́ i rau_răm , dưa chua , dưa_leo châ ́ m nươ ́ c mă ́ m .\n Tuyê ̣ t ! ! ! !\n",
         "0"
        ],
        [
         "31",
         "Quán nhỏ nhưng view nhìn đẹp . Choco_Vanila ngon , Cafe_Hazenut đắng không có vị của Hazenut . Giá cũng ok ! Có dịp sẽ quay lại ...\n",
         "0"
        ],
        [
         "32",
         "Ba_Động là một trong những địa_điểm du_lịch ở Trà_Vinh . Bọn mình tới đây cũng nhiều lần ( vì dân miền Tây mà ) . Không_gian vẫn còn hoang_sơ nên khách không nhiều , đi chơi theo nhóm cũng thoải_mái . Vì là biển phù_sa nên nước đục và không đẹp . Chi_phí ăn_uống và sinh_hoạt ở đây cũng khá rẻ . Mình thích nhất_là những rặng dương xanh nghi_ngút dọc bờ biển , lúc chơi mệt có_thể vào tránh nắng mà không cần thuê dù . Bãi_biển khi cạn khá rộng nên thích_hợp cho những chuyến picnic , chơi thể_thao ... Nhìn_chung thì so_sánh về mặt giá_cả , phong_cảnh cũng tạm ổn . Các bạn nên đến thử 1 lần xem sao !\n",
         "0"
        ],
        [
         "33",
         "Ai muô ́ n ti ̀ m ra thi ̀ dâ ̃ n mi ̀ nh đi ăn đi\n",
         "0"
        ],
        [
         "34",
         "Mình và bạn nghe đồn quán ngon . ai dè khi ra thì quán vắng , nằm trog góc hẻm , khó kiếm , nhìn như mê_cung , giá đắt so với các quán ốc mình từng ăn , chỗ lại bẩn , ốc móng tay có mùi tanh kinh_khủng như để lâu ngày . không_gian chật_chội , mình ngồi còn ko dám ngồi , phục_vụ thì cứ hỏi như ép cung mình ăn thêm . quá tệ\n",
         "0"
        ],
        [
         "35",
         "Ở đây là quán ngồi vỉa_hè mà giá khá đắt , menu không có tính tiền ghi sổ rồi đưa mình check lại . bọn mình đi 4 người gọi 1 set nướng đầy_đủ không gan và lòng giá 400k . Đồ_ăn ở đây thì bình_thường ướp hơi bị mặn . Kim_chi thì muối bị sống ăn bị hăng , cải thảo vẫn còn trắng nguyên luôn , mình gọi rượu Atiso uống thử thì chả thấy vị thơm của Atiso đâu chỉ thấy uống chả khác_gì rượu bình_thường hay uống , trà đá thì nhạt như nước_lọc ý . Lúc mình gọi thêm bò nầm nướng thì ko thấy có khoai_lang , cà_tím , đậu nhật như đĩa đầu gọi hỏi nhân_viên thì họ bào hết mà lúc đó mới 8h tối chứ mấy . Gọi đĩa khoai_tây chiên ra trẻ_con ăn thì vừa non vừa ỉu .\n Nhân_viên phục_vụ được_cái niềm_nở nhưng chậm_chạp vãi .\n Bọn mình đi 4 người ăn hết tổng là 830k .\n",
         "0"
        ],
        [
         "36",
         "Quán bé lại còn bị che_khuất bở trạm xe bus nên dễ đi qua mà k nhìn thấy . Sữa_chua các loại ăn ngon chứ chè thì chả ra_sao . Kem xôi ăn cũng tạm\n",
         "0"
        ],
        [
         "37",
         "Mấy lần đi qua đều thấy đóng_cửa 😢 😢 😢 chưa có dịp thử\n",
         "0"
        ],
        [
         "38",
         "M thích kem xôi ngon vầ rẻ . Chè bơ thì k ngon như trc nữa . Sữa_chua quá chua như ko cho đường\n",
         "0"
        ],
        [
         "39",
         "Ăn_ở đây từ tuần khai_trương mà thấy bánh vừa đắt vừa không ngon , nhạt_nhẽo & hương_vị bình_thường . Combo cũng ko rẻ hơn mua_lẻ là mấy , thấy quảng_cáo rầm_rộ nên đi ăn mà ăn xong thất_vọng tràn_trề : - <\n",
         "0"
        ],
        [
         "40",
         "Không_gian : Chật_hẹp chỉ có vài cái bàn thôi\n Đồ uống : Cực dở luôn . Mình gọi smothie xoài nhg rõ_ràng vị xoài là của nước ép xoài đóng_hộp . Chán ko thể tả được . Bạn mình gọi vị chanh leo thì hắc hắc\n Giá : Bình_thường nhg quá đắt so với chất_lượng\n Wifi kém lắm .\n Nói_chung là mình sẽ ko bao_giờ quay lại\n",
         "0"
        ],
        [
         "41",
         "Ăn bi ̀ nh thươ ̀ ng . Hai đư ́ a ăn su ̉ i ca ̉ o va ̀ su ̉ i ca ̉ o my ̀ ta ̣ m đươ ̣ c vơ ́ i gia ́ 35k . Qua ́ n dơ ̀ i ra mă ̣ t tiê ̀ n đươ ̀ ng NTP nên dê ̃ ti ̀ m\n",
         "0"
        ],
        [
         "42",
         "Quán này đã dời địa_điểm sang 106a Phùng_Văn_Cung f7 quận Phú_Nhuận rồi nha mọi ng Giờ trong địa_chỉ cũ vẫn có quán ghi là hải_sản Bình_Ba luôn nhưng k ngon nha , hải_sản k tươi , phục_vụ chậm giá cao , ngồi trong bóng_tối nha Mọi ng lưu_ý tránh chuốc thêm bực_bội và ăn k vui nha , thanks ! ! !\n",
         "0"
        ],
        [
         "43",
         "Quán nằm gần trường Trấn_Biên , buổi chiều tan học đông cực . Chả lụi cũng bình_thường như những chỗ khác vì lấy chung một chỗ . Thái_độ phục_vụ kém , cô bán luôn tỏ_vẻ khó_chịu .\n",
         "0"
        ],
        [
         "44",
         "Đa ̃ ăn 1 lâ ̀ n ơ ̉ đây va ̀ se ̃ ca ̣ ch tơ ́ i gia ̀ . Tha ́ i đô ̣ phu ̣ c . Ụ ke ́ m : ăn hê ́ t rau hê ́ t tương xin lâ ̀ n đâ ̀ u tiên pha ̉ i đơ ̣ i lâu va ̀ pha ̉ i nhă ́ c tơ ́ i lâ ̀ n thư ́ 2 du ̀ qua ́ n ko đông . Chu ̉ qua ́ n co ́ tha ́ i đô ̣ kho ́ chi ̣ u . Nho ́ m 3 ng ăn xong vê ̀ tô ́ i bi ̣ đau quă ̣ n bu ̣ ng\n",
         "0"
        ],
        [
         "45",
         "Hôm_nay đi qua , vào gọi gà luộc . Ngồi nhâm_nhi lon bia một lúc thì thấy bê cơm ra . Hỏi gà đâu thì một lúc sau mới bảo hết rồi . Chán ! Cần cải_tạo cách phục_vụ của nhân_viên cho tốt hơn .\n Giá_cả thì cũng không phải là rẻ gì , tuy có niêm_yết chi_tiết . Tất_nhiên là rẻ hơn Hà_Nội hay Hạ_Long rồi . Được_cái nhà_hàng rộng_rãi , mát_mẻ ( miền núi mà ) , sạch_sẽ và tiện đường nhất trên Tiên_Yên . Nếu các bạn đi đông thì sẽ được ưu_tiên phục_vụ ( ăn nhiều 😁 ) . Nếu_không là phải gọi mỏi mồm đấy .\n Không có bánh gật_gù tại quán như các bạn Quảng ninh hay quảng_cáo đâu . Chắc món đấy làm lâu công . Món khâu nhục không dậy_mùi tỏi , chưa đạt yêu_cầu , như thịt ba_chỉ kho thường . Nếu bạn nào ăn_ở Hoành_Bồ rồi sẽ so_sánh được ngay .\n Nói_chung là có_tiếng do ở Tiên_Yên thôi . Phía dưới gần lối đi Ba_Chẽ cũng có vài nhà_hàng còn lớn hơn nhiều , xe đậu thoải_mái .\n",
         "0"
        ],
        [
         "46",
         "Quán cũng khá nhỏ đồ uống cũng được mèo thấy đồ_ăn là sán vô con hết r chúng_nó chổng đít quay di max phũ : ) ) ) ) ) ) ncl đến nhiều r nhung gio moi review cho quán ... . ncl.ổn\n",
         "0"
        ],
        [
         "47",
         "Đồ uống cũng bình_thường như bao quán khác , mèo ở đây nó cứ lờ_đờ bệnh bệnh thế_nào ấy\n",
         "0"
        ],
        [
         "48",
         "+ ) Ưu_điểm : Rộng_rãi khang_trang , trang_trí theo hơi_hướng Hàn_Quốc vì h cgv của HQ nên bài_trí như_vậy cũng k có j là_lạ : ) KHông gian rộng thôi rồi , thiet kế như kiểu 1 khu chờ tàu_điện_ngầm vậy : ) rộng đến_nỗi như kiểu đi mãi không hết_ý ! có hôm tìm phòng chiếu mãi mới thấy vì nó o trong góc : ) nếu_mà đến đây để chụp choẹt chắc chụp cả ngày không thấy chán mất , thích nhất_là khu có ghế sofa ngồi êm mà kể_cả ngồi bao_lâu cũng chả ai duoi . kiểu đến cgv hà đông cảm_giác thoải_mái lắm ý chả ai quản : ) ) cảm_thấy tự_do như ở nhà . Nhà_vệ_sinh đẹp các chị_em nào mà nghiện tự sướng thì có_thể vào tự sướng thoai mái nhé k ai cản đâu : ) ) cái gương trong WC nữ như kiểu bàn trang_điểm ý xinh dã_man , À ưu_điểm nữa_là khu để xe rộng_rãi bảo vẹ vui_tính , k mất phí gửi xe nên các bạn yên_tâm\n + ) Nhược_điểm : Quá xa trung_tâm thành_phố , mặc_dù vé ở đây nhiều lúc rẻ hơn ở các cgv khác   nhưng cứ nghĩ đến viec xuống đây xem phim la mình thấy ngại rồi ý : ) ) ngày thứ 4 vé đồng giá 50k nhé các bạn rẻ hơn cgv khác nên có hôm mình ham_hố xuống xem mặc_kệ trời nắng gắt thế_là vì tiết_kiệm 25k mà xem xong về ốm luôn : ) ) ) nên nếu ai nhà xa quá thì đừng cố nhé ko lại quá_cố ! Nhược_điểm nữa_là nhân_viên ở đây làm_ăn ko chuyên_nghiệp , nói_năng khó nghe , kiểu nhân_viên nói nhanh ko rõ_ràng ý , hôm đấy mình mua 3 vé xem phim chưa hỏi mình muốn lấy combo bỏng nước ko đã tự_động cho_rồi , mình nói mình ko mua combo mà_sao tự_dưng cho thì lại còn mắng lại bảo sao k tự để_ý vé thấy rẻ nthe mà k phàn_nàn luôn in vé rồi ko đổi dc nữa : ) Xong cũng hứa_hẹn bảo quản_lý ra giải_quyết rồi cũng mất_tăm_mất_tích luôn . may là lúc đấy cũng có khách muốn mua bỏng nên mình thương_lượng đc vs ng ta mua hộ cho mình phần combo : ) nhân_viên vô_trách_nhiệm và thái_độ , thật_sự làm minh thấy khó_chịu , xem mất tiền phải để khách thấy vui_vẻ chư nhưng chưa xem đã mất vui rồi , ko phải mình đánh_đồng vs toàn_bộ nhân_viên của CGV . Mình nhận_xét thẳng_thắn luôn nhân_viên CGV bên LOtte và bên Bà triệu mình tháy rất ok , phục_vụ rất đc chỉ có bên CGV hà đông là như_vậy thoi : ) chưa kể dù_sao cgv này cũng ở bên HÀ đông ko phải vung trung_tâm nên ng xem cũng khá mất lịch_sự ! Vào rạp thì nói to , nghe đt xong các thứ cảm_giác như đang xem ở rạp quốc_gia vậy ! Đúng là cái j rẻ quá cũng ko tốt ! khuyên các bạn muốn đổi gió thì đến đây xem thử 1 2 lần thôi rồi các bạn cũng sẽ cảm_nhận giống mình thôi : )\n",
         "0"
        ],
        [
         "49",
         "Món ăn thì cũng ngon , khg có gì đáng nói , giá_cả bình_dân hợp túi_tiền\n quán trong hẻm rộng_rãi , xe để kế bên cũng an_tâm\n chỉ có là order xong ngồi chờ rã cả họng anh thanh_niên đẹp chai mới tàn tàn lại thông_báo món này hết ròi , kiu order món khác giùm , lại 1 khoảng thời_gian dài đằng_đẵng nữa chờ_đợi trong tuyệt_vọng , tới mức hết chuyện để 8 với nhau mới thấy có món dọn lên .\n ăn_ở đây 2 lần , lần nào cũng vậy\n",
         "0"
        ]
       ],
       "shape": {
        "columns": 2,
        "rows": 50000
       }
      },
      "text/html": [
       "<div>\n",
       "<style scoped>\n",
       "    .dataframe tbody tr th:only-of-type {\n",
       "        vertical-align: middle;\n",
       "    }\n",
       "\n",
       "    .dataframe tbody tr th {\n",
       "        vertical-align: top;\n",
       "    }\n",
       "\n",
       "    .dataframe thead th {\n",
       "        text-align: right;\n",
       "    }\n",
       "</style>\n",
       "<table border=\"1\" class=\"dataframe\">\n",
       "  <thead>\n",
       "    <tr style=\"text-align: right;\">\n",
       "      <th></th>\n",
       "      <th>sentence</th>\n",
       "      <th>label</th>\n",
       "    </tr>\n",
       "  </thead>\n",
       "  <tbody>\n",
       "    <tr>\n",
       "      <th>0</th>\n",
       "      <td>Mua có mỗi Bingsu thập_cẩm 45k mà mình f đợi h...</td>\n",
       "      <td>0</td>\n",
       "    </tr>\n",
       "    <tr>\n",
       "      <th>1</th>\n",
       "      <td>Thứ 6 nào ta cùng quẩy 💣 💣 💣\\n Vuvuzela beer c...</td>\n",
       "      <td>0</td>\n",
       "    </tr>\n",
       "    <tr>\n",
       "      <th>2</th>\n",
       "      <td>Mình đi với nhóm , tổng_cộng 4 người ăn chỉ có...</td>\n",
       "      <td>0</td>\n",
       "    </tr>\n",
       "    <tr>\n",
       "      <th>3</th>\n",
       "      <td>nhân_viên phục_vụ không mấy tận_tình , đồ_ăn r...</td>\n",
       "      <td>0</td>\n",
       "    </tr>\n",
       "    <tr>\n",
       "      <th>4</th>\n",
       "      <td>Vào đây thì hết bàn , nhưng mình vẫn ngồi đợi ...</td>\n",
       "      <td>0</td>\n",
       "    </tr>\n",
       "    <tr>\n",
       "      <th>...</th>\n",
       "      <td>...</td>\n",
       "      <td>...</td>\n",
       "    </tr>\n",
       "    <tr>\n",
       "      <th>49995</th>\n",
       "      <td>Gia re , mon an ngon , view dep va nhan vien n...</td>\n",
       "      <td>1</td>\n",
       "    </tr>\n",
       "    <tr>\n",
       "      <th>49996</th>\n",
       "      <td>Quán nằm trên đường Thạch_Thị_Thanh , dễ tìm ....</td>\n",
       "      <td>1</td>\n",
       "    </tr>\n",
       "    <tr>\n",
       "      <th>49997</th>\n",
       "      <td>Mình đã đến ăn_ở quán này vài lần . Đồ_ăn ngon...</td>\n",
       "      <td>1</td>\n",
       "    </tr>\n",
       "    <tr>\n",
       "      <th>49998</th>\n",
       "      <td>Nhà_hàng trang_trí độc_đáo .\\n Món ăn mới_lạ n...</td>\n",
       "      <td>1</td>\n",
       "    </tr>\n",
       "    <tr>\n",
       "      <th>49999</th>\n",
       "      <td>Quán có đồ uống hạt_dẻ nhất khu_vực TC . Siêu ...</td>\n",
       "      <td>1</td>\n",
       "    </tr>\n",
       "  </tbody>\n",
       "</table>\n",
       "<p>50000 rows × 2 columns</p>\n",
       "</div>"
      ],
      "text/plain": [
       "                                                sentence  label\n",
       "0      Mua có mỗi Bingsu thập_cẩm 45k mà mình f đợi h...      0\n",
       "1      Thứ 6 nào ta cùng quẩy 💣 💣 💣\\n Vuvuzela beer c...      0\n",
       "2      Mình đi với nhóm , tổng_cộng 4 người ăn chỉ có...      0\n",
       "3      nhân_viên phục_vụ không mấy tận_tình , đồ_ăn r...      0\n",
       "4      Vào đây thì hết bàn , nhưng mình vẫn ngồi đợi ...      0\n",
       "...                                                  ...    ...\n",
       "49995  Gia re , mon an ngon , view dep va nhan vien n...      1\n",
       "49996  Quán nằm trên đường Thạch_Thị_Thanh , dễ tìm ....      1\n",
       "49997  Mình đã đến ăn_ở quán này vài lần . Đồ_ăn ngon...      1\n",
       "49998  Nhà_hàng trang_trí độc_đáo .\\n Món ăn mới_lạ n...      1\n",
       "49999  Quán có đồ uống hạt_dẻ nhất khu_vực TC . Siêu ...      1\n",
       "\n",
       "[50000 rows x 2 columns]"
      ]
     },
     "execution_count": 33,
     "metadata": {},
     "output_type": "execute_result"
    }
   ],
   "source": [
    "full_df"
   ]
  },
  {
   "cell_type": "code",
   "execution_count": 34,
   "metadata": {},
   "outputs": [],
   "source": [
    "full_df, not_vi_df = identify_VN(full_df)"
   ]
  },
  {
   "cell_type": "code",
   "execution_count": 36,
   "metadata": {},
   "outputs": [
    {
     "name": "stdout",
     "output_type": "stream",
     "text": [
      "<class 'pandas.core.frame.DataFrame'>\n",
      "Index: 49577 entries, 0 to 49999\n",
      "Data columns (total 2 columns):\n",
      " #   Column    Non-Null Count  Dtype \n",
      "---  ------    --------------  ----- \n",
      " 0   sentence  49577 non-null  object\n",
      " 1   label     49577 non-null  int64 \n",
      "dtypes: int64(1), object(1)\n",
      "memory usage: 1.1+ MB\n"
     ]
    }
   ],
   "source": [
    "full_df.info()"
   ]
  },
  {
   "cell_type": "code",
   "execution_count": 37,
   "metadata": {},
   "outputs": [],
   "source": [
    "# process train_df, valid_df, test_df\n",
    "train_df, not_vi_train_df = identify_VN(train_df)\n",
    "valid_df, not_vi_valid_df = identify_VN(valid_df)\n",
    "test_df, not_vi_test_df = identify_VN(test_df)"
   ]
  },
  {
   "cell_type": "markdown",
   "metadata": {},
   "source": [
    "### As the normal pipeline preprocessing for text data, we also need to remove HTML tags, special character, emoji,... which are not usefull for model work well"
   ]
  },
  {
   "cell_type": "code",
   "execution_count": 40,
   "metadata": {},
   "outputs": [
    {
     "name": "stdout",
     "output_type": "stream",
     "text": [
      "Collecting emoji\n",
      "  Downloading emoji-2.14.1-py3-none-any.whl.metadata (5.7 kB)\n",
      "Downloading emoji-2.14.1-py3-none-any.whl (590 kB)\n",
      "   ---------------------------------------- 0.0/590.6 kB ? eta -:--:--\n",
      "   ---------------------------------------- 0.0/590.6 kB ? eta -:--:--\n",
      "   ---------------------------------------- 0.0/590.6 kB ? eta -:--:--\n",
      "   ---------------------------------------- 0.0/590.6 kB ? eta -:--:--\n",
      "   ---------------------------------------- 0.0/590.6 kB ? eta -:--:--\n",
      "   ---------------------------------------- 0.0/590.6 kB ? eta -:--:--\n",
      "   ---------------------------------------- 0.0/590.6 kB ? eta -:--:--\n",
      "   ---------------------------------------- 0.0/590.6 kB ? eta -:--:--\n",
      "   ---------------------------------------- 0.0/590.6 kB ? eta -:--:--\n",
      "   ---------------------------------------- 0.0/590.6 kB ? eta -:--:--\n",
      "   ---------------------------------------- 0.0/590.6 kB ? eta -:--:--\n",
      "   ---------------------------------------- 0.0/590.6 kB ? eta -:--:--\n",
      "   ---------------------------------------- 0.0/590.6 kB ? eta -:--:--\n",
      "   ---------------------------------------- 0.0/590.6 kB ? eta -:--:--\n",
      "   ---------------------------------------- 0.0/590.6 kB ? eta -:--:--\n",
      "   ----------------- ---------------------- 262.1/590.6 kB ? eta -:--:--\n",
      "   ----------------- ---------------------- 262.1/590.6 kB ? eta -:--:--\n",
      "   ----------------- ---------------------- 262.1/590.6 kB ? eta -:--:--\n",
      "   ----------------- ---------------------- 262.1/590.6 kB ? eta -:--:--\n",
      "   ----------------- ---------------------- 262.1/590.6 kB ? eta -:--:--\n",
      "   ----------------- ---------------------- 262.1/590.6 kB ? eta -:--:--\n",
      "   ----------------- ---------------------- 262.1/590.6 kB ? eta -:--:--\n",
      "   ----------------- ---------------------- 262.1/590.6 kB ? eta -:--:--\n",
      "   ----------------- ---------------------- 262.1/590.6 kB ? eta -:--:--\n",
      "   ----------------- ---------------------- 262.1/590.6 kB ? eta -:--:--\n",
      "   ----------------- ---------------------- 262.1/590.6 kB ? eta -:--:--\n",
      "   ----------------- ---------------------- 262.1/590.6 kB ? eta -:--:--\n",
      "   ----------------- ---------------------- 262.1/590.6 kB ? eta -:--:--\n",
      "   -------------------------------------- 590.6/590.6 kB 125.9 kB/s eta 0:00:00\n",
      "Installing collected packages: emoji\n",
      "Successfully installed emoji-2.14.1\n"
     ]
    }
   ],
   "source": [
    "!pip install emoji\n",
    "import re\n",
    "import string\n",
    "import emoji"
   ]
  },
  {
   "cell_type": "code",
   "execution_count": 41,
   "metadata": {},
   "outputs": [],
   "source": [
    "viet_luong_dict = {\n",
    "    \"ko\": \"không\", \"k\": \"không\", \"hok\": \"không\", \"j\": \"gì\",\n",
    "    \"tl\": \"trả lời\", \"ntn\": \"như thế nào\", \"vkl\": \"rất\",\n",
    "    \"cx\": \"cũng\", \"z\": \"d\", \"thik\": \"thích\"\n",
    "}\n",
    "\n",
    "\n",
    "def replace_teencode(text):\n",
    "    words = text.split()\n",
    "    return \" \".join([viet_luong_dict[word] if word in viet_luong_dict else word for word in words])\n",
    "\n",
    "def preprocess_text(text):\n",
    "    text = text.lower()\n",
    "    \n",
    "    text = replace_teencode(text)\n",
    "    \n",
    "    url_pattern = re.compile(r'https?://\\S+|www\\.\\S+')\n",
    "    text = url_pattern.sub(r\" \", text)\n",
    "    \n",
    "    html_pattern = re.compile(r'<.*?>')\n",
    "    text = html_pattern.sub(r\" \", text)\n",
    "    \n",
    "    text = emoji.demojize(text)\n",
    "    \n",
    "    text = \" \".join(text.split())\n",
    "    return text\n",
    "    \n",
    "    "
   ]
  },
  {
   "cell_type": "code",
   "execution_count": 42,
   "metadata": {},
   "outputs": [
    {
     "name": "stderr",
     "output_type": "stream",
     "text": [
      "C:\\Users\\PC\\AppData\\Local\\Temp\\ipykernel_32180\\628311157.py:4: SettingWithCopyWarning: \n",
      "A value is trying to be set on a copy of a slice from a DataFrame.\n",
      "Try using .loc[row_indexer,col_indexer] = value instead\n",
      "\n",
      "See the caveats in the documentation: https://pandas.pydata.org/pandas-docs/stable/user_guide/indexing.html#returning-a-view-versus-a-copy\n",
      "  full_df['sentence'] = full_df['sentence'].apply(preprocess_text)\n"
     ]
    }
   ],
   "source": [
    "train_df['sentence'] = train_df['sentence'].apply(preprocess_text)\n",
    "valid_df['sentence'] = valid_df['sentence'].apply(preprocess_text)\n",
    "test_df['sentence'] = test_df['sentence'].apply(preprocess_text)\n",
    "full_df['sentence'] = full_df['sentence'].apply(preprocess_text)"
   ]
  },
  {
   "cell_type": "code",
   "execution_count": 43,
   "metadata": {},
   "outputs": [
    {
     "data": {
      "application/vnd.microsoft.datawrangler.viewer.v0+json": {
       "columns": [
        {
         "name": "index",
         "rawType": "int64",
         "type": "integer"
        },
        {
         "name": "sentence",
         "rawType": "object",
         "type": "string"
        },
        {
         "name": "label",
         "rawType": "int64",
         "type": "integer"
        }
       ],
       "conversionMethod": "pd.DataFrame",
       "ref": "16ebfc66-885b-48cb-96b4-a7b206155adc",
       "rows": [
        [
         "0",
         "mua có mỗi bingsu thập_cẩm 45k mà mình f đợi hơn 20 ' . hỏi lại thì nv trả lời có r nhg bảo chờ thêm 15 ' nữa \" tụi e lm liền \" . mình không biết có ngon không nhg cũng muốn ăn thử . thiết_nghĩ nv quán nên xem_lại cách pv và nc vs khách .",
         "0"
        ],
        [
         "1",
         "thứ 6 nào ta cùng quẩy :bomb: :bomb: :bomb: vuvuzela beer club chung hệ_thống gogi_house , daruma , kichi kichi nên giá cũng chưa 10% vat . thanh_toán trước 20g hằng ngày đc giảm 30% thức_ăn . tính ra đc giảm 20% . cũng zui ! :smiling_face_with_smiling_eyes: :smiling_face_with_smiling_eyes: :smiling_face_with_smiling_eyes: ngồi thư_giãn cũng ok . thức_ăn cũng ổn . có mấy món nguyên_liệu bên ngoài không bik chỗ nào bán nên vô đây ăn . cơ_mà gọi mấy món đó cũng không có hàng :face_with_tears_of_joy: :face_with_tears_of_joy: :face_with_tears_of_joy: cháo bồ_câu hình chụp nguyên con bồ_câu mà tìm hoài chỉ thấy phao_câu không thấy đầu bồ_câu . hỏi e nv e chạy hỏi nhà_bếp đc trả_lời là 1 phần cháo đc tính_toán 1 lượng thịt cố_định theo gram chứ không phải nguyên con chị ơi . :grinning_face_with_sweat: :grinning_face_with_sweat: :grinning_face_with_sweat: ps : lần sau sẽ rủ trên 4 đứa đi quẩy để đc tặng 10 ly biaaaaaaaaaaaaaa mí đc :beer_mug: :beer_mug: :beer_mug: :beer_mug: :beer_mug: :beer_mug: :beer_mug: :beer_mug: :beer_mug: :beer_mug:",
         "0"
        ],
        [
         "2",
         "mình đi với nhóm , tổng_cộng 4 người ăn chỉ có không tới 150k mà no luôn í . một con cá_lóc nướng to thiệt to kèm với rau_sống , bún , bánh_tráng đồ luôn là có 90k ah , bắp giò 69k để gói cuốn bánh_tráng chung . bún thêm 5k , bánh_tráng thêm 8k nữa đồ_ăn rẻ , thích_hợp ăn_uống cuối tuần cho gia_đình tuy_nhiên mình thấy nước_chấm không ngon , mắm_nêm có mùi gừng , ăn kỳ kỳ , cá thì nguội quá , chắc là nướng lâu rồi không hâm_nóng lại",
         "0"
        ],
        [
         "3",
         "nhân_viên phục_vụ không mấy tận_tình , đồ_ăn ra lâu và không đều , món cơm thịt bò nướng ngon , còn mì soba xào không được ngon cho lắm .",
         "0"
        ],
        [
         "4",
         "vào đây thì hết bàn , nhưng mình vẫn ngồi đợi bình_thường để nhân_viên dọn bàn , ai_ngờ dọn xong họ cho tốp khách sau vào ngồi , còn mình thì như vô_hình bị lơ , mình cười nửa miệng rồi bước ra khỏi quán . có_lẽ vì mình đi 1 mình nên họ ưu_tiên nhóm đông người , vì lợi_nhuận mà xem_thường khách , phục_vụ và phong_cách làm_việc quá tệ_hại , chưa ăn nhưng dù có ngon thì với cách đón_tiếp kiểu này thì mình cũng cho vào sổ_đen !",
         "0"
        ],
        [
         "5",
         "hôm_nay đến aeon có ghé vào quán . món ăn cũng khá nhưng hơi ít . không_gian quán cũng ổn",
         "0"
        ],
        [
         "6",
         "mình vào lúc 8h tối , cũng không đông khách lắm nhưng chờ hơi lâu . order 4 món thì ăn giống như nhét kẽ răng không xi nhê , phải thêm cái lẩu cá sả nữa mới tạm no . giá hơi mắc , đồ_ăn thì hơi ít , hình_ảnh trên menu đúng mang tính_chất minh_hoạ như em phục_vụ_bàn nói . có món gà trứng gì đó trong menu để must try mà mình kiu lên thử thấy thất_vọng vô_cùng , 5 người 5 cục thịt gà với mấy cục tỏi , không thấy cái trứng nào hết . dĩa gỏi bò có vài lát bò còn lại rau với rau . nói_chung tới ăn 1 lần cho_biết chứ không có ý_định quay lại .",
         "0"
        ],
        [
         "7",
         "thức_ăn quá_đỗi bình_thường , miếng xôi của bạn mình ăn còn sạn ! mắc , không xứng_đáng vs giá_cả",
         "0"
        ],
        [
         "8",
         "mình thấy quán này rất được , nhân_viên phục_vụ nhiệt_tình , vui_vẻ , hào_phóng , khách có yêu_cầu hay thắc_mắc gì đều được trả_lời rất lịch_sự . trong phần buffet có thức_ăn nhanh với nước là khách tự_phục_vụ nhưng với những khách đi lần đầu hoặc ngại không đi lấy thì nhân_viên rất sẵn_lòng đi lấy đùm mà không hề có phàn_nàn . mình đã ghé quán rất nhiều lần . vào cuối tuần quán rất đông nhưng khách cũng không phải ngồi đợi lâu . nước lẩu của quán ngon , hợp với mình và mình thích , còn mọi người thì mình không biêt . mọi người hãy ghé quán thưởng_thức để xem điều mình nói là đúng nhé ... chúc mọi người có bữa ăn thoải_mái ở hongkong town",
         "0"
        ],
        [
         "9",
         "hôm_qua đi ăn cùng 7 chị ở công_ty . quảng_cáo ăn 4 tặng 1 thì lại thành ăn 5 tặng 1 , hỏi ra thì được bảo là chủ em nói thế . nhân_viên từ đầu đến cuối phục_vụ không 1 nụ_cười , muốn gì phải nói đi nói lại cả 3-4 lần mới có . thịt bò 3-4 dĩa đầu_tiên còn được , sau đó đem ra toàn thị bò vụn . tôm không tươi . lẩu ăn cón được chứ đồ nướng thì quá tệ . buffet quảng_cáo là bao_gồm nướng , lẩu và điểm sấm , gọi đồ điểm sấm thỉ được bảo là không có bao_gồm trong buffet , menu cũ nên chưa đổi . yêu_cầu hoá_đơn đỏ thì bảo 3 ngày_sau đến lấy . túm lại là làm_ăn cẩu_thả và khá gian_dối trong việc quảng_cáo .",
         "0"
        ],
        [
         "10",
         "- điểm trừ : mọi thứ đều được \" xắt lát mỏng \" , rau_muống thì \" dai_nhách \" , cải thảo thì bị úng : 3 - điểm cộng : nước lẩu thì vừa ăn , cũng khá ngon . : ) - vì là phong_cách tự_phục_vụ nên không có comment gì được = > lời khuyên : chỉ nên ăn \" lót_dạ \" cho_biết thui , chớ ăn nhiu đây đói lắm à : 3",
         "0"
        ],
        [
         "11",
         "không_gian quán ok như những quán king khác . đồ_ăn ngoài kệ thì nhiều nhưng_mà đồ gì đâu không ngon . tráng_miệng thì ok nhất . kem ở king thì siêu ngon rồi . rau_câu chè cũng ok . về phần thịt thì_phải nói là siêu dở . dở nhất trong những quán hq mình từng ăn luôn . thịt nướng mà đông đá cứng ngắt . nướng lên có nghe mùi_vị gì nữa đâu . thấy kinh_khủng . nv thì hách nhất_là ông kia . kiu không trả_lời liền đâu . bạn mình để quên đồ mà ở đó nói là tưởng rác mang đi giục luôn . hâh . ai không biết ăn_ở đây rồi chắc không dám ăn king ở tp nữa luôn qua . mất_mặt cả chi_nhánh",
         "0"
        ],
        [
         "12",
         "quán đơn_giản nhưng đặc_biệt bánh rất ngon , nước uống gía cũng ổn , phục_vụ chu_đáo và quản_lý rất thân_thiện , mỗi lần đi aeon_mall_bình_dương là mình hay ghé để ăn 1 cái bánh nhân nho khô",
         "0"
        ],
        [
         "13",
         "món ăn khá ngon và no nhưng phục_vụ thái_độ quá kém và tệ . không hề hài_lòng với chế_độ refill . mình cầm ly nước ra ngoài tầm 15 phút sau quay lại với bạn thì được thông_báo rằng nước đã đem ra ngoài xin vui_lòng order ly mới . pó tay cái kiểu tiêu_chuẩn mỹ phục_vụ kiểu vn",
         "0"
        ],
        [
         "14",
         "ngày_trước đồ_ăn còn khá ngon nhưng giờ mình thấy bớt nhiều rồi . nhân_viên phục_vụ không tốt , nếu_không muốn nói là thái_độ .",
         "0"
        ],
        [
         "15",
         "bánh của luxe ăn được , trang_trí bắt_mắt . vì chưa thử hết các loại nên không biết ngon hết không . nhưng nước ở đây uống khá ngon . không_gian thì không được rộng lắm",
         "0"
        ],
        [
         "16",
         "lại là gần trường cả nổi_tiếng nên đến ăn thử , thực_sự thì rất không hài_lòng : ) ) không gian ngoài hè nhìn hơi không ổn nhưng vì thoáng nên cũng bỏ_qua . gọi đồ_ăn phải đợi quá lâu , mà cái bánh crepe bơ chanh đường chua không thể tả được , như vắt mấy quả chanh vào ấy , xong lại còn đắng đắng , crepe thịt hun khói thì chẳng có gì đặc_biệt cả , sữa_chua đánh_đá thì ống hút tắc không thể hút đc . hôm ấy đi ăn cùng bạn mà phải bỏ hơn nửa đĩa bơ chanh đường , thực_sự thì không ăn nổi nữa . tóm_lại sẽ không bao h đến lần sau !",
         "0"
        ],
        [
         "17",
         "mình vào quán khi bên gogi đông khách , và phải chờ , trong khi đang đói bụng , cảnh_tượng đầu_tiên khi vào quán là sàn nhà dường_như không được quét_dọn , rác , khăn giấy và đồ_ăn thừa đầy sàn , bàn ăn lau không kỹ , gọi món thì khá lâu mới có đồ_ăn , nhân_viên phục_vụ thái_độ không tận_tình , chả dám đến lần hai , không hiểu chất_lượng như thế_mà cũng được nằm trong aeon mail .",
         "0"
        ],
        [
         "18",
         "sự_việc xảy_ra và ngày 31-10-2015 . tôi và bạn vào nhà_hàng đôi_đũa_vàng tại tầng 2 của trung_tâm thương_mại aeonmall bình_dương vào lúc 20h05 . chính_xác là tôi và bạn ngồi bàn số 6 , chúng_tôi gọi món , ngồi đợi và mọi việc bắt_đầu_từ đây . sau khi ngồi đợi 5 phút và có phục_vụ mang menu tới cho chúng_tôi gọi món và thức uống xong chúng_tôi ngồi đợi tiếp 20 phút sau và chẳng thấy phục_vụ mang nước lên hoặc có động_thái gì cả . sau khi thấy những khách vào sau đã có thức_ăn , tôi gọi phục_vụ để hỏi . 2 lần đầu phục_vụ nhìn xong gật_đầu , nhưng không thấy ai_lại . lần thứ 3 gọi một phục_vụ nữ thì tôi nhận được một ánh nhìn liếc qua và bỏ đi không nói_năng gì cả . lần thứ 4 gọi thì_có phục_vụ lại và tôi hỏi đã có những món tôi gọi chưa và có_thể mang nước lên trước không ? anh nhân_viên ấy chạy vào và hỏi phía trong là “ món của khách có chưa mà_sao khách ngồi đợi lâu quá kìa ? ” ( lúc này đồng_hồ là 20h40 , chúng_tôi đã đợi 35 phút ) . 5 phút sau anh phục_vụ chạy ra và cầm theo 2 cái menu như lúc đầu và nói chúng_tôi hãy gọi món lại . tôi hỏi lý_do và gì vậy a ? anh_ấy trả_lời là “ cái bill anh_chị gọi món bị mất đâu rồi ” tôi không_thể chấp_nhận được một thái_độ phục_vụ như_vậy được . tôi tự hỏi một nhà_hàng như_vậy mà_lại có dịch_vụ tệ đến như_thế sao ? và quan_trọng nhất_là tại_sao có_nhân viện phục_vụ có thái_độ coi_thường khách đến như_thế ? khách hang hỏi mà chỉ có vỏn_vẹn một ánh mắt liếc nhìn lại và chẳng có lời_nói nào . tôi muốn hỏi liệu tôi đang được phục_vụ hay_là đang đi xin ?",
         "0"
        ],
        [
         "19",
         "1 ngày làm_việc mêt mỏi . phi xe ra quán_ăn lẩu cá . lần đầu_vào quán . cảm_nhận nhân_viên phục_vụ nhiệt_tình , lẩu cả khá ngon , thích nhất món tôm nướng . mà quán có món gà xé cũng ngon phết . điểm chê là rau kèm lẩu ít hơn so với chỗ khác .",
         "0"
        ],
        [
         "20",
         "mình ăn bún đậu ở đây nhiều lần rồi , chủ_yếu vào buổi_trưa , cũng là giờ các anh_chị sinh_viên đến ăn rất đông nên có khi_không có chỗ mà ngồi . bún thì ngon nhưng mình có cảm_giác càng_ngày_càng ít nem và bún . phục_vụ cũng rất chậm nhưng có_thể thông_cảm vì khách đông .",
         "0"
        ],
        [
         "21",
         "quán nằm trong ngõ . đối_diện hiway hà đông . bạn mình có người quen làm ở đây nên dẫn qua uống ủng_hộ trang_trí quán đẹp . nhiều tầng . tất_cả 7 tầng thì_phải . có thang_máy . các phòng có điều_hòa . wifi gia_đình dùng chung cho 7 tầng nên khá yếu có cả đồ_ăn và đồ uống . bánh ngọt nhìn đẹp_mắt nhưng chưa ăn thử nên không biết chất_lượng ra_sao mình uống trà sữa chân trâu đặc_biệt . uống thì rất nhạt . chưa bh uống cốc trà sữa nào chán như này . pingpang ăn thì ổn . ăn bỏng ngô xong uống cốc trà sữa kia vào thì quá chán luôn . nó có vị cứ ngang_ngang chả ra làm_sao trà sữa kiểu nhái dingtea . cốc bé kia_mà 20k.chắc lần sau không uống nữa . vừa xa nhà lại chẳng ra_gì lần sau sẽ quay lại quán thử các món khác rồi nhận_xét tiếp . nếu lần sau vẫn chán như này thì bỏ luôn mất",
         "0"
        ],
        [
         "22",
         "hôm chủ_nhật , 29/11 mình đinh đến ăn vì tìm thông_tin thấy rất ngon , giá_cả hợp_lý ... mà đến thấy đóng_cửa mất_tiêu , sập xệ , bảng_hiệu còn rách . mọi ng cập_nhật dùm quán này còn hoạt_động hay không vây ? : ( ( tìm cả buổi vòng_vòng cuối_cùng đóng_cửa p / s : chưa có ăn_uống đc gì nên cũng không biết đánh_giá điểm như thế nào ?",
         "0"
        ],
        [
         "23",
         "mình bít tới chỗ này do 1 bạn bình_luận so_sánh với nhà_hàng buffet nét việt , bạn ấy bảo hương_quê vừa rẻ vừa ngon ( bên nét việt mua voucher hotdeal là 119k ) , phục_vụ lại tốt rất ok , lên foody xem review cũng thấy đc khen nức_nở nên quyết_tâm đến ăn thử , nếu ok thì lại có thêm 1 quán ruột . tới thử rồi chỉ mún la_làng , quá tệ . không hề có 40 món như quảng_cáo , chỉ vài món le que mà hết còn không thèm chăm lên , nêm nếm thì quá mặn , quầy lẩu thì_có mỗi mấy cái đầu cá ương hết lên lun . lần đầu_tiên đi ăn buffet mà về ngay sau 30p và phải ra aeon_mall ăn hủ tíu gõ và 2 ly trà đào vì đói . thấy review tốt quá mà tới thử thì kinh_sợ hoàn_toàn . thôi xin chừa , từ nay không ham rẻ và tin vào review , hình_ảnh quảng_cáo câu_khách để mất tiền oan nữa . cứ tới quán quen mà ăn , dù có mắc hơn hay rẻ hơn thì cũng tốt hơn chỗ này nhìu , 100k/người mà thua tô hủ tíu gõ 12k .",
         "0"
        ],
        [
         "24",
         "quán nhỏ , nóng , đồ_ăn ít chịu châm khi hết , nhân_viên phục_vụ ok",
         "0"
        ],
        [
         "25",
         "kêu ly cafe_latte đá ( lỗi 1 phần do mình không coi menu và kêu vì mình hay uống latte ) nhìn cái ly thể_loại cafe ý rất ư là ngỡ_ngàng , nhìn không khác_nào ly sữa_tươi bỏ thêm cafe . càng không ngờ hơn ly cafe bần vậy giá 77k , không đáng 1 chút nào . phải_chi cái ly đẹp , nhìn sang chảnh chuyên_nghiệp như đúng bản_chất cafe ý thì bỏ tiền ra cũng thấy đáng . nhân_viên nhìn mặt ai_nấy y_như mất sổ gạo . trung_nguyen từ lúc thêm dc chữ legend , thay_đổi diện_mạo thì giá cũng thay_đổi theo . oải chè",
         "0"
        ],
        [
         "26",
         "không bằng tiệm cũ ngày_trước . bgiờ ăn cơm đảo khô , chỉ hơn cơm_rang bụi 1 chút . cơm trắng ( cơm tấm ngày_xưa tiệm cũ rất ngon ) giờ ở đây thì kém hơn . mọi ng ăn hay gọi thêm sốt - sốt này không có gì đạc biệt . nấu bằng tương cà + nước + bột thôi",
         "0"
        ],
        [
         "27",
         "không_gian bên đây nhỏ , ngồi hơi chán . phục_vụ cũng bình_thường .",
         "0"
        ],
        [
         "28",
         "qán bbq cũ chuyển qa lê_hồng_phong rồi ! ! qán bbq nguyễn chí thanh buôn_bán xạo lắm ! ! tới qán gọi thịt bò mà đem ra toàn thịt heo ! ! đi một lần là tởn tới già",
         "0"
        ],
        [
         "29",
         "quán phù_hợp cho các bạn mê ăn vặt . có nhiều món đa_dạng như bánh ép , bánh_tráng trứng , bánh kẹp , bò bía . riêng mình thì thấy gần đây bánh ép không còn ngon như trước . bánh_tráng trứng ăn ngon nhưng nếu được nướng thì ăn ngon hơn chiên .",
         "0"
        ],
        [
         "30",
         "lâ ̀ n đâ ̀ u đi ăn ba ́ nh e ́ p huê ́ . thâ ́ y la ̣ la ̣ ma ̀ cu ̃ ng re ̉ . 2k/ca ́ i cuô ́ n vơ ́ i rau_răm , dưa chua , dưa_leo châ ́ m nươ ́ c mă ́ m . tuyê ̣ t ! ! ! !",
         "0"
        ],
        [
         "31",
         "quán nhỏ nhưng view nhìn đẹp . choco_vanila ngon , cafe_hazenut đắng không có vị của hazenut . giá cũng ok ! có dịp sẽ quay lại ...",
         "0"
        ],
        [
         "32",
         "ba_động là một trong những địa_điểm du_lịch ở trà_vinh . bọn mình tới đây cũng nhiều lần ( vì dân miền tây mà ) . không_gian vẫn còn hoang_sơ nên khách không nhiều , đi chơi theo nhóm cũng thoải_mái . vì là biển phù_sa nên nước đục và không đẹp . chi_phí ăn_uống và sinh_hoạt ở đây cũng khá rẻ . mình thích nhất_là những rặng dương xanh nghi_ngút dọc bờ biển , lúc chơi mệt có_thể vào tránh nắng mà không cần thuê dù . bãi_biển khi cạn khá rộng nên thích_hợp cho những chuyến picnic , chơi thể_thao ... nhìn_chung thì so_sánh về mặt giá_cả , phong_cảnh cũng tạm ổn . các bạn nên đến thử 1 lần xem sao !",
         "0"
        ],
        [
         "33",
         "ai muô ́ n ti ̀ m ra thi ̀ dâ ̃ n mi ̀ nh đi ăn đi",
         "0"
        ],
        [
         "34",
         "mình và bạn nghe đồn quán ngon . ai dè khi ra thì quán vắng , nằm trog góc hẻm , khó kiếm , nhìn như mê_cung , giá đắt so với các quán ốc mình từng ăn , chỗ lại bẩn , ốc móng tay có mùi tanh kinh_khủng như để lâu ngày . không_gian chật_chội , mình ngồi còn không dám ngồi , phục_vụ thì cứ hỏi như ép cung mình ăn thêm . quá tệ",
         "0"
        ],
        [
         "35",
         "ở đây là quán ngồi vỉa_hè mà giá khá đắt , menu không có tính tiền ghi sổ rồi đưa mình check lại . bọn mình đi 4 người gọi 1 set nướng đầy_đủ không gan và lòng giá 400k . đồ_ăn ở đây thì bình_thường ướp hơi bị mặn . kim_chi thì muối bị sống ăn bị hăng , cải thảo vẫn còn trắng nguyên luôn , mình gọi rượu atiso uống thử thì chả thấy vị thơm của atiso đâu chỉ thấy uống chả khác_gì rượu bình_thường hay uống , trà đá thì nhạt như nước_lọc ý . lúc mình gọi thêm bò nầm nướng thì không thấy có khoai_lang , cà_tím , đậu nhật như đĩa đầu gọi hỏi nhân_viên thì họ bào hết mà lúc đó mới 8h tối chứ mấy . gọi đĩa khoai_tây chiên ra trẻ_con ăn thì vừa non vừa ỉu . nhân_viên phục_vụ được_cái niềm_nở nhưng chậm_chạp vãi . bọn mình đi 4 người ăn hết tổng là 830k .",
         "0"
        ],
        [
         "36",
         "quán bé lại còn bị che_khuất bở trạm xe bus nên dễ đi qua mà không nhìn thấy . sữa_chua các loại ăn ngon chứ chè thì chả ra_sao . kem xôi ăn cũng tạm",
         "0"
        ],
        [
         "37",
         "mấy lần đi qua đều thấy đóng_cửa :crying_face: :crying_face: :crying_face: chưa có dịp thử",
         "0"
        ],
        [
         "38",
         "m thích kem xôi ngon vầ rẻ . chè bơ thì không ngon như trc nữa . sữa_chua quá chua như không cho đường",
         "0"
        ],
        [
         "39",
         "ăn_ở đây từ tuần khai_trương mà thấy bánh vừa đắt vừa không ngon , nhạt_nhẽo & hương_vị bình_thường . combo cũng không rẻ hơn mua_lẻ là mấy , thấy quảng_cáo rầm_rộ nên đi ăn mà ăn xong thất_vọng tràn_trề : - <",
         "0"
        ],
        [
         "40",
         "không_gian : chật_hẹp chỉ có vài cái bàn thôi đồ uống : cực dở luôn . mình gọi smothie xoài nhg rõ_ràng vị xoài là của nước ép xoài đóng_hộp . chán không thể tả được . bạn mình gọi vị chanh leo thì hắc hắc giá : bình_thường nhg quá đắt so với chất_lượng wifi kém lắm . nói_chung là mình sẽ không bao_giờ quay lại",
         "0"
        ],
        [
         "41",
         "ăn bi ̀ nh thươ ̀ ng . hai đư ́ a ăn su ̉ i ca ̉ o va ̀ su ̉ i ca ̉ o my ̀ ta ̣ m đươ ̣ c vơ ́ i gia ́ 35k . qua ́ n dơ ̀ i ra mă ̣ t tiê ̀ n đươ ̀ ng ntp nên dê ̃ ti ̀ m",
         "0"
        ],
        [
         "42",
         "quán này đã dời địa_điểm sang 106a phùng_văn_cung f7 quận phú_nhuận rồi nha mọi ng giờ trong địa_chỉ cũ vẫn có quán ghi là hải_sản bình_ba luôn nhưng không ngon nha , hải_sản không tươi , phục_vụ chậm giá cao , ngồi trong bóng_tối nha mọi ng lưu_ý tránh chuốc thêm bực_bội và ăn không vui nha , thanks ! ! !",
         "0"
        ],
        [
         "43",
         "quán nằm gần trường trấn_biên , buổi chiều tan học đông cực . chả lụi cũng bình_thường như những chỗ khác vì lấy chung một chỗ . thái_độ phục_vụ kém , cô bán luôn tỏ_vẻ khó_chịu .",
         "0"
        ],
        [
         "44",
         "đa ̃ ăn 1 lâ ̀ n ơ ̉ đây va ̀ se ̃ ca ̣ ch tơ ́ i gia ̀ . tha ́ i đô ̣ phu ̣ c . ụ ke ́ m : ăn hê ́ t rau hê ́ t tương xin lâ ̀ n đâ ̀ u tiên pha ̉ i đơ ̣ i lâu va ̀ pha ̉ i nhă ́ c tơ ́ i lâ ̀ n thư ́ 2 du ̀ qua ́ n không đông . chu ̉ qua ́ n co ́ tha ́ i đô ̣ kho ́ chi ̣ u . nho ́ m 3 ng ăn xong vê ̀ tô ́ i bi ̣ đau quă ̣ n bu ̣ ng",
         "0"
        ],
        [
         "45",
         "hôm_nay đi qua , vào gọi gà luộc . ngồi nhâm_nhi lon bia một lúc thì thấy bê cơm ra . hỏi gà đâu thì một lúc sau mới bảo hết rồi . chán ! cần cải_tạo cách phục_vụ của nhân_viên cho tốt hơn . giá_cả thì cũng không phải là rẻ gì , tuy có niêm_yết chi_tiết . tất_nhiên là rẻ hơn hà_nội hay hạ_long rồi . được_cái nhà_hàng rộng_rãi , mát_mẻ ( miền núi mà ) , sạch_sẽ và tiện đường nhất trên tiên_yên . nếu các bạn đi đông thì sẽ được ưu_tiên phục_vụ ( ăn nhiều :beaming_face_with_smiling_eyes: ) . nếu_không là phải gọi mỏi mồm đấy . không có bánh gật_gù tại quán như các bạn quảng ninh hay quảng_cáo đâu . chắc món đấy làm lâu công . món khâu nhục không dậy_mùi tỏi , chưa đạt yêu_cầu , như thịt ba_chỉ kho thường . nếu bạn nào ăn_ở hoành_bồ rồi sẽ so_sánh được ngay . nói_chung là có_tiếng do ở tiên_yên thôi . phía dưới gần lối đi ba_chẽ cũng có vài nhà_hàng còn lớn hơn nhiều , xe đậu thoải_mái .",
         "0"
        ],
        [
         "46",
         "quán cũng khá nhỏ đồ uống cũng được mèo thấy đồ_ăn là sán vô con hết r chúng_nó chổng đít quay di max phũ : ) ) ) ) ) ) ncl đến nhiều r nhung gio moi review cho quán ... . ncl.ổn",
         "0"
        ],
        [
         "47",
         "đồ uống cũng bình_thường như bao quán khác , mèo ở đây nó cứ lờ_đờ bệnh bệnh thế_nào ấy",
         "0"
        ],
        [
         "48",
         "+ ) ưu_điểm : rộng_rãi khang_trang , trang_trí theo hơi_hướng hàn_quốc vì h cgv của hq nên bài_trí như_vậy cũng không có gì là_lạ : ) không gian rộng thôi rồi , thiet kế như kiểu 1 khu chờ tàu_điện_ngầm vậy : ) rộng đến_nỗi như kiểu đi mãi không hết_ý ! có hôm tìm phòng chiếu mãi mới thấy vì nó o trong góc : ) nếu_mà đến đây để chụp choẹt chắc chụp cả ngày không thấy chán mất , thích nhất_là khu có ghế sofa ngồi êm mà kể_cả ngồi bao_lâu cũng chả ai duoi . kiểu đến cgv hà đông cảm_giác thoải_mái lắm ý chả ai quản : ) ) cảm_thấy tự_do như ở nhà . nhà_vệ_sinh đẹp các chị_em nào mà nghiện tự sướng thì có_thể vào tự sướng thoai mái nhé không ai cản đâu : ) ) cái gương trong wc nữ như kiểu bàn trang_điểm ý xinh dã_man , à ưu_điểm nữa_là khu để xe rộng_rãi bảo vẹ vui_tính , không mất phí gửi xe nên các bạn yên_tâm + ) nhược_điểm : quá xa trung_tâm thành_phố , mặc_dù vé ở đây nhiều lúc rẻ hơn ở các cgv khác nhưng cứ nghĩ đến viec xuống đây xem phim la mình thấy ngại rồi ý : ) ) ngày thứ 4 vé đồng giá 50k nhé các bạn rẻ hơn cgv khác nên có hôm mình ham_hố xuống xem mặc_kệ trời nắng gắt thế_là vì tiết_kiệm 25k mà xem xong về ốm luôn : ) ) ) nên nếu ai nhà xa quá thì đừng cố nhé không lại quá_cố ! nhược_điểm nữa_là nhân_viên ở đây làm_ăn không chuyên_nghiệp , nói_năng khó nghe , kiểu nhân_viên nói nhanh không rõ_ràng ý , hôm đấy mình mua 3 vé xem phim chưa hỏi mình muốn lấy combo bỏng nước không đã tự_động cho_rồi , mình nói mình không mua combo mà_sao tự_dưng cho thì lại còn mắng lại bảo sao không tự để_ý vé thấy rẻ nthe mà không phàn_nàn luôn in vé rồi không đổi dc nữa : ) xong cũng hứa_hẹn bảo quản_lý ra giải_quyết rồi cũng mất_tăm_mất_tích luôn . may là lúc đấy cũng có khách muốn mua bỏng nên mình thương_lượng đc vs ng ta mua hộ cho mình phần combo : ) nhân_viên vô_trách_nhiệm và thái_độ , thật_sự làm minh thấy khó_chịu , xem mất tiền phải để khách thấy vui_vẻ chư nhưng chưa xem đã mất vui rồi , không phải mình đánh_đồng vs toàn_bộ nhân_viên của cgv . mình nhận_xét thẳng_thắn luôn nhân_viên cgv bên lotte và bên bà triệu mình tháy rất ok , phục_vụ rất đc chỉ có bên cgv hà đông là như_vậy thoi : ) chưa kể dù_sao cgv này cũng ở bên hà đông không phải vung trung_tâm nên ng xem cũng khá mất lịch_sự ! vào rạp thì nói to , nghe đt xong các thứ cảm_giác như đang xem ở rạp quốc_gia vậy ! đúng là cái gì rẻ quá cũng không tốt ! khuyên các bạn muốn đổi gió thì đến đây xem thử 1 2 lần thôi rồi các bạn cũng sẽ cảm_nhận giống mình thôi : )",
         "0"
        ],
        [
         "49",
         "món ăn thì cũng ngon , khg có gì đáng nói , giá_cả bình_dân hợp túi_tiền quán trong hẻm rộng_rãi , xe để kế bên cũng an_tâm chỉ có là order xong ngồi chờ rã cả họng anh thanh_niên đẹp chai mới tàn tàn lại thông_báo món này hết ròi , kiu order món khác giùm , lại 1 khoảng thời_gian dài đằng_đẵng nữa chờ_đợi trong tuyệt_vọng , tới mức hết chuyện để 8 với nhau mới thấy có món dọn lên . ăn_ở đây 2 lần , lần nào cũng vậy",
         "0"
        ]
       ],
       "shape": {
        "columns": 2,
        "rows": 49577
       }
      },
      "text/html": [
       "<div>\n",
       "<style scoped>\n",
       "    .dataframe tbody tr th:only-of-type {\n",
       "        vertical-align: middle;\n",
       "    }\n",
       "\n",
       "    .dataframe tbody tr th {\n",
       "        vertical-align: top;\n",
       "    }\n",
       "\n",
       "    .dataframe thead th {\n",
       "        text-align: right;\n",
       "    }\n",
       "</style>\n",
       "<table border=\"1\" class=\"dataframe\">\n",
       "  <thead>\n",
       "    <tr style=\"text-align: right;\">\n",
       "      <th></th>\n",
       "      <th>sentence</th>\n",
       "      <th>label</th>\n",
       "    </tr>\n",
       "  </thead>\n",
       "  <tbody>\n",
       "    <tr>\n",
       "      <th>0</th>\n",
       "      <td>mua có mỗi bingsu thập_cẩm 45k mà mình f đợi h...</td>\n",
       "      <td>0</td>\n",
       "    </tr>\n",
       "    <tr>\n",
       "      <th>1</th>\n",
       "      <td>thứ 6 nào ta cùng quẩy :bomb: :bomb: :bomb: vu...</td>\n",
       "      <td>0</td>\n",
       "    </tr>\n",
       "    <tr>\n",
       "      <th>2</th>\n",
       "      <td>mình đi với nhóm , tổng_cộng 4 người ăn chỉ có...</td>\n",
       "      <td>0</td>\n",
       "    </tr>\n",
       "    <tr>\n",
       "      <th>3</th>\n",
       "      <td>nhân_viên phục_vụ không mấy tận_tình , đồ_ăn r...</td>\n",
       "      <td>0</td>\n",
       "    </tr>\n",
       "    <tr>\n",
       "      <th>4</th>\n",
       "      <td>vào đây thì hết bàn , nhưng mình vẫn ngồi đợi ...</td>\n",
       "      <td>0</td>\n",
       "    </tr>\n",
       "    <tr>\n",
       "      <th>...</th>\n",
       "      <td>...</td>\n",
       "      <td>...</td>\n",
       "    </tr>\n",
       "    <tr>\n",
       "      <th>49994</th>\n",
       "      <td>- quán này mới khai_trương được 1 tuần , nằm n...</td>\n",
       "      <td>1</td>\n",
       "    </tr>\n",
       "    <tr>\n",
       "      <th>49996</th>\n",
       "      <td>quán nằm trên đường thạch_thị_thanh , dễ tìm ....</td>\n",
       "      <td>1</td>\n",
       "    </tr>\n",
       "    <tr>\n",
       "      <th>49997</th>\n",
       "      <td>mình đã đến ăn_ở quán này vài lần . đồ_ăn ngon...</td>\n",
       "      <td>1</td>\n",
       "    </tr>\n",
       "    <tr>\n",
       "      <th>49998</th>\n",
       "      <td>nhà_hàng trang_trí độc_đáo . món ăn mới_lạ nhi...</td>\n",
       "      <td>1</td>\n",
       "    </tr>\n",
       "    <tr>\n",
       "      <th>49999</th>\n",
       "      <td>quán có đồ uống hạt_dẻ nhất khu_vực tc . siêu ...</td>\n",
       "      <td>1</td>\n",
       "    </tr>\n",
       "  </tbody>\n",
       "</table>\n",
       "<p>49577 rows × 2 columns</p>\n",
       "</div>"
      ],
      "text/plain": [
       "                                                sentence  label\n",
       "0      mua có mỗi bingsu thập_cẩm 45k mà mình f đợi h...      0\n",
       "1      thứ 6 nào ta cùng quẩy :bomb: :bomb: :bomb: vu...      0\n",
       "2      mình đi với nhóm , tổng_cộng 4 người ăn chỉ có...      0\n",
       "3      nhân_viên phục_vụ không mấy tận_tình , đồ_ăn r...      0\n",
       "4      vào đây thì hết bàn , nhưng mình vẫn ngồi đợi ...      0\n",
       "...                                                  ...    ...\n",
       "49994  - quán này mới khai_trương được 1 tuần , nằm n...      1\n",
       "49996  quán nằm trên đường thạch_thị_thanh , dễ tìm ....      1\n",
       "49997  mình đã đến ăn_ở quán này vài lần . đồ_ăn ngon...      1\n",
       "49998  nhà_hàng trang_trí độc_đáo . món ăn mới_lạ nhi...      1\n",
       "49999  quán có đồ uống hạt_dẻ nhất khu_vực tc . siêu ...      1\n",
       "\n",
       "[49577 rows x 2 columns]"
      ]
     },
     "execution_count": 43,
     "metadata": {},
     "output_type": "execute_result"
    }
   ],
   "source": [
    "full_df"
   ]
  },
  {
   "cell_type": "markdown",
   "metadata": {},
   "source": [
    "## Embedding columns into vector"
   ]
  },
  {
   "cell_type": "code",
   "execution_count": 57,
   "metadata": {},
   "outputs": [],
   "source": [
    "import pyvi\n",
    "from pyvi import ViTokenizer\n",
    "def vn_tokenizer(text):\n",
    "    return ViTokenizer.tokenize(text).split()"
   ]
  },
  {
   "cell_type": "code",
   "execution_count": 58,
   "metadata": {},
   "outputs": [
    {
     "data": {
      "text/plain": [
       "['Tôi', 'là', 'sinh_viên', 'trường', 'Đại_học', 'Bách_Khoa_HCM']"
      ]
     },
     "execution_count": 58,
     "metadata": {},
     "output_type": "execute_result"
    }
   ],
   "source": [
    "test = \"Tôi là sinh viên trường Đại học Bách Khoa HCM\"\n",
    "vn_tokenizer(test)"
   ]
  },
  {
   "cell_type": "code",
   "execution_count": 59,
   "metadata": {},
   "outputs": [],
   "source": [
    "def yield_tokens(sentences, tokenize):\n",
    "    for sentence in sentences:\n",
    "        yield tokenize(sentence)"
   ]
  },
  {
   "cell_type": "code",
   "execution_count": 62,
   "metadata": {},
   "outputs": [],
   "source": [
    "# for build vocab\n",
    "from torchtext.vocab import build_vocab_from_iterator"
   ]
  },
  {
   "cell_type": "code",
   "execution_count": 64,
   "metadata": {},
   "outputs": [],
   "source": [
    "vocab_size = 1000\n",
    "vocabulary = build_vocab_from_iterator(yield_tokens(full_df['sentence'], vn_tokenizer), min_freq=2, specials=['<unk>', '<pad>'], special_first=True, max_tokens=vocab_size)\n",
    "vocabulary.set_default_index(vocabulary['<unk>'])"
   ]
  },
  {
   "cell_type": "code",
   "execution_count": 65,
   "metadata": {},
   "outputs": [],
   "source": [
    "vocab_size = 1000\n",
    "vocabulary = build_vocab_from_iterator(yield_tokens(train_df['sentence'], vn_tokenizer), min_freq=2, specials=['<unk>', '<pad>'], special_first=True, max_tokens=vocab_size)\n",
    "vocabulary.set_default_index(vocabulary['<unk>'])"
   ]
  },
  {
   "cell_type": "code",
   "execution_count": 66,
   "metadata": {},
   "outputs": [],
   "source": [
    "# convert iter to torchtext dataset\n",
    "from torchtext.data.functional import to_map_style_dataset\n",
    "def prepare_dataset(df):\n",
    "    for idx, row in df.iterrows():\n",
    "        sentence = row['sentence']\n",
    "        encoded_sentence = vocabulary(vn_tokenizer(sentence))\n",
    "        label = row['label']\n",
    "        yield (encoded_sentence, label)\n",
    "        \n",
    "train_dataset = to_map_style_dataset(prepare_dataset(train_df))\n",
    "valid_dataset = to_map_style_dataset(prepare_dataset(valid_df))"
   ]
  },
  {
   "cell_type": "code",
   "execution_count": 69,
   "metadata": {},
   "outputs": [
    {
     "data": {
      "text/plain": [
       "([130,\n",
       "  7,\n",
       "  190,\n",
       "  851,\n",
       "  921,\n",
       "  0,\n",
       "  23,\n",
       "  4,\n",
       "  0,\n",
       "  225,\n",
       "  78,\n",
       "  624,\n",
       "  368,\n",
       "  3,\n",
       "  176,\n",
       "  27,\n",
       "  11,\n",
       "  301,\n",
       "  626,\n",
       "  7,\n",
       "  482,\n",
       "  0,\n",
       "  263,\n",
       "  258,\n",
       "  93,\n",
       "  756,\n",
       "  368,\n",
       "  60,\n",
       "  104,\n",
       "  331,\n",
       "  539,\n",
       "  0,\n",
       "  661,\n",
       "  104,\n",
       "  3,\n",
       "  4,\n",
       "  5,\n",
       "  133,\n",
       "  7,\n",
       "  14,\n",
       "  5,\n",
       "  0,\n",
       "  13,\n",
       "  159,\n",
       "  6,\n",
       "  96,\n",
       "  3,\n",
       "  0,\n",
       "  301,\n",
       "  9,\n",
       "  19,\n",
       "  0,\n",
       "  236,\n",
       "  0,\n",
       "  12,\n",
       "  605,\n",
       "  230,\n",
       "  77,\n",
       "  3],\n",
       " 0)"
      ]
     },
     "execution_count": 69,
     "metadata": {},
     "output_type": "execute_result"
    }
   ],
   "source": [
    "train_dataset.__getitem__(0)"
   ]
  },
  {
   "cell_type": "code",
   "execution_count": 70,
   "metadata": {},
   "outputs": [],
   "source": [
    "import torch\n",
    "from torch.utils.data import DataLoader\n",
    "from torch.nn.utils.rnn import pad_sequence\n",
    "\n",
    "def collate_batch(batch):\n",
    "    encoded_sentences, labels = [], []\n",
    "    for encoded_sentence, label in batch:\n",
    "        labels.append(label)\n",
    "        encoded_sentence = torch.tensor(encoded_sentence, dtype=torch.int64)\n",
    "        encoded_sentences.append(encoded_sentence)\n",
    "    labels = torch.tensor(labels, dtype=torch.int64)\n",
    "    encoded_sentences = pad_sequence(encoded_sentences, padding_value=vocabulary['<pad>'])\n",
    "    return encoded_sentences, labels\n",
    "\n",
    "\n",
    "batch_size = 128\n",
    "train_loader = DataLoader(train_dataset, batch_size=batch_size, shuffle=True, collate_fn=collate_batch)\n",
    "valid_loader = DataLoader(valid_dataset, batch_size=batch_size, shuffle=False, collate_fn=collate_batch)"
   ]
  },
  {
   "cell_type": "code",
   "execution_count": 71,
   "metadata": {},
   "outputs": [
    {
     "data": {
      "text/plain": [
       "(tensor([[337, 392, 107,  ..., 111,  68,   4],\n",
       "         [ 80,  25,  15,  ..., 419,  86,  65],\n",
       "         [ 71,  21,  64,  ..., 271,  10, 271],\n",
       "         ...,\n",
       "         [  1,   1,   1,  ...,   1,   1,   1],\n",
       "         [  1,   1,   1,  ...,   1,   1,   1],\n",
       "         [  1,   1,   1,  ...,   1,   1,   1]]),\n",
       " tensor([1, 0, 1, 0, 1, 1, 1, 1, 1, 0, 0, 1, 1, 0, 1, 1, 1, 0, 0, 1, 1, 1, 1, 1,\n",
       "         1, 1, 0, 1, 0, 0, 1, 1, 0, 1, 1, 1, 0, 0, 1, 1, 0, 1, 1, 1, 0, 0, 1, 0,\n",
       "         1, 1, 0, 1, 0, 1, 0, 0, 0, 1, 0, 0, 0, 0, 1, 0, 0, 0, 0, 0, 0, 0, 1, 1,\n",
       "         0, 0, 1, 1, 0, 1, 1, 0, 1, 0, 1, 0, 0, 1, 0, 1, 0, 0, 1, 1, 0, 1, 0, 0,\n",
       "         0, 1, 0, 0, 1, 0, 0, 0, 0, 0, 0, 0, 1, 0, 1, 1, 1, 1, 0, 0, 0, 1, 0, 1,\n",
       "         0, 1, 0, 1, 1, 0, 0, 1]))"
      ]
     },
     "execution_count": 71,
     "metadata": {},
     "output_type": "execute_result"
    }
   ],
   "source": [
    "next(train_loader.__iter__())"
   ]
  },
  {
   "cell_type": "markdown",
   "metadata": {},
   "source": [
    "## Model TextCNN"
   ]
  },
  {
   "cell_type": "code",
   "execution_count": 72,
   "metadata": {},
   "outputs": [],
   "source": [
    "import torch.nn as nn\n",
    "import torch.nn.functional as F\n",
    "class TextCNN(nn.Module):\n",
    "    def __init__(self, vocab_size, embed_size, kernel_size, num_filters, num_classes):\n",
    "        super(TextCNN, self).__init__()\n",
    "        self.vocab_size = vocab_size\n",
    "        self.embed_size = embed_size\n",
    "        self.num_filters = num_filters\n",
    "        self.num_classes = num_classes\n",
    "        self.embedding = nn.Embedding(self.vocab_size, self.embed_size, padding_idx=0)\n",
    "        self.conv = nn.ModuleList([\n",
    "            nn.Conv1d(in_channels=embed_size,\n",
    "                      out_channels=num_filters,\n",
    "                      kernel_size=k,\n",
    "                      stride = 1)\n",
    "            for k in  kernel_size\n",
    "        ])\n",
    "        self.fc = nn.Linear(len(kernel_size) * num_filters, num_classes)\n",
    "    def forward(self, x):\n",
    "        batch_size, sequence_length = x.shape\n",
    "        x = self.embedding(x.T).transpose(1, 2)\n",
    "        x = [F.relu(conv(x)) for conv in self.conv]\n",
    "        x = [F.max_pool1d(i, i.size(-1)).squeeze(-1) for i in x]\n",
    "        x = torch.cat(x, dim=1)\n",
    "        x = self.fc(x)\n",
    "        return x"
   ]
  },
  {
   "cell_type": "code",
   "execution_count": 73,
   "metadata": {},
   "outputs": [],
   "source": [
    "import time\n",
    "def train(model, optimizer, criterion, train_loader, device, epoch = 0, log_interval = 50):\n",
    "    model.train()\n",
    "    total_acc, total_count = 0, 0\n",
    "    losses = []\n",
    "    start_time = time.time()    \n",
    "    for idx, (inputs, labels) in enumerate(train_loader):\n",
    "        inputs = inputs.to(device)\n",
    "        labels = labels.to(device)\n",
    "        \n",
    "        optimizer.zero_grad()\n",
    "        predictions = model(inputs)\n",
    "        loss = criterion(predictions, labels)\n",
    "        loss.backward()\n",
    "        \n",
    "        optimizer.step()\n",
    "        total_acc += (predictions.argmax(1) == labels).sum().item()\n",
    "        total_count += labels.size(0)\n",
    "        if idx % log_interval == 0 and idx > 0:\n",
    "            elapsed = time.time() - start_time\n",
    "            print('| epoch {:3d} | {:5d}/{:5d} batches | accuracy {:8.3f}'.format(epoch, idx, len(train_loader), total_acc/total_count))\n",
    "            losses.append(loss.item())\n",
    "            total_acc, total_count = 0, 0\n",
    "            start_time = time.time()\n",
    "    epoch_acc = total_acc / total_count\n",
    "    epoch_loss = np.mean(losses)\n",
    "    return epoch_acc, epoch_loss"
   ]
  },
  {
   "cell_type": "code",
   "execution_count": 74,
   "metadata": {},
   "outputs": [],
   "source": [
    "def evaluate(model, criterion, valid_loader, device):\n",
    "    model.eval()\n",
    "    total_acc, total_count = 0, 0\n",
    "    losses = []\n",
    "    with torch.no_grad():\n",
    "        for idx, (inputs, labels) in enumerate(valid_loader):\n",
    "            inputs = inputs.to(device)\n",
    "            labels = labels.to(device)\n",
    "            predictions = model(inputs)\n",
    "            loss = criterion(predictions, labels)\n",
    "            losses.append(loss.item())\n",
    "            total_acc += (predictions.argmax(1) == labels).sum().item()\n",
    "            total_count += labels.size(0)\n",
    "    epoch_acc = total_acc / total_count\n",
    "    epoch_loss = sum(losses) / len(losses)\n",
    "    return epoch_acc, epoch_loss"
   ]
  },
  {
   "cell_type": "code",
   "execution_count": 75,
   "metadata": {},
   "outputs": [],
   "source": [
    "import torch.optim as optim\n",
    "num_class = train_df['label'].nunique()\n",
    "vocab_size = len(vocabulary)\n",
    "embedding_dim = 100\n",
    "device = torch.device('cuda' if torch.cuda.is_available() else 'cpu')\n",
    "model = TextCNN(\n",
    "    vocab_size=vocab_size,\n",
    "    embed_size=embedding_dim,\n",
    "    kernel_size=[2, 3, 4],\n",
    "    num_filters=100,\n",
    "    num_classes=num_class\n",
    ")\n",
    "model.to(device)\n",
    "criterion = nn.CrossEntropyLoss()\n",
    "optimizer = optim.Adam(model.parameters(), lr=0.001)"
   ]
  },
  {
   "cell_type": "code",
   "execution_count": 77,
   "metadata": {},
   "outputs": [
    {
     "name": "stdout",
     "output_type": "stream",
     "text": [
      "| epoch   0 |    50/  233 batches | accuracy    0.911\n",
      "| epoch   0 |   100/  233 batches | accuracy    0.906\n",
      "| epoch   0 |   150/  233 batches | accuracy    0.910\n",
      "| epoch   0 |   200/  233 batches | accuracy    0.909\n",
      "-----------------------------------------------------------------------------------------\n",
      "| end of epoch   0 | time: 91.49s | valid accuracy    0.872 | valid loss    0.308\n",
      "-----------------------------------------------------------------------------------------\n",
      "| epoch   1 |    50/  233 batches | accuracy    0.935\n",
      "| epoch   1 |   100/  233 batches | accuracy    0.939\n",
      "| epoch   1 |   150/  233 batches | accuracy    0.932\n",
      "| epoch   1 |   200/  233 batches | accuracy    0.929\n",
      "-----------------------------------------------------------------------------------------\n",
      "| end of epoch   1 | time: 92.47s | valid accuracy    0.889 | valid loss    0.288\n",
      "-----------------------------------------------------------------------------------------\n",
      "| epoch   2 |    50/  233 batches | accuracy    0.959\n",
      "| epoch   2 |   100/  233 batches | accuracy    0.963\n",
      "| epoch   2 |   150/  233 batches | accuracy    0.961\n",
      "| epoch   2 |   200/  233 batches | accuracy    0.955\n",
      "-----------------------------------------------------------------------------------------\n",
      "| end of epoch   2 | time: 91.55s | valid accuracy    0.888 | valid loss    0.291\n",
      "-----------------------------------------------------------------------------------------\n",
      "| epoch   3 |    50/  233 batches | accuracy    0.964\n",
      "| epoch   3 |   100/  233 batches | accuracy    0.963\n",
      "| epoch   3 |   150/  233 batches | accuracy    0.959\n",
      "| epoch   3 |   200/  233 batches | accuracy    0.950\n",
      "-----------------------------------------------------------------------------------------\n",
      "| end of epoch   3 | time: 89.60s | valid accuracy    0.890 | valid loss    0.294\n",
      "-----------------------------------------------------------------------------------------\n",
      "| epoch   4 |    50/  233 batches | accuracy    0.964\n",
      "| epoch   4 |   100/  233 batches | accuracy    0.965\n",
      "| epoch   4 |   150/  233 batches | accuracy    0.954\n",
      "| epoch   4 |   200/  233 batches | accuracy    0.954\n",
      "-----------------------------------------------------------------------------------------\n",
      "| end of epoch   4 | time: 89.14s | valid accuracy    0.888 | valid loss    0.292\n",
      "-----------------------------------------------------------------------------------------\n",
      "| epoch   5 |    50/  233 batches | accuracy    0.961\n",
      "| epoch   5 |   100/  233 batches | accuracy    0.961\n",
      "| epoch   5 |   150/  233 batches | accuracy    0.961\n",
      "| epoch   5 |   200/  233 batches | accuracy    0.952\n",
      "-----------------------------------------------------------------------------------------\n",
      "| end of epoch   5 | time: 87.78s | valid accuracy    0.889 | valid loss    0.292\n",
      "-----------------------------------------------------------------------------------------\n",
      "| epoch   6 |    50/  233 batches | accuracy    0.965\n",
      "| epoch   6 |   100/  233 batches | accuracy    0.961\n",
      "| epoch   6 |   150/  233 batches | accuracy    0.960\n",
      "| epoch   6 |   200/  233 batches | accuracy    0.954\n",
      "-----------------------------------------------------------------------------------------\n",
      "| end of epoch   6 | time: 89.33s | valid accuracy    0.888 | valid loss    0.294\n",
      "-----------------------------------------------------------------------------------------\n",
      "| epoch   7 |    50/  233 batches | accuracy    0.968\n",
      "| epoch   7 |   100/  233 batches | accuracy    0.961\n",
      "| epoch   7 |   150/  233 batches | accuracy    0.955\n",
      "| epoch   7 |   200/  233 batches | accuracy    0.948\n",
      "-----------------------------------------------------------------------------------------\n",
      "| end of epoch   7 | time: 93.89s | valid accuracy    0.891 | valid loss    0.294\n",
      "-----------------------------------------------------------------------------------------\n",
      "| epoch   8 |    50/  233 batches | accuracy    0.961\n",
      "| epoch   8 |   100/  233 batches | accuracy    0.959\n",
      "| epoch   8 |   150/  233 batches | accuracy    0.957\n",
      "| epoch   8 |   200/  233 batches | accuracy    0.953\n",
      "-----------------------------------------------------------------------------------------\n",
      "| end of epoch   8 | time: 101.49s | valid accuracy    0.887 | valid loss    0.315\n",
      "-----------------------------------------------------------------------------------------\n",
      "| epoch   9 |    50/  233 batches | accuracy    0.964\n",
      "| epoch   9 |   100/  233 batches | accuracy    0.960\n",
      "| epoch   9 |   150/  233 batches | accuracy    0.957\n",
      "| epoch   9 |   200/  233 batches | accuracy    0.953\n",
      "-----------------------------------------------------------------------------------------\n",
      "| end of epoch   9 | time: 95.35s | valid accuracy    0.892 | valid loss    0.289\n",
      "-----------------------------------------------------------------------------------------\n",
      "| epoch  10 |    50/  233 batches | accuracy    0.960\n",
      "| epoch  10 |   100/  233 batches | accuracy    0.965\n",
      "| epoch  10 |   150/  233 batches | accuracy    0.953\n",
      "| epoch  10 |   200/  233 batches | accuracy    0.955\n",
      "-----------------------------------------------------------------------------------------\n",
      "| end of epoch  10 | time: 92.85s | valid accuracy    0.886 | valid loss    0.307\n",
      "-----------------------------------------------------------------------------------------\n",
      "| epoch  11 |    50/  233 batches | accuracy    0.967\n",
      "| epoch  11 |   100/  233 batches | accuracy    0.964\n",
      "| epoch  11 |   150/  233 batches | accuracy    0.960\n",
      "| epoch  11 |   200/  233 batches | accuracy    0.950\n",
      "-----------------------------------------------------------------------------------------\n",
      "| end of epoch  11 | time: 93.50s | valid accuracy    0.888 | valid loss    0.299\n",
      "-----------------------------------------------------------------------------------------\n",
      "| epoch  12 |    50/  233 batches | accuracy    0.957\n",
      "| epoch  12 |   100/  233 batches | accuracy    0.963\n",
      "| epoch  12 |   150/  233 batches | accuracy    0.960\n",
      "| epoch  12 |   200/  233 batches | accuracy    0.957\n",
      "-----------------------------------------------------------------------------------------\n",
      "| end of epoch  12 | time: 95.50s | valid accuracy    0.876 | valid loss    0.314\n",
      "-----------------------------------------------------------------------------------------\n",
      "| epoch  13 |    50/  233 batches | accuracy    0.961\n",
      "| epoch  13 |   100/  233 batches | accuracy    0.960\n",
      "| epoch  13 |   150/  233 batches | accuracy    0.955\n",
      "| epoch  13 |   200/  233 batches | accuracy    0.954\n",
      "-----------------------------------------------------------------------------------------\n",
      "| end of epoch  13 | time: 102.42s | valid accuracy    0.889 | valid loss    0.292\n",
      "-----------------------------------------------------------------------------------------\n",
      "| epoch  14 |    50/  233 batches | accuracy    0.964\n",
      "| epoch  14 |   100/  233 batches | accuracy    0.962\n",
      "| epoch  14 |   150/  233 batches | accuracy    0.956\n",
      "| epoch  14 |   200/  233 batches | accuracy    0.950\n",
      "-----------------------------------------------------------------------------------------\n",
      "| end of epoch  14 | time: 97.78s | valid accuracy    0.888 | valid loss    0.290\n",
      "-----------------------------------------------------------------------------------------\n",
      "| epoch  15 |    50/  233 batches | accuracy    0.958\n",
      "| epoch  15 |   100/  233 batches | accuracy    0.959\n",
      "| epoch  15 |   150/  233 batches | accuracy    0.953\n",
      "| epoch  15 |   200/  233 batches | accuracy    0.953\n",
      "-----------------------------------------------------------------------------------------\n",
      "| end of epoch  15 | time: 94.79s | valid accuracy    0.880 | valid loss    0.338\n",
      "-----------------------------------------------------------------------------------------\n",
      "| epoch  16 |    50/  233 batches | accuracy    0.966\n",
      "| epoch  16 |   100/  233 batches | accuracy    0.960\n",
      "| epoch  16 |   150/  233 batches | accuracy    0.961\n",
      "| epoch  16 |   200/  233 batches | accuracy    0.952\n",
      "-----------------------------------------------------------------------------------------\n",
      "| end of epoch  16 | time: 96.65s | valid accuracy    0.892 | valid loss    0.292\n",
      "-----------------------------------------------------------------------------------------\n",
      "| epoch  17 |    50/  233 batches | accuracy    0.959\n",
      "| epoch  17 |   100/  233 batches | accuracy    0.957\n",
      "| epoch  17 |   150/  233 batches | accuracy    0.959\n",
      "| epoch  17 |   200/  233 batches | accuracy    0.955\n",
      "-----------------------------------------------------------------------------------------\n",
      "| end of epoch  17 | time: 95.88s | valid accuracy    0.889 | valid loss    0.292\n",
      "-----------------------------------------------------------------------------------------\n",
      "| epoch  18 |    50/  233 batches | accuracy    0.966\n",
      "| epoch  18 |   100/  233 batches | accuracy    0.960\n",
      "| epoch  18 |   150/  233 batches | accuracy    0.957\n",
      "| epoch  18 |   200/  233 batches | accuracy    0.954\n",
      "-----------------------------------------------------------------------------------------\n",
      "| end of epoch  18 | time: 95.82s | valid accuracy    0.888 | valid loss    0.298\n",
      "-----------------------------------------------------------------------------------------\n",
      "| epoch  19 |    50/  233 batches | accuracy    0.961\n",
      "| epoch  19 |   100/  233 batches | accuracy    0.961\n",
      "| epoch  19 |   150/  233 batches | accuracy    0.962\n",
      "| epoch  19 |   200/  233 batches | accuracy    0.953\n",
      "-----------------------------------------------------------------------------------------\n",
      "| end of epoch  19 | time: 94.21s | valid accuracy    0.892 | valid loss    0.290\n",
      "-----------------------------------------------------------------------------------------\n"
     ]
    }
   ],
   "source": [
    "num_epochs = 20\n",
    "save_model = \"./modelTextCNN\"\n",
    "\n",
    "train_accs, train_losses = [], []\n",
    "valid_accs, valid_losses = [], []\n",
    "best_loss_eval = float('inf')\n",
    "\n",
    "for epoch in range(num_epochs):\n",
    "    epoch_start_time = time.time()\n",
    "    train_acc, train_loss = train(model, optimizer, criterion, train_loader, device, epoch)\n",
    "    train_accs.append(train_acc)\n",
    "    train_losses.append(train_loss)\n",
    "    \n",
    "    # evaluate\n",
    "    eval_acc, eval_loss = evaluate(model, criterion, valid_loader, device)\n",
    "    valid_accs.append(eval_acc)\n",
    "    valid_losses.append(eval_loss)\n",
    "    \n",
    "    # save best model\n",
    "    if eval_loss < best_loss_eval:\n",
    "        best_loss_eval = eval_loss\n",
    "        torch.save(model.state_dict(), save_model + \"/textCNN_best_model.pt\")\n",
    "    print('-' * 89)\n",
    "    print('| end of epoch {:3d} | time: {:5.2f}s | '\n",
    "          'valid accuracy {:8.3f} | valid loss {:8.3f}'.format(epoch, time.time() - epoch_start_time, eval_acc, eval_loss))\n",
    "    print('-' * 89)\n",
    "    \n",
    "    model.load_state_dict(torch.load(save_model + \"/textCNN_best_model.pt\"))\n",
    "    model.eval()\n"
   ]
  },
  {
   "cell_type": "code",
   "execution_count": 78,
   "metadata": {},
   "outputs": [
    {
     "data": {
      "image/png": "[encoded data removed]",
      "text/plain": [
       "<Figure size 1200x600 with 1 Axes>"
      ]
     },
     "metadata": {},
     "output_type": "display_data"
    }
   ],
   "source": [
    "# plot the training and validation loss\n",
    "plt.figure(figsize=(12, 6))\n",
    "plt.plot(train_losses, label='train loss')\n",
    "plt.plot(valid_losses, label='valid loss')\n",
    "plt.xlabel('Epochs')\n",
    "plt.ylabel('Loss')\n",
    "plt.legend()\n",
    "plt.show()"
   ]
  },
  {
   "cell_type": "code",
   "execution_count": 79,
   "metadata": {},
   "outputs": [
    {
     "data": {
      "image/png": "[encoded data removed]",
      "text/plain": [
       "<Figure size 1200x600 with 1 Axes>"
      ]
     },
     "metadata": {},
     "output_type": "display_data"
    }
   ],
   "source": [
    "# plot the training and validation accuracy\n",
    "plt.figure(figsize=(12, 6))\n",
    "plt.plot(train_accs, label='train accuracy')\n",
    "plt.plot(valid_accs, label='valid accuracy')\n",
    "plt.xlabel('Epochs')\n",
    "plt.ylabel('Accuracy')\n",
    "plt.legend()\n",
    "plt.show()"
   ]
  },
  {
   "cell_type": "code",
   "execution_count": 80,
   "metadata": {},
   "outputs": [
    {
     "name": "stdout",
     "output_type": "stream",
     "text": [
      "best_loss_eval:  0.2882953580373373\n"
     ]
    }
   ],
   "source": [
    "print(\"best_loss_eval: \", best_loss_eval)"
   ]
  },
  {
   "cell_type": "code",
   "execution_count": 81,
   "metadata": {},
   "outputs": [
    {
     "name": "stdout",
     "output_type": "stream",
     "text": [
      "Test accuracy: 0.8897177419354839, Test loss: 0.27772422660237706\n"
     ]
    }
   ],
   "source": [
    "## Test the model\n",
    "test_dataset = to_map_style_dataset(prepare_dataset(test_df))\n",
    "test_loader = DataLoader(test_dataset, batch_size=batch_size, shuffle=False, collate_fn=collate_batch)\n",
    "\n",
    "test_acc, test_loss = evaluate(model, criterion, test_loader, device)\n",
    "print(f'Test accuracy: {test_acc}, Test loss: {test_loss}')"
   ]
  },
  {
   "cell_type": "code",
   "execution_count": 84,
   "metadata": {},
   "outputs": [],
   "source": [
    "torch.save(vocabulary, \"vocab_textCNN.pth\")\n"
   ]
  },
  {
   "cell_type": "code",
   "execution_count": 87,
   "metadata": {},
   "outputs": [
    {
     "data": {
      "text/plain": [
       "{'mình': 4,\n",
       " 'gì': 66,\n",
       " 'chảy': 993,\n",
       " '.': 3,\n",
       " 'khô': 342,\n",
       " 'dưới': 388,\n",
       " 'rồi': 62,\n",
       " 'súp': 737,\n",
       " 'nữa': 60,\n",
       " 'chuyện': 707,\n",
       " 'mơ': 700,\n",
       " 'này': 35,\n",
       " 'tuy': 417,\n",
       " 'combo': 492,\n",
       " 'đèn': 948,\n",
       " '<unk>': 0,\n",
       " 'nước': 72,\n",
       " 'vô': 211,\n",
       " 'không': 5,\n",
       " 'của': 48,\n",
       " 'mặn': 346,\n",
       " '<pad>': 1,\n",
       " 'tầng': 240,\n",
       " ',': 2,\n",
       " 'khá': 39,\n",
       " 'mọi': 245,\n",
       " ';': 455,\n",
       " 'nè': 703,\n",
       " 'đây': 21,\n",
       " 'kết': 861,\n",
       " 'và': 12,\n",
       " 'no': 188,\n",
       " 'nữ': 882,\n",
       " 'nếm': 809,\n",
       " 'ăn': 6,\n",
       " 'có': 7,\n",
       " 'bài': 654,\n",
       " 'lần': 38,\n",
       " 'hihi': 744,\n",
       " ':': 8,\n",
       " 'quán': 9,\n",
       " 'không_thể': 477,\n",
       " 'đến': 36,\n",
       " 'món': 24,\n",
       " 'là': 10,\n",
       " 'trân_châu': 765,\n",
       " 'chung': 404,\n",
       " 'thì': 11,\n",
       " 'người': 74,\n",
       " 'đặt': 308,\n",
       " 'cũng': 13,\n",
       " 'free': 588,\n",
       " 'từng': 324,\n",
       " 'quá': 46,\n",
       " 'ngon': 14,\n",
       " 'nước_mắm': 984,\n",
       " 'hoài': 764,\n",
       " 'ở': 25,\n",
       " '́': 15,\n",
       " 'cho': 32,\n",
       " 'xôi': 502,\n",
       " 'mà': 23,\n",
       " 'sài_gòn': 989,\n",
       " 'suất': 706,\n",
       " 'mùi_vị': 568,\n",
       " 'rất': 16,\n",
       " '50k': 665,\n",
       " '̀': 17,\n",
       " 'nhưng': 18,\n",
       " 'tóm_lại': 839,\n",
       " 'nên': 19,\n",
       " ')': 20,\n",
       " 'khó': 326,\n",
       " 'thanh_toán': 922,\n",
       " 'chén': 503,\n",
       " 'nhìn_chung': 905,\n",
       " 'sinh_nhật': 858,\n",
       " '1': 22,\n",
       " 'gi': 814,\n",
       " 'nhất': 163,\n",
       " 'bày': 864,\n",
       " 'hơi': 49,\n",
       " 'bữa': 348,\n",
       " '*': 489,\n",
       " 'với': 31,\n",
       " 'cha': 870,\n",
       " 'liền': 661,\n",
       " 'đi': 26,\n",
       " 'lại': 27,\n",
       " 'vừa_miệng': 423,\n",
       " 'thấy': 28,\n",
       " 'bàn': 123,\n",
       " 'quên': 457,\n",
       " 'được': 29,\n",
       " 'lấy': 268,\n",
       " 'cái': 57,\n",
       " 'nhân_viên': 30,\n",
       " 'khi': 84,\n",
       " 'ý': 266,\n",
       " 'niềm_nở': 885,\n",
       " 'hồ': 720,\n",
       " 'bánh_mì': 357,\n",
       " 'chua_chua': 930,\n",
       " '-': 47,\n",
       " 'vậy': 250,\n",
       " 'quầy': 517,\n",
       " 'uống': 41,\n",
       " '̣': 33,\n",
       " 'ăn_không': 338,\n",
       " 'view': 353,\n",
       " 'không_gian': 59,\n",
       " 'ba': 232,\n",
       " 'xin': 409,\n",
       " 'nhiều': 40,\n",
       " 'sẽ': 82,\n",
       " 'flan': 867,\n",
       " '!': 34,\n",
       " 'như': 52,\n",
       " 'tiền': 137,\n",
       " 'matcha': 360,\n",
       " 'bình_thường': 203,\n",
       " 'điểm': 228,\n",
       " '100k': 860,\n",
       " 'bếp': 680,\n",
       " '2': 43,\n",
       " 'bạn': 37,\n",
       " 'r': 482,\n",
       " 'mắc': 251,\n",
       " 'khen': 448,\n",
       " 'còn': 42,\n",
       " 'lắm': 56,\n",
       " 'ra': 44,\n",
       " 'thơm': 150,\n",
       " 'phục_vụ': 45,\n",
       " 't': 101,\n",
       " 'vào': 50,\n",
       " 'chủ': 162,\n",
       " 'nguyên': 620,\n",
       " 'luôn': 51,\n",
       " 'trí': 927,\n",
       " '(': 53,\n",
       " 'khói': 876,\n",
       " 'bánh': 54,\n",
       " 'sinh_tố': 821,\n",
       " 'các': 55,\n",
       " 'chụp': 295,\n",
       " 'đáng': 345,\n",
       " 'giá': 58,\n",
       " 'hay': 103,\n",
       " 'mới': 61,\n",
       " 'sư': 888,\n",
       " 'gọi': 63,\n",
       " 'n': 64,\n",
       " 'loại': 158,\n",
       " 'cộng': 535,\n",
       " 'khoảng': 358,\n",
       " 'thích': 65,\n",
       " 'để': 67,\n",
       " 'vs': 230,\n",
       " 'lâ': 506,\n",
       " 'phải': 68,\n",
       " 'quyết_định': 899,\n",
       " 'thời_gian': 666,\n",
       " 'trong': 69,\n",
       " 'vì': 70,\n",
       " 'thấm': 883,\n",
       " 'hoàn_toàn': 767,\n",
       " 'i': 71,\n",
       " 'để_ý': 811,\n",
       " 'trà': 73,\n",
       " '%': 391,\n",
       " 'cửa': 748,\n",
       " 'trang_trí': 233,\n",
       " 'lâu': 157,\n",
       " 'giao': 542,\n",
       " 'chỉ': 75,\n",
       " 'chuyên_nghiệp': 537,\n",
       " '...': 76,\n",
       " '&': 458,\n",
       " 'vệ_sinh': 656,\n",
       " 'hôm_qua': 614,\n",
       " 'khách': 77,\n",
       " 'hơn': 78,\n",
       " 'm': 165,\n",
       " 'đó': 79,\n",
       " 'đào': 334,\n",
       " 'đứng': 375,\n",
       " 'ăn_uống': 704,\n",
       " '̉': 80,\n",
       " 'buổi_trưa': 802,\n",
       " 'ng': 81,\n",
       " 'nếu': 175,\n",
       " 'bọn': 466,\n",
       " 'ngồi': 83,\n",
       " 'về': 85,\n",
       " 'ơ': 505,\n",
       " 'mặt': 329,\n",
       " 'nói': 86,\n",
       " 'mấy': 87,\n",
       " '^': 146,\n",
       " 'hết': 88,\n",
       " 'nồi': 777,\n",
       " 'một': 89,\n",
       " 'nc': 605,\n",
       " 'chơi': 426,\n",
       " 'vị': 90,\n",
       " 'topping': 966,\n",
       " 'hủ': 881,\n",
       " 'đã': 91,\n",
       " 'trưa': 362,\n",
       " 'lúc': 92,\n",
       " 'ai': 194,\n",
       " 'máy': 920,\n",
       " 'thêm': 93,\n",
       " 'cực_kì': 413,\n",
       " 'thức_ăn': 312,\n",
       " 'ship': 853,\n",
       " 'chỗ': 94,\n",
       " 'mua': 130,\n",
       " 'họ': 480,\n",
       " '3': 95,\n",
       " 'đang': 238,\n",
       " 'chủ_yếu': 783,\n",
       " 'thử': 96,\n",
       " 'xanh': 244,\n",
       " 'cả': 97,\n",
       " 'sữa': 141,\n",
       " 'o': 286,\n",
       " 'có_vẻ': 406,\n",
       " 'làm': 98,\n",
       " 'nhận': 481,\n",
       " 'nào': 99,\n",
       " 'cứ': 198,\n",
       " 'miễn_phí': 674,\n",
       " 'đồ_ăn': 100,\n",
       " 'vấn_đề': 859,\n",
       " 'đẹp': 102,\n",
       " 'nhóm': 325,\n",
       " 'chán': 374,\n",
       " 'trời': 488,\n",
       " '\"': 104,\n",
       " 'kem': 105,\n",
       " 'giữa': 702,\n",
       " 'số': 403,\n",
       " 'cỡ': 964,\n",
       " 'mă': 862,\n",
       " 'cá_hồi': 766,\n",
       " 'vừa': 106,\n",
       " 'qua': 107,\n",
       " 'có_thể': 216,\n",
       " 'khác': 108,\n",
       " 'bánh_canh': 925,\n",
       " 'nhìn': 109,\n",
       " 'li': 995,\n",
       " 'đêm': 929,\n",
       " 'đặc_biệt': 168,\n",
       " 'xe': 110,\n",
       " 'trái_cây': 469,\n",
       " 'lên': 111,\n",
       " 'đồ': 112,\n",
       " 'chiều': 473,\n",
       " 'đi_về': 978,\n",
       " 'rẻ': 145,\n",
       " 'cục': 710,\n",
       " 'đông': 113,\n",
       " 'menu': 210,\n",
       " 'bị': 114,\n",
       " 'c': 115,\n",
       " 'tuyệt': 402,\n",
       " 'trên': 116,\n",
       " 'lời': 716,\n",
       " 'thôi': 117,\n",
       " 'sạch': 685,\n",
       " 'chưa': 118,\n",
       " '_': 446,\n",
       " 'thịt': 119,\n",
       " 'chật': 807,\n",
       " 'gọi_là': 643,\n",
       " 'sau': 120,\n",
       " 'quay': 121,\n",
       " 'nhỏ': 122,\n",
       " 'vỉa_hè': 683,\n",
       " 'tới': 124,\n",
       " 'hiểu': 433,\n",
       " 'duy_nhất': 827,\n",
       " 'ghé': 125,\n",
       " 'đc': 126,\n",
       " 'xong': 155,\n",
       " 'nó': 189,\n",
       " 'dành': 896,\n",
       " 'à': 399,\n",
       " 'ly': 127,\n",
       " '̃': 128,\n",
       " 'dở': 351,\n",
       " 'va': 280,\n",
       " 'khẩu_vị': 819,\n",
       " 'khuyến_mãi': 632,\n",
       " 'nhìu': 534,\n",
       " 'ít': 166,\n",
       " 'vẫn': 129,\n",
       " 'phải_chăng': 770,\n",
       " 'cực': 254,\n",
       " '#': 387,\n",
       " 'bên': 131,\n",
       " 'nướng': 140,\n",
       " 'ngọt': 132,\n",
       " 'biết': 133,\n",
       " 'từ': 134,\n",
       " 'đối_diện': 750,\n",
       " 'phần': 135,\n",
       " 'sẵn': 705,\n",
       " '/': 136,\n",
       " 'nhiệt_tình': 138,\n",
       " 'mùi': 193,\n",
       " 'xúc_xích': 976,\n",
       " 'nh': 139,\n",
       " 'những': 142,\n",
       " 'chất_lượng': 143,\n",
       " 'chứ': 144,\n",
       " 'giới_thiệu': 453,\n",
       " '>': 460,\n",
       " 'gà': 147,\n",
       " 'tạo': 713,\n",
       " 'bò': 148,\n",
       " 'giá_cả': 149,\n",
       " 'nhà': 171,\n",
       " 'nói_chung': 151,\n",
       " 'trước': 152,\n",
       " 'rộng_rãi': 395,\n",
       " 'bác': 865,\n",
       " 'cơm': 153,\n",
       " 'lẩu': 172,\n",
       " '?': 154,\n",
       " 'gần': 156,\n",
       " 'tên': 425,\n",
       " '5': 275,\n",
       " 'dc': 344,\n",
       " 'muốn': 159,\n",
       " 'cay': 314,\n",
       " 'hành': 837,\n",
       " 'tại': 277,\n",
       " 'sống': 900,\n",
       " 'pha_chế': 897,\n",
       " 'kêu': 160,\n",
       " 'đủ': 310,\n",
       " 'không_bao_giờ': 570,\n",
       " 'chắc': 161,\n",
       " 'mô': 873,\n",
       " 'nơi': 265,\n",
       " 'ok': 164,\n",
       " 'la': 167,\n",
       " 'dễ_thương': 169,\n",
       " 'đưa': 347,\n",
       " 'bán': 170,\n",
       " 'chắc_chắn': 470,\n",
       " 'đâu': 173,\n",
       " 'tính': 174,\n",
       " 'lạnh': 471,\n",
       " 'á': 688,\n",
       " 'dẫn': 677,\n",
       " 'khu': 377,\n",
       " 'hỏi': 176,\n",
       " 'ngay': 177,\n",
       " 'thumbs_up': 472,\n",
       " 'mang': 178,\n",
       " 'vài': 300,\n",
       " '6': 467,\n",
       " 'bông': 947,\n",
       " 'theo': 179,\n",
       " 'mỳ': 407,\n",
       " 'chị': 180,\n",
       " 'ma': 366,\n",
       " 'xay': 659,\n",
       " 'kiểu': 181,\n",
       " 'hai': 354,\n",
       " 'xào': 389,\n",
       " 'a': 182,\n",
       " 'nóng': 261,\n",
       " 'lầu': 439,\n",
       " 'tầm': 336,\n",
       " 'tiếc': 698,\n",
       " 'ngoài': 183,\n",
       " 'bạn_bè': 424,\n",
       " 'h': 668,\n",
       " 'so': 184,\n",
       " 'do': 185,\n",
       " 'hê': 992,\n",
       " 'đọc': 604,\n",
       " 'tốt': 186,\n",
       " 'bún': 320,\n",
       " 'hấp_dẫn': 468,\n",
       " 'chương_trình': 751,\n",
       " 'đều': 187,\n",
       " 'lun': 352,\n",
       " 'mỗi': 190,\n",
       " 'hôm': 191,\n",
       " 'dừa': 421,\n",
       " 'làm_việc': 813,\n",
       " 'sốt': 192,\n",
       " 'đầu': 195,\n",
       " '4': 196,\n",
       " 'thập_cẩm': 921,\n",
       " 'đường': 197,\n",
       " 'mì': 199,\n",
       " 'cháy': 776,\n",
       " 'nghe': 200,\n",
       " 'thoải_mái': 259,\n",
       " 'gia': 498,\n",
       " 'y': 201,\n",
       " 'khoai_tây': 509,\n",
       " 'chả': 202,\n",
       " 'order': 204,\n",
       " 'salad': 557,\n",
       " '+': 205,\n",
       " 'thứ': 206,\n",
       " 'bơ': 479,\n",
       " 'thân_thiện': 207,\n",
       " '=': 208,\n",
       " 'đúng': 209,\n",
       " 'ổn': 212,\n",
       " 'nhâ': 792,\n",
       " 'miếng': 213,\n",
       " 'tươi': 226,\n",
       " 'rau': 285,\n",
       " 'rộng': 361,\n",
       " 'con': 214,\n",
       " 'co': 215,\n",
       " 'chê': 379,\n",
       " 'tìm': 217,\n",
       " 'ngày': 218,\n",
       " 'anh': 219,\n",
       " 'nha': 220,\n",
       " 'như_thế': 890,\n",
       " 'mong': 815,\n",
       " 'cắt': 729,\n",
       " 'màu': 440,\n",
       " 'bạch': 983,\n",
       " 'chiên': 221,\n",
       " 'khỏi': 372,\n",
       " 'sao': 222,\n",
       " 'nhẹ_nhàng': 655,\n",
       " 'đá': 223,\n",
       " 'tối': 224,\n",
       " 'thanh': 708,\n",
       " 'đợi': 225,\n",
       " 'ngán': 333,\n",
       " 'thi': 227,\n",
       " 'hôm_nay': 288,\n",
       " 'ngấy': 849,\n",
       " 'phòng': 322,\n",
       " 'đói': 833,\n",
       " 'canh': 554,\n",
       " 'em': 229,\n",
       " 'toàn': 243,\n",
       " 'tiện': 832,\n",
       " 'mi': 231,\n",
       " 'bỏ': 234,\n",
       " 'nhà_hàng': 235,\n",
       " 'hàng': 316,\n",
       " 'cách': 236,\n",
       " 'mềm': 237,\n",
       " 'riêng': 355,\n",
       " 'nhé': 239,\n",
       " 'nằm': 241,\n",
       " 'thái_độ': 242,\n",
       " 'decor': 687,\n",
       " 'cao': 246,\n",
       " 'ăn_ở': 247,\n",
       " 'dầu': 871,\n",
       " 'nấm': 598,\n",
       " 'to': 248,\n",
       " '10': 318,\n",
       " 'huế': 981,\n",
       " 'dễ': 249,\n",
       " 'chua': 414,\n",
       " 'tệ': 252,\n",
       " 'vê': 943,\n",
       " 'nước_chấm': 551,\n",
       " 'tô': 253,\n",
       " 'kèm': 262,\n",
       " 'ông': 709,\n",
       " 'ca': 255,\n",
       " 'cảm_giác': 256,\n",
       " 'thất_vọng': 257,\n",
       " 'ch': 335,\n",
       " 'tư': 735,\n",
       " 'bước': 432,\n",
       " 'trẻ': 909,\n",
       " 'chờ': 258,\n",
       " 'vịt': 975,\n",
       " 'cá': 260,\n",
       " 'tạm': 267,\n",
       " 'bên_cạnh': 835,\n",
       " 'mát_mẻ': 672,\n",
       " 'bảo': 263,\n",
       " 'đĩa': 396,\n",
       " 'một_chút': 996,\n",
       " 'thái': 393,\n",
       " 'pizza': 350,\n",
       " 'nhất_là': 264,\n",
       " 'giờ': 269,\n",
       " 'u': 270,\n",
       " 'xem': 271,\n",
       " 'chất': 553,\n",
       " 'đem': 272,\n",
       " 'p': 273,\n",
       " 'lịch_sự': 456,\n",
       " 'đứa': 274,\n",
       " 'nhớ': 401,\n",
       " 'mát': 276,\n",
       " 'đậm_đà': 385,\n",
       " 'thay_đổi': 846,\n",
       " 'thoáng': 278,\n",
       " 'cu': 290,\n",
       " 'cùng': 294,\n",
       " 'nhanh': 279,\n",
       " 'giòn': 281,\n",
       " 'lớp': 580,\n",
       " 'ấy': 282,\n",
       " '30': 675,\n",
       " 'ngang': 556,\n",
       " 'đầu_tiên': 283,\n",
       " 'trứng': 284,\n",
       " 'đắt': 291,\n",
       " 'da': 633,\n",
       " '7': 530,\n",
       " 'hình': 287,\n",
       " 'bằng': 289,\n",
       " 'tận_tình': 574,\n",
       " 'mở': 292,\n",
       " 'bưng': 603,\n",
       " 'máy_lạnh': 529,\n",
       " 'cafe': 293,\n",
       " 'cô': 296,\n",
       " 'độ': 753,\n",
       " 'bao': 514,\n",
       " 'chọn': 297,\n",
       " 'thường_xuyên': 742,\n",
       " 'sạch_sẽ': 298,\n",
       " 'sushi': 392,\n",
       " 'chổ': 848,\n",
       " 'nghĩ': 315,\n",
       " 'tôi': 299,\n",
       " 'sách': 933,\n",
       " 'nv': 301,\n",
       " 'dĩa': 302,\n",
       " 'đê': 427,\n",
       " 'mâ': 956,\n",
       " 'chẳng': 303,\n",
       " 'mất': 304,\n",
       " 'không_khí': 986,\n",
       " 'phô_mai': 305,\n",
       " 'cơ': 982,\n",
       " 'thật': 306,\n",
       " 'giống': 307,\n",
       " 'nhờ': 768,\n",
       " 'càng': 651,\n",
       " 'giữ': 309,\n",
       " 'siêu': 311,\n",
       " 'lạ': 313,\n",
       " 'tí': 415,\n",
       " 'tôm': 317,\n",
       " 'đậu': 613,\n",
       " 'hợp_lý': 408,\n",
       " 'đỏ': 843,\n",
       " 'tráng_miệng': 808,\n",
       " 'chạy': 319,\n",
       " 'que': 963,\n",
       " 'béo': 321,\n",
       " 'hài_lòng': 382,\n",
       " 'ạ': 575,\n",
       " 'voucher': 571,\n",
       " 'ghi': 544,\n",
       " 'như_vậy': 323,\n",
       " 'nhật': 478,\n",
       " 'vặt': 746,\n",
       " 'rõ': 572,\n",
       " 'thèm': 327,\n",
       " 'ấn_tượng': 328,\n",
       " 'được_cái': 536,\n",
       " 'dù': 330,\n",
       " 'tụi': 331,\n",
       " 'tự': 332,\n",
       " 'pha': 337,\n",
       " 'nhạc': 339,\n",
       " '@': 340,\n",
       " 'chút': 341,\n",
       " 'nhau': 343,\n",
       " 'mèo': 894,\n",
       " 'cần': 349,\n",
       " 'dùng': 356,\n",
       " 'hợp': 430,\n",
       " 'bé': 359,\n",
       " 'thâ': 465,\n",
       " 'trộn': 363,\n",
       " 'chanh': 493,\n",
       " 'thế_là': 800,\n",
       " 'đấy': 364,\n",
       " 'nhạt': 365,\n",
       " 'cảm_thấy': 367,\n",
       " \"'\": 368,\n",
       " '40k': 784,\n",
       " 'lớn': 369,\n",
       " 'dạo': 901,\n",
       " 'bột': 370,\n",
       " 'thức': 371,\n",
       " 'ngô': 798,\n",
       " 'góc': 728,\n",
       " 'viên': 373,\n",
       " 'chịu': 627,\n",
       " 'buổi': 376,\n",
       " 'vụ': 977,\n",
       " 'gửi': 380,\n",
       " 'face_with_tears_of_joy': 378,\n",
       " 'cơ_mà': 797,\n",
       " 'tuần': 381,\n",
       " 'loudly_crying_face': 938,\n",
       " 'đám': 928,\n",
       " 'lòng': 789,\n",
       " 'tiếng': 383,\n",
       " 'lo': 794,\n",
       " 'đẹp_mắt': 761,\n",
       " 'tuy_nhiên': 384,\n",
       " 'khó_chịu': 438,\n",
       " 'xuống': 386,\n",
       " 'vui_vẻ': 418,\n",
       " 'v': 390,\n",
       " 'kha': 394,\n",
       " 'hải_sản': 397,\n",
       " 'xa': 398,\n",
       " 'hoặc': 400,\n",
       " 'quen': 587,\n",
       " 'cua': 405,\n",
       " 'nhưng_mà': 450,\n",
       " 'sự': 474,\n",
       " 'muối': 547,\n",
       " 'tuyệt_vời': 410,\n",
       " 'cửa_hàng': 826,\n",
       " 'đa_dạng': 411,\n",
       " 'sáng': 412,\n",
       " 'phong_phú': 662,\n",
       " 'nổi': 416,\n",
       " 'đừng': 628,\n",
       " 'foody': 419,\n",
       " 'cuối': 420,\n",
       " 'dai': 422,\n",
       " 'phu': 637,\n",
       " 'nhân': 428,\n",
       " 'yên_tĩnh': 429,\n",
       " 'ốc': 431,\n",
       " 'thường': 434,\n",
       " 'dịp': 435,\n",
       " 'hồi': 436,\n",
       " 'hấp': 919,\n",
       " 'vị_trí': 437,\n",
       " 'thật_sự': 441,\n",
       " 'bánh_tráng': 442,\n",
       " 'rủ': 795,\n",
       " 'thạch': 443,\n",
       " 'kia': 444,\n",
       " '~': 695,\n",
       " 'review': 445,\n",
       " 'chi': 447,\n",
       " 'đa': 484,\n",
       " 'cà_phê': 566,\n",
       " 'd': 449,\n",
       " 'phù_hợp': 451,\n",
       " 'phong_cách': 452,\n",
       " 'tặng': 454,\n",
       " 'râ': 459,\n",
       " 'đổi': 461,\n",
       " 'đâ': 847,\n",
       " '30k': 576,\n",
       " 'vô_cùng': 462,\n",
       " 'vui': 463,\n",
       " 'rô': 817,\n",
       " 'khách_hàng': 464,\n",
       " 'sang': 475,\n",
       " 'nay': 476,\n",
       " 'cư': 962,\n",
       " 'trừ': 483,\n",
       " 'heo': 523,\n",
       " '<': 485,\n",
       " 'chậm': 486,\n",
       " 'phim': 724,\n",
       " 'hương_vị': 567,\n",
       " 'nói_chuyện': 511,\n",
       " 'gia_đình': 487,\n",
       " 'thì_phải': 490,\n",
       " 'chín': 892,\n",
       " 'thưởng_thức': 491,\n",
       " 'bingsu': 851,\n",
       " 'chấm': 494,\n",
       " 'điều': 495,\n",
       " 'hehe': 884,\n",
       " 'tây': 838,\n",
       " 'tưởng': 599,\n",
       " 'chè': 496,\n",
       " 'mắm': 965,\n",
       " 'khai_trương': 822,\n",
       " 'hình_như': 497,\n",
       " 'ướp': 499,\n",
       " 'tiệm': 500,\n",
       " 'đặc_sắc': 501,\n",
       " 'ấm_cúng': 504,\n",
       " 'kể': 918,\n",
       " 'bát': 552,\n",
       " 'bụng': 507,\n",
       " 'cốc': 508,\n",
       " 'ti': 591,\n",
       " 'thì_có': 510,\n",
       " 'thiệt': 601,\n",
       " 'học': 512,\n",
       " 'thực_đơn': 869,\n",
       " 'chu_đáo': 513,\n",
       " 'na': 515,\n",
       " 'đô': 516,\n",
       " 'vắng': 518,\n",
       " 'mực': 519,\n",
       " 'chi_nhánh': 520,\n",
       " 'giảm': 521,\n",
       " 'thích_hợp': 522,\n",
       " 'năm': 524,\n",
       " 'hề': 525,\n",
       " 'trả': 592,\n",
       " 'mo': 526,\n",
       " 'vậy_mà': 676,\n",
       " 'thế': 527,\n",
       " 'tok': 961,\n",
       " '10k': 563,\n",
       " 'ảnh': 528,\n",
       " 'mặc_dù': 531,\n",
       " 'coi': 532,\n",
       " 'sợ': 533,\n",
       " 'ta': 538,\n",
       " 'e': 539,\n",
       " 'bill': 689,\n",
       " '20k': 540,\n",
       " 'gạo': 955,\n",
       " 'bao_giờ': 541,\n",
       " 'vỏ': 785,\n",
       " 'hộp': 543,\n",
       " 'sinh_viên': 545,\n",
       " 'chân': 546,\n",
       " 'đươ': 548,\n",
       " 'hợp_khẩu': 908,\n",
       " 'có_lẽ': 549,\n",
       " 'ớt': 693,\n",
       " 'lúc_nào': 550,\n",
       " 'light_skin_tone': 831,\n",
       " 'việc': 555,\n",
       " 'mà_còn': 799,\n",
       " 'tiếp': 558,\n",
       " 'ơi': 880,\n",
       " 'thiếu': 559,\n",
       " 'hà_nội': 991,\n",
       " 'địa_điểm': 560,\n",
       " 'nấu': 561,\n",
       " 'đen': 562,\n",
       " 'í': 564,\n",
       " 'kém': 565,\n",
       " 'quán_ăn': 569,\n",
       " 'tay': 573,\n",
       " 'eyes': 577,\n",
       " 'cảm_nhận': 578,\n",
       " 'gặp': 579,\n",
       " 'chính': 581,\n",
       " 'đậm': 582,\n",
       " 'mưa': 649,\n",
       " 'buffet': 583,\n",
       " 'cười': 723,\n",
       " 'cây': 584,\n",
       " 'bây_giờ': 812,\n",
       " 'uô': 730,\n",
       " 'sườn': 585,\n",
       " 'yêu_cầu': 907,\n",
       " 'ngắm': 699,\n",
       " 'mãi': 586,\n",
       " 'phía': 589,\n",
       " 'tất_cả': 590,\n",
       " 'vi': 593,\n",
       " 'cháo': 694,\n",
       " 'chú': 594,\n",
       " 'vơ': 595,\n",
       " 'phút': 596,\n",
       " 'dắt': 639,\n",
       " '20': 624,\n",
       " 'chấp_nhận': 597,\n",
       " 'ngoài_ra': 600,\n",
       " 'thiết_kế': 806,\n",
       " 'smiling_face_with_heart': 602,\n",
       " 'khăn': 946,\n",
       " 'hay_sao': 752,\n",
       " 'nhanh_nhẹn': 606,\n",
       " 'sang_trọng': 607,\n",
       " 'hẻm': 608,\n",
       " 'ghế': 609,\n",
       " 'nhiê': 610,\n",
       " 'có_điều': 611,\n",
       " 'địa_chỉ': 942,\n",
       " 'bt': 781,\n",
       " 'set': 612,\n",
       " 'đỡ': 780,\n",
       " '5k': 670,\n",
       " 'bắt_mắt': 615,\n",
       " 'nửa': 616,\n",
       " 'bình_dân': 617,\n",
       " 'thực_sự': 618,\n",
       " 'hoa': 619,\n",
       " 'câu': 621,\n",
       " 'cuối_cùng': 657,\n",
       " 'xíu': 622,\n",
       " 'bà': 623,\n",
       " 'quản_lý': 625,\n",
       " 'trả_lời': 626,\n",
       " 'cuốn': 629,\n",
       " 'lựa_chọn': 630,\n",
       " 'ưng': 631,\n",
       " 'căng': 980,\n",
       " 'dọn': 634,\n",
       " 'hẳn': 635,\n",
       " 'bàn_ghế': 636,\n",
       " 'chai': 638,\n",
       " 'cuộn': 640,\n",
       " '35k': 736,\n",
       " 'cứng': 641,\n",
       " 'dê': 681,\n",
       " 'nươ': 642,\n",
       " 'thư': 644,\n",
       " 'thế_nào': 645,\n",
       " '15k': 646,\n",
       " 'kim_chi': 647,\n",
       " 'đầy': 648,\n",
       " 'ép': 903,\n",
       " 'trông': 650,\n",
       " 'lâu_lâu': 939,\n",
       " 'ha': 652,\n",
       " 'tra': 653,\n",
       " 'vu': 658,\n",
       " 'mắt': 773,\n",
       " 'trc': 660,\n",
       " '8': 663,\n",
       " 'ghê': 664,\n",
       " 'hẹn': 999,\n",
       " 'tương': 667,\n",
       " 'tận': 669,\n",
       " 'cũ': 671,\n",
       " 'mức': 673,\n",
       " 'ủng_hộ': 678,\n",
       " '25k': 679,\n",
       " 'trung_tâm': 682,\n",
       " 'yêu': 684,\n",
       " 'nêm': 686,\n",
       " 'dịch_vụ': 690,\n",
       " 'dài_dài': 916,\n",
       " 'xoài': 691,\n",
       " 'mặt_bằng': 970,\n",
       " 'bảo_vệ': 692,\n",
       " 'dám': 696,\n",
       " 'lát': 755,\n",
       " 'cực_kỳ': 697,\n",
       " 'dâu': 701,\n",
       " 'thẻ': 725,\n",
       " 'bia': 711,\n",
       " 'vừa_phải': 712,\n",
       " 'sớm': 717,\n",
       " 'phở': 714,\n",
       " 'hàn': 715,\n",
       " 'wifi': 718,\n",
       " 'tết': 719,\n",
       " 'mê': 721,\n",
       " 'mỡ': 722,\n",
       " 'xiên': 726,\n",
       " 'cũng_như': 727,\n",
       " 'khoai': 793,\n",
       " 'vé': 733,\n",
       " 'cho_biết': 731,\n",
       " 'ghiền': 732,\n",
       " 'miệng': 734,\n",
       " 'dẻo': 738,\n",
       " 'socola': 739,\n",
       " 'xin_lỗi': 740,\n",
       " 'nam': 741,\n",
       " 'chu': 743,\n",
       " 'kinh_khủng': 745,\n",
       " 'nho': 747,\n",
       " 'thành': 749,\n",
       " 'phí': 754,\n",
       " 'thay': 824,\n",
       " 'đo': 787,\n",
       " '15': 756,\n",
       " 'hạt': 757,\n",
       " 'chát': 758,\n",
       " 'gỏi': 875,\n",
       " 'sữa_chua': 759,\n",
       " 'đắng': 760,\n",
       " 'nhẹ': 926,\n",
       " 'ngậy': 857,\n",
       " 'nư': 762,\n",
       " 'bắp': 763,\n",
       " 'chocolate': 805,\n",
       " 'cổ': 769,\n",
       " 'dơ': 771,\n",
       " 'go': 772,\n",
       " 'bi': 774,\n",
       " 'mà_lại': 775,\n",
       " 'tiê': 778,\n",
       " 'đơn_giản': 779,\n",
       " 'gia_vị': 782,\n",
       " 'nhắc': 786,\n",
       " 'kho': 816,\n",
       " 'giảm_giá': 788,\n",
       " 's': 790,\n",
       " 'trường': 791,\n",
       " 'biển': 796,\n",
       " 'lạt': 801,\n",
       " 'đánh_giá': 803,\n",
       " 'bắt': 804,\n",
       " 'châ': 954,\n",
       " 'red_heart': 810,\n",
       " 'ếch': 818,\n",
       " 'quảng_cáo': 820,\n",
       " 'đầy_đủ': 823,\n",
       " 'người_ta': 825,\n",
       " 'nhất_định': 828,\n",
       " 'quá_trời': 829,\n",
       " 'phố': 911,\n",
       " 'khác_nhau': 830,\n",
       " 'nguội': 834,\n",
       " 'bù': 836,\n",
       " 'se': 855,\n",
       " 'bao_nhiêu': 840,\n",
       " 'chế_biến': 841,\n",
       " 'nước_dùng': 842,\n",
       " 'hồng': 959,\n",
       " 'hợp_lí': 844,\n",
       " 'trắng': 845,\n",
       " 'nhầm': 850,\n",
       " 'rạp': 852,\n",
       " 'giấy': 854,\n",
       " 'ồn_ào': 856,\n",
       " 'tháng': 863,\n",
       " 'dễ_chịu': 866,\n",
       " 'vâ': 868,\n",
       " 'kiếm': 872,\n",
       " 'nổi_tiếng': 874,\n",
       " 'kế': 877,\n",
       " 'biê': 949,\n",
       " 'tương_đối': 878,\n",
       " 'xinh': 879,\n",
       " 'bình': 886,\n",
       " 'soda': 887,\n",
       " 'me': 889,\n",
       " 'hút': 915,\n",
       " 'gồm': 891,\n",
       " 'chảnh': 893,\n",
       " 'bộ': 895,\n",
       " 'tan': 898,\n",
       " 'mỏng': 902,\n",
       " 'dài': 904,\n",
       " 'nem': 906,\n",
       " 'gói': 910,\n",
       " 'quận': 912,\n",
       " 'anh_chị': 913,\n",
       " 'trở_lại': 914,\n",
       " 'bực': 917,\n",
       " 'khu_vực': 923,\n",
       " 'phomai': 924,\n",
       " 'rang': 931,\n",
       " 'lă': 932,\n",
       " 'kịp': 967,\n",
       " 'định': 934,\n",
       " 'lá': 935,\n",
       " 'tui': 936,\n",
       " 'bự': 937,\n",
       " 'rán': 940,\n",
       " 'minh': 941,\n",
       " 'sợi': 944,\n",
       " 'bo': 945,\n",
       " 'cầm': 950,\n",
       " 'lẫn': 951,\n",
       " 'đành': 952,\n",
       " 'in': 953,\n",
       " 'beaming_face_with_smiling_eyes': 957,\n",
       " 'cũg': 958,\n",
       " 'thui': 960,\n",
       " 'tiramisu': 968,\n",
       " 'thú_vị': 969,\n",
       " 'lạ_miệng': 971,\n",
       " 'việt': 972,\n",
       " 'ga': 973,\n",
       " 'một_số': 974,\n",
       " 'buồn': 979,\n",
       " 'qán': 990,\n",
       " 'bở': 985,\n",
       " 'mời': 987,\n",
       " 'sa': 988,\n",
       " 'viết': 994,\n",
       " 'nữa_là': 997,\n",
       " 'đặc_trưng': 998}"
      ]
     },
     "execution_count": 87,
     "metadata": {},
     "output_type": "execute_result"
    }
   ],
   "source": [
    "test = torch.load(\"vocab_textCNN.pth\")\n",
    "test.get_stoi()"
   ]
  },
  {
   "cell_type": "code",
   "execution_count": 88,
   "metadata": {},
   "outputs": [
    {
     "data": {
      "text/plain": [
       "OrderedDict([('embedding.weight',\n",
       "              tensor([[ 0.0000,  0.0000,  0.0000,  ...,  0.0000,  0.0000,  0.0000],\n",
       "                      [ 1.7296, -1.1209, -1.0091,  ...,  0.7036,  1.8854, -0.1967],\n",
       "                      [ 0.9080, -0.2692, -0.1144,  ..., -0.8882, -0.2626, -0.4553],\n",
       "                      ...,\n",
       "                      [-1.0551, -1.0626, -1.1504,  ..., -0.5115,  0.1068, -1.0188],\n",
       "                      [ 1.8321, -0.1699, -0.6155,  ...,  1.5489,  1.0440,  0.8671],\n",
       "                      [-0.1939,  0.7997,  0.5947,  ..., -0.5255, -0.5999,  0.5874]])),\n",
       "             ('conv.0.weight',\n",
       "              tensor([[[ 1.6359e-02,  1.2142e-02],\n",
       "                       [-1.9987e-03,  4.6528e-02],\n",
       "                       [ 9.3783e-02, -8.6526e-02],\n",
       "                       ...,\n",
       "                       [-7.1771e-03, -4.8447e-03],\n",
       "                       [-3.8817e-02,  2.2572e-02],\n",
       "                       [ 3.4391e-03,  4.6408e-05]],\n",
       "              \n",
       "                      [[ 2.3744e-02, -5.3447e-02],\n",
       "                       [-2.0267e-02, -4.7278e-02],\n",
       "                       [ 1.0026e-01,  6.9802e-02],\n",
       "                       ...,\n",
       "                       [-9.3122e-02,  1.3779e-02],\n",
       "                       [-4.1644e-02, -8.0980e-02],\n",
       "                       [-4.9305e-02,  5.9252e-02]],\n",
       "              \n",
       "                      [[-4.8935e-04, -8.1314e-02],\n",
       "                       [-5.4983e-02, -2.9301e-02],\n",
       "                       [-3.6819e-03,  5.7412e-02],\n",
       "                       ...,\n",
       "                       [ 4.4873e-02,  1.6686e-03],\n",
       "                       [ 3.8533e-02, -3.8923e-02],\n",
       "                       [ 6.7023e-02,  4.1454e-02]],\n",
       "              \n",
       "                      ...,\n",
       "              \n",
       "                      [[ 3.2076e-02, -5.5970e-02],\n",
       "                       [-6.7309e-02,  7.5136e-02],\n",
       "                       [ 3.7955e-02,  3.6026e-02],\n",
       "                       ...,\n",
       "                       [-8.3632e-03, -4.8088e-02],\n",
       "                       [-8.3850e-02, -9.1301e-02],\n",
       "                       [-2.4455e-03,  7.3460e-02]],\n",
       "              \n",
       "                      [[-4.1633e-02,  2.7708e-02],\n",
       "                       [-1.2254e-03,  3.5036e-02],\n",
       "                       [ 1.6450e-02,  6.6856e-02],\n",
       "                       ...,\n",
       "                       [ 6.7432e-02, -9.2052e-03],\n",
       "                       [-1.2548e-01, -1.0255e-02],\n",
       "                       [-4.4195e-02, -1.7095e-02]],\n",
       "              \n",
       "                      [[-1.8123e-02, -4.1687e-02],\n",
       "                       [ 1.6899e-02,  2.1574e-02],\n",
       "                       [-6.4489e-02,  1.0096e-01],\n",
       "                       ...,\n",
       "                       [ 5.4504e-02, -1.5407e-02],\n",
       "                       [ 2.8849e-02, -2.4059e-03],\n",
       "                       [ 4.4058e-02,  9.8490e-03]]])),\n",
       "             ('conv.0.bias',\n",
       "              tensor([-7.3075e-02,  4.0843e-02, -6.8583e-02, -2.1241e-02, -3.2031e-03,\n",
       "                      -3.1964e-03,  1.7377e-02, -3.1196e-02, -3.3434e-02, -1.7314e-02,\n",
       "                      -2.4054e-02,  2.6759e-02, -5.3332e-03, -1.7870e-02, -4.4087e-02,\n",
       "                      -5.4174e-02,  4.9854e-02, -5.7652e-02, -1.7459e-02,  6.0584e-03,\n",
       "                       3.8825e-03, -9.1092e-02, -1.9113e-02,  2.5126e-02,  8.7253e-03,\n",
       "                       5.6792e-02,  5.4820e-02,  5.9611e-02,  6.3283e-03,  1.9543e-02,\n",
       "                      -6.9785e-02,  2.8080e-02,  8.9200e-03, -4.7186e-02,  1.7581e-02,\n",
       "                       2.7582e-02, -1.7510e-02,  2.4742e-02,  3.5185e-02,  5.3960e-02,\n",
       "                       6.2569e-02, -3.7829e-02, -1.4528e-03, -3.6518e-02,  2.9254e-03,\n",
       "                      -2.3086e-02, -5.5980e-02, -5.1244e-02,  1.9611e-02,  9.1591e-03,\n",
       "                      -4.6115e-02, -1.0232e-03,  1.9482e-02,  6.2361e-02, -3.6990e-02,\n",
       "                      -2.5242e-02, -5.3523e-02, -2.5960e-02,  2.3292e-02,  2.6684e-02,\n",
       "                       1.0101e-02, -1.2481e-03, -6.8173e-02, -8.0805e-02,  5.6166e-02,\n",
       "                      -2.9081e-02, -9.9137e-05,  3.9434e-02, -4.0436e-02,  4.7777e-02,\n",
       "                      -6.5774e-02,  2.6280e-02,  5.2103e-02,  3.8218e-02, -3.9023e-02,\n",
       "                      -2.5560e-02,  5.1381e-03, -5.3901e-02,  2.0869e-02,  4.8508e-02,\n",
       "                       2.5970e-03,  1.6005e-02, -5.2752e-02,  4.0831e-02,  3.9863e-02,\n",
       "                       5.3967e-02,  6.2191e-02, -1.1080e-03, -5.2233e-02,  9.1730e-03,\n",
       "                      -5.7651e-02,  6.5387e-02, -4.0433e-02, -6.0548e-02,  5.8732e-02,\n",
       "                       5.2552e-02, -6.1596e-02,  2.8690e-02, -7.5276e-02, -3.6592e-02])),\n",
       "             ('conv.1.weight',\n",
       "              tensor([[[ 0.0559, -0.0227, -0.0008],\n",
       "                       [ 0.0260, -0.0033,  0.0082],\n",
       "                       [-0.0302,  0.0449, -0.0331],\n",
       "                       ...,\n",
       "                       [-0.0575,  0.0570,  0.0034],\n",
       "                       [-0.0830, -0.0319,  0.0200],\n",
       "                       [ 0.0119, -0.0157, -0.0050]],\n",
       "              \n",
       "                      [[ 0.0749, -0.0074, -0.0562],\n",
       "                       [-0.0250, -0.0230,  0.0513],\n",
       "                       [-0.0679,  0.0195, -0.0717],\n",
       "                       ...,\n",
       "                       [-0.0320,  0.0648, -0.0551],\n",
       "                       [-0.0272,  0.0045,  0.0218],\n",
       "                       [-0.1023, -0.0254,  0.0701]],\n",
       "              \n",
       "                      [[-0.0391,  0.0098, -0.0477],\n",
       "                       [-0.0185, -0.0646, -0.0266],\n",
       "                       [-0.0520, -0.0519,  0.0608],\n",
       "                       ...,\n",
       "                       [ 0.0303, -0.0822, -0.0147],\n",
       "                       [-0.0412,  0.0735, -0.0285],\n",
       "                       [ 0.0320, -0.0351,  0.0617]],\n",
       "              \n",
       "                      ...,\n",
       "              \n",
       "                      [[-0.0467, -0.0491, -0.0921],\n",
       "                       [ 0.0399,  0.0706, -0.0308],\n",
       "                       [-0.0847, -0.0235,  0.0749],\n",
       "                       ...,\n",
       "                       [-0.0255,  0.0506,  0.0411],\n",
       "                       [ 0.0127,  0.0320, -0.0216],\n",
       "                       [ 0.0424, -0.0067,  0.0354]],\n",
       "              \n",
       "                      [[ 0.0284, -0.0185, -0.0297],\n",
       "                       [-0.0467, -0.0366,  0.0380],\n",
       "                       [ 0.0194, -0.1004,  0.0134],\n",
       "                       ...,\n",
       "                       [-0.0191, -0.0445,  0.0405],\n",
       "                       [ 0.0381, -0.0220, -0.0971],\n",
       "                       [-0.0478,  0.0574,  0.0106]],\n",
       "              \n",
       "                      [[-0.1016,  0.0376,  0.0029],\n",
       "                       [ 0.0588,  0.0587, -0.0775],\n",
       "                       [ 0.0297,  0.0047,  0.0314],\n",
       "                       ...,\n",
       "                       [-0.0065, -0.0023,  0.0470],\n",
       "                       [ 0.0653,  0.0622, -0.0635],\n",
       "                       [-0.1044, -0.0078,  0.0330]]])),\n",
       "             ('conv.1.bias',\n",
       "              tensor([ 4.9013e-02, -5.0055e-02, -6.6930e-02, -7.0016e-05, -3.5529e-02,\n",
       "                       2.7884e-02, -5.4357e-02,  1.8109e-02, -5.2933e-02, -3.5889e-02,\n",
       "                      -4.5239e-02,  2.3227e-03, -4.4520e-02, -3.1093e-02, -2.0952e-02,\n",
       "                       3.7911e-03, -3.3909e-02, -5.2524e-02,  2.9973e-02,  4.5680e-02,\n",
       "                      -1.7733e-02,  1.7236e-02, -2.6198e-02,  5.6809e-02, -5.4231e-02,\n",
       "                       2.6844e-02, -5.1563e-02, -1.0830e-02,  1.1847e-02,  5.5074e-03,\n",
       "                      -7.6483e-05,  5.1102e-03,  4.7172e-02, -2.0301e-02,  3.6704e-02,\n",
       "                       1.0991e-02, -1.9020e-02, -5.4473e-02,  2.3500e-02, -6.2305e-03,\n",
       "                       5.3404e-02,  2.8307e-02, -5.3554e-02, -1.0091e-04, -4.2473e-02,\n",
       "                      -2.9206e-02, -6.5094e-02,  1.4725e-02, -4.8740e-02, -1.6076e-03,\n",
       "                      -5.1269e-02, -4.2485e-02, -1.4011e-02, -4.3239e-02, -1.1928e-02,\n",
       "                       5.9418e-03,  2.2767e-02,  4.8648e-02,  1.4233e-02, -3.0657e-02,\n",
       "                      -3.0560e-03,  1.5664e-02,  7.0295e-03, -5.1135e-02, -5.0396e-02,\n",
       "                      -1.3921e-02,  7.6545e-04, -6.3057e-03, -2.5163e-03, -5.0154e-02,\n",
       "                      -5.2687e-02, -3.2931e-02,  4.0036e-02,  3.6947e-02, -4.6343e-02,\n",
       "                       1.5648e-02, -4.9786e-02, -1.6616e-02,  6.6941e-03,  2.5082e-02,\n",
       "                      -3.8513e-02, -2.8926e-02,  6.6645e-03,  4.0153e-02,  3.7041e-02,\n",
       "                      -5.6231e-02, -1.7913e-02, -3.5451e-03, -2.4753e-02, -7.2353e-02,\n",
       "                       3.7945e-02, -3.4645e-03, -3.1673e-02,  3.8930e-02,  3.1615e-02,\n",
       "                      -3.1573e-02, -6.9091e-03, -5.6615e-02,  3.0857e-02, -2.1531e-02])),\n",
       "             ('conv.2.weight',\n",
       "              tensor([[[ 0.0443, -0.0157,  0.0439, -0.0040],\n",
       "                       [ 0.0809,  0.0138, -0.0176, -0.0002],\n",
       "                       [-0.0176,  0.0151,  0.0278,  0.0223],\n",
       "                       ...,\n",
       "                       [ 0.0220,  0.0652, -0.0454,  0.0433],\n",
       "                       [-0.0271,  0.0287,  0.0083,  0.0546],\n",
       "                       [-0.0412,  0.0808, -0.0677, -0.0421]],\n",
       "              \n",
       "                      [[ 0.0236,  0.0090, -0.0310,  0.0794],\n",
       "                       [ 0.0105, -0.0251,  0.0635,  0.0423],\n",
       "                       [-0.0155, -0.0508, -0.0783, -0.0712],\n",
       "                       ...,\n",
       "                       [ 0.0849, -0.0740, -0.0598, -0.0286],\n",
       "                       [ 0.0368, -0.0776,  0.0193,  0.0125],\n",
       "                       [-0.0413,  0.0015, -0.0223, -0.0076]],\n",
       "              \n",
       "                      [[ 0.0738, -0.0554, -0.0656, -0.0029],\n",
       "                       [-0.0100,  0.0127,  0.0910, -0.0569],\n",
       "                       [ 0.0361,  0.0167, -0.0253, -0.0642],\n",
       "                       ...,\n",
       "                       [ 0.0299, -0.0319,  0.0145, -0.0332],\n",
       "                       [ 0.0942, -0.0087, -0.0053, -0.0580],\n",
       "                       [-0.0273, -0.0333, -0.0881, -0.0375]],\n",
       "              \n",
       "                      ...,\n",
       "              \n",
       "                      [[ 0.0303, -0.0207, -0.0045, -0.0475],\n",
       "                       [-0.0470,  0.0647,  0.0139,  0.0375],\n",
       "                       [-0.0637, -0.0359,  0.0460,  0.0408],\n",
       "                       ...,\n",
       "                       [-0.0709,  0.0152,  0.0538, -0.0881],\n",
       "                       [ 0.0505, -0.0437,  0.0398, -0.0076],\n",
       "                       [ 0.0120, -0.0510,  0.0428, -0.0249]],\n",
       "              \n",
       "                      [[-0.0334, -0.0009,  0.0326, -0.0368],\n",
       "                       [-0.0355, -0.0072,  0.0175, -0.0274],\n",
       "                       [-0.0354, -0.0742, -0.0799, -0.0043],\n",
       "                       ...,\n",
       "                       [ 0.0304, -0.0874,  0.0339, -0.0176],\n",
       "                       [ 0.0437,  0.0171, -0.0002,  0.0588],\n",
       "                       [-0.0482, -0.0089, -0.0046,  0.0178]],\n",
       "              \n",
       "                      [[-0.0283,  0.0114, -0.0382, -0.0028],\n",
       "                       [ 0.0388, -0.0291, -0.0148,  0.0561],\n",
       "                       [-0.0724,  0.0756, -0.0158, -0.0142],\n",
       "                       ...,\n",
       "                       [-0.0044, -0.0172,  0.0030,  0.0535],\n",
       "                       [-0.0292, -0.0663,  0.0631, -0.0191],\n",
       "                       [ 0.0650, -0.0087, -0.0206, -0.0512]]])),\n",
       "             ('conv.2.bias',\n",
       "              tensor([-0.0258, -0.0243,  0.0391, -0.0387, -0.0406, -0.0297, -0.0051,  0.0253,\n",
       "                      -0.0319, -0.0319, -0.0557,  0.0478,  0.0311, -0.0423, -0.0047, -0.0533,\n",
       "                       0.0400,  0.0418, -0.0468,  0.0245,  0.0025,  0.0076, -0.0174, -0.0204,\n",
       "                      -0.0042, -0.0020, -0.0234,  0.0115,  0.0269, -0.0328, -0.0241, -0.0405,\n",
       "                       0.0033,  0.0029,  0.0427, -0.0054,  0.0399, -0.0653, -0.0259,  0.0286,\n",
       "                       0.0146, -0.0495, -0.0187, -0.0526, -0.0439, -0.0012,  0.0358, -0.0069,\n",
       "                      -0.0030, -0.0534, -0.0242,  0.0102, -0.0217, -0.0028, -0.0328, -0.0330,\n",
       "                       0.0370, -0.0565, -0.0222, -0.0431,  0.0095, -0.0243, -0.0391, -0.0413,\n",
       "                      -0.0187,  0.0256, -0.0179, -0.0418, -0.0410, -0.0530, -0.0273, -0.0263,\n",
       "                       0.0252, -0.0116, -0.0350,  0.0190, -0.0491,  0.0307,  0.0044, -0.0609,\n",
       "                       0.0150,  0.0467, -0.0461, -0.0121,  0.0260, -0.0392, -0.0416, -0.0369,\n",
       "                      -0.0368,  0.0082, -0.0044,  0.0336,  0.0055, -0.0037,  0.0134,  0.0024,\n",
       "                       0.0075,  0.0410, -0.0528,  0.0285])),\n",
       "             ('fc.weight',\n",
       "              tensor([[-0.0016, -0.0703, -0.0227, -0.0374, -0.0382,  0.0464, -0.0607, -0.0563,\n",
       "                        0.0736, -0.0771, -0.0706,  0.0184, -0.0053, -0.0402,  0.0750, -0.0325,\n",
       "                       -0.0396, -0.0530, -0.0221,  0.0335,  0.0588, -0.0231, -0.0415,  0.0665,\n",
       "                        0.0043,  0.0037,  0.0559, -0.0702,  0.0769,  0.0457, -0.0135,  0.0546,\n",
       "                       -0.0152,  0.0228,  0.0696,  0.0200, -0.0555,  0.0417, -0.0120, -0.0691,\n",
       "                       -0.0075,  0.0453, -0.0696,  0.0601,  0.0014,  0.0757, -0.0539,  0.0507,\n",
       "                        0.0840,  0.0640, -0.0658,  0.0756, -0.0724,  0.0326, -0.0631,  0.0242,\n",
       "                        0.0768,  0.0327, -0.0350,  0.0404, -0.0182,  0.0668,  0.0690, -0.0376,\n",
       "                        0.0132, -0.0536, -0.0211, -0.0399, -0.0507, -0.0503, -0.0442,  0.0668,\n",
       "                        0.0180,  0.0721, -0.0671, -0.0375, -0.0375,  0.0377, -0.0637,  0.0531,\n",
       "                       -0.0783,  0.0818,  0.0392, -0.0625,  0.0750,  0.0316, -0.0594,  0.0401,\n",
       "                       -0.0528, -0.0638,  0.0179,  0.0514,  0.0240,  0.0303, -0.0407,  0.0505,\n",
       "                        0.0712, -0.0689, -0.0180, -0.0839, -0.0265, -0.0573, -0.0560, -0.0622,\n",
       "                       -0.0426,  0.0013,  0.0005,  0.0282,  0.0569, -0.0385,  0.0429,  0.0109,\n",
       "                        0.0174, -0.0503, -0.0640,  0.0227,  0.0590, -0.0168, -0.0220, -0.0728,\n",
       "                       -0.0040,  0.0450, -0.0495,  0.0689,  0.0495, -0.0625,  0.0059,  0.0685,\n",
       "                       -0.0506,  0.0381,  0.0497, -0.0479, -0.0680,  0.0827, -0.0597,  0.0057,\n",
       "                       -0.0628, -0.0892, -0.0167, -0.0797,  0.0771, -0.0737,  0.0749,  0.0784,\n",
       "                       -0.0654,  0.0344,  0.0081, -0.0036, -0.0303,  0.0317, -0.0533, -0.0735,\n",
       "                       -0.0019,  0.0600,  0.0581,  0.0806,  0.0722,  0.0714,  0.0738, -0.0448,\n",
       "                       -0.0226,  0.0541,  0.0327, -0.0515,  0.0478, -0.0831, -0.0453, -0.0219,\n",
       "                        0.0816, -0.0631,  0.0474, -0.0094, -0.0642,  0.0319,  0.0003,  0.0015,\n",
       "                        0.0258,  0.0164, -0.0546, -0.0693, -0.0250,  0.0862,  0.0495, -0.0807,\n",
       "                       -0.0171, -0.0356,  0.0562,  0.0736,  0.0266, -0.0596, -0.0296, -0.0048,\n",
       "                       -0.0370, -0.0360, -0.0362,  0.0514,  0.0523,  0.0503, -0.0042,  0.0170,\n",
       "                       -0.0721,  0.0393,  0.0306, -0.0639,  0.0628,  0.0277,  0.0436,  0.0010,\n",
       "                       -0.0598, -0.0448, -0.0276,  0.0490,  0.0828, -0.0675,  0.0094, -0.0719,\n",
       "                        0.0798,  0.0385, -0.0286, -0.0733,  0.0522, -0.0611,  0.0039, -0.0608,\n",
       "                       -0.0654, -0.0132, -0.0597,  0.0516,  0.0562,  0.0166, -0.0678,  0.0455,\n",
       "                       -0.0401,  0.0789, -0.0753, -0.0456,  0.0605, -0.0055, -0.0817, -0.0398,\n",
       "                        0.0133,  0.0183, -0.0681, -0.0421, -0.0893, -0.0668,  0.0061,  0.0607,\n",
       "                        0.0329, -0.0664,  0.0484, -0.0395,  0.0287, -0.0093, -0.0438, -0.0448,\n",
       "                        0.0648, -0.0100, -0.0136,  0.0252, -0.0737,  0.0286, -0.0300, -0.0593,\n",
       "                        0.0091,  0.0651,  0.0634, -0.0565, -0.0713,  0.0077,  0.0537,  0.0432,\n",
       "                        0.0325, -0.0616, -0.0052, -0.0433, -0.0402,  0.0006,  0.0560, -0.0770,\n",
       "                        0.0073,  0.0652,  0.0869, -0.0001,  0.0507,  0.0362,  0.0449,  0.0018,\n",
       "                        0.0253, -0.0332,  0.0009, -0.0610, -0.0679, -0.0261,  0.0765, -0.0788,\n",
       "                       -0.0748,  0.0495, -0.0462,  0.0659],\n",
       "                      [ 0.0676,  0.0613,  0.0714,  0.0377,  0.0082, -0.0569,  0.0591,  0.0703,\n",
       "                       -0.0366, -0.0017,  0.0391,  0.0755, -0.0636,  0.0367,  0.0276, -0.0640,\n",
       "                        0.0176,  0.0388,  0.0521, -0.0581, -0.0601,  0.0554,  0.0192, -0.0366,\n",
       "                       -0.0210, -0.0724, -0.0727,  0.0732, -0.0080, -0.0113,  0.0469, -0.0363,\n",
       "                        0.0430,  0.0876,  0.0020,  0.0643,  0.0409, -0.0757,  0.0418,  0.0192,\n",
       "                       -0.0831, -0.0276,  0.0156,  0.0123,  0.0830, -0.0629,  0.0559, -0.0596,\n",
       "                       -0.0265, -0.0209, -0.0093, -0.0174,  0.0087, -0.0361,  0.0380,  0.0767,\n",
       "                        0.0005, -0.0186,  0.0396, -0.0805,  0.0518, -0.0572,  0.0125,  0.0502,\n",
       "                       -0.0428,  0.0551, -0.0776,  0.0176,  0.0438,  0.0297,  0.0255, -0.0305,\n",
       "                       -0.0717, -0.0600, -0.0140,  0.0600,  0.0510, -0.0688, -0.0062, -0.0647,\n",
       "                        0.0213,  0.0126, -0.0738,  0.0578, -0.0556, -0.0667,  0.0621, -0.0631,\n",
       "                        0.0491,  0.0541,  0.0636, -0.0608,  0.0801, -0.0695,  0.0202, -0.0565,\n",
       "                        0.0122,  0.0655, -0.0586, -0.0112,  0.0303,  0.0736,  0.0011,  0.0072,\n",
       "                        0.0399,  0.0572, -0.0756, -0.0726, -0.0006,  0.0513, -0.0328, -0.0754,\n",
       "                       -0.0518,  0.0345,  0.0561,  0.0802, -0.0295, -0.0959,  0.0447,  0.0111,\n",
       "                        0.0611, -0.0431,  0.0672, -0.0562, -0.0634,  0.0627, -0.0737, -0.0173,\n",
       "                        0.0275, -0.0328, -0.0638,  0.0353,  0.0540, -0.0530,  0.0067,  0.0534,\n",
       "                        0.0650, -0.0123,  0.0394,  0.0623, -0.0080,  0.0282, -0.0512, -0.0665,\n",
       "                        0.0649, -0.0242,  0.0745,  0.0523,  0.0733, -0.0622, -0.0057,  0.0483,\n",
       "                       -0.0499, -0.0582, -0.0396, -0.0608, -0.0348, -0.0241, -0.0434, -0.0588,\n",
       "                       -0.0860, -0.0134, -0.0784,  0.0183, -0.0567,  0.0453,  0.0807,  0.0542,\n",
       "                       -0.0800,  0.0230, -0.0310, -0.0660,  0.0184, -0.0611,  0.0604,  0.0791,\n",
       "                        0.0658,  0.0615,  0.0061,  0.0032,  0.0350,  0.0133, -0.0764,  0.0314,\n",
       "                        0.0493,  0.0381, -0.0727, -0.0104, -0.0708, -0.0061,  0.0731, -0.0610,\n",
       "                        0.0464,  0.0231,  0.0274, -0.0296, -0.0059, -0.0179, -0.0851, -0.0772,\n",
       "                        0.0162, -0.0512, -0.0865, -0.0064, -0.0500, -0.0685, -0.0533, -0.0801,\n",
       "                        0.0516,  0.0612,  0.0595, -0.0559,  0.0049,  0.0002, -0.0424,  0.0185,\n",
       "                       -0.0533, -0.0562,  0.0735,  0.0030, -0.0492,  0.0241,  0.0822,  0.0756,\n",
       "                        0.0609,  0.0686,  0.0478, -0.0571, -0.0585, -0.0610,  0.0157, -0.0572,\n",
       "                        0.0190,  0.0069,  0.0787,  0.0267, -0.0010,  0.0689,  0.0293,  0.0257,\n",
       "                       -0.0761,  0.0778,  0.0730,  0.0427, -0.0102,  0.0382,  0.0774, -0.0746,\n",
       "                       -0.0584,  0.0171, -0.0745,  0.0785, -0.0650,  0.0470,  0.0706,  0.0481,\n",
       "                       -0.0027,  0.0610, -0.0730, -0.0614, -0.0036, -0.0423,  0.0714,  0.0154,\n",
       "                       -0.0463, -0.0366, -0.0128,  0.0605, -0.0081,  0.0959, -0.0682, -0.0705,\n",
       "                       -0.0700,  0.0882,  0.0730,  0.0370,  0.0299, -0.0726, -0.0668, -0.0136,\n",
       "                       -0.0561, -0.0066, -0.0558, -0.0556, -0.0639, -0.0315, -0.0568,  0.0709,\n",
       "                       -0.0922,  0.0603, -0.0449,  0.0137,  0.0016,  0.0625, -0.0440,  0.0669,\n",
       "                       -0.0012, -0.0793,  0.0460, -0.0409]])),\n",
       "             ('fc.bias', tensor([ 0.0391, -0.0443]))])"
      ]
     },
     "execution_count": 88,
     "metadata": {},
     "output_type": "execute_result"
    }
   ],
   "source": [
    "model_loaded = torch.load(save_model + \"/textCNN_best_model.pt\")\n",
    "model_loaded"
   ]
  },
  {
   "cell_type": "code",
   "execution_count": null,
   "metadata": {},
   "outputs": [],
   "source": []
  }
 ],
 "metadata": {
  "kernelspec": {
   "display_name": "base",
   "language": "python",
   "name": "python3"
  },
  "language_info": {
   "codemirror_mode": {
    "name": "ipython",
    "version": 3
   },
   "file_extension": ".py",
   "mimetype": "text/x-python",
   "name": "python",
   "nbconvert_exporter": "python",
   "pygments_lexer": "ipython3",
   "version": "3.12.7"
  }
 },
 "nbformat": 4,
 "nbformat_minor": 2
}
